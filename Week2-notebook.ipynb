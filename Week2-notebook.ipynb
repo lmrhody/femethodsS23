{
  "cells": [
    {
      "cell_type": "markdown",
      "metadata": {
        "id": "gdt0sPtZxrO7"
      },
      "source": [
        "# Week 2: Getting Started with Jupyter and Google Collaboratory"
      ]
    },
    {
      "cell_type": "markdown",
      "metadata": {
        "id": "bXrIB5F5xrO9"
      },
      "source": [
        "# Introduction \n",
        "\n",
        "Each week, I'll ask you to fill out the information at the top of the notebook so that I can easily find your information and give you credit for the assignment. This year we will start using Google Collaboratory. There are several technologies stacked here, so it's ok if it feels confusing--that's because it is a little. \n",
        "\n",
        "First, Jupyter Notebooks (once called Python Notebooks, and I apologize if I slip when I'm referring to them sometimes) is a simplified, partially graphical way of running Python using the browser. It allows you to integrate markdown (or text) alongside code snippets, and the code can be executed directly in a browser window. That means that you're running a little Python kernal (like a mini server) in the background of your computer. Google Colab (or Collaboratory) takes Jupyter notebooks and expands on it, allowint you to work in a computational environment just like Jupyter notebooks, but using Google's computing power and in a way that can be directly saved like your any Google doc using Google Drive. \n",
        "\n",
        "# What to do\n",
        "\n",
        "Each week, you will find a link to the weekly notebook assignment on our course website. When you click on the link, it will take you to a file on GitHub. That file will have an icon at the top that says \"Open in Colab.\" Click on that link. That will open up the notebook in Google Colab. Before you do anything else, go to File "
      ]
    },
    {
      "cell_type": "markdown",
      "metadata": {
        "id": "5Vp-hSaixrO-"
      },
      "source": [
        "* Student Name: \n",
        "* Date: \n",
        "* Instructor: Lisa Rhody\n",
        "* Assignment due: \n",
        "* Methods of Text Analysis\n",
        "* MA in DH at The Graduate Center, CUNY"
      ]
    },
    {
      "cell_type": "markdown",
      "metadata": {
        "id": "MV3brh3jxrO-"
      },
      "source": [
        "Run the following cell and print the result. Below the result, add a \"markdown\" cell and explain how you did it. Remember to create a \"markdown\" cell, you will need to change the cell type from \"Code\" to \"Markdown.\" "
      ]
    },
    {
      "cell_type": "code",
      "execution_count": null,
      "metadata": {
        "id": "n_HIFVEgxrO-",
        "outputId": "dc2dc0df-989e-4fef-fa38-9ae80ac6ab5e"
      },
      "outputs": [
        {
          "data": {
            "text/plain": [
              "8"
            ]
          },
          "execution_count": 1,
          "metadata": {},
          "output_type": "execute_result"
        }
      ],
      "source": [
        "1 + 5 * 2 - 3"
      ]
    },
    {
      "cell_type": "markdown",
      "metadata": {
        "collapsed": true,
        "id": "IeujceYExrPA"
      },
      "source": [
        "In the next cell, we have a command. This will download something you will need during the course. "
      ]
    },
    {
      "cell_type": "code",
      "execution_count": null,
      "metadata": {
        "collapsed": true,
        "id": "y3VxE8S1xrPA"
      },
      "outputs": [],
      "source": [
        "import nltk \n",
        "nltk.download()"
      ]
    },
    {
      "cell_type": "markdown",
      "metadata": {
        "id": "lrb4XXcLxrPA"
      },
      "source": [
        "A new window should open, showing the NLTK Downloader. Click on the File menu and select Change Download Directory. For central installation, set this to C:\\nltk_data (Windows), /usr/local/share/nltk_data (Mac), or /usr/share/nltk_data (Unix). Next, select all-corpora from the list in the pop up window. Then click the button to download."
      ]
    },
    {
      "cell_type": "markdown",
      "metadata": {
        "id": "vMgYoXntxrPB"
      },
      "source": [
        "Test that the data has been installed as follows: "
      ]
    },
    {
      "cell_type": "code",
      "execution_count": null,
      "metadata": {
        "id": "LOsAFnBCxrPB",
        "outputId": "9a21fa1a-2544-457c-a2da-cf8b06deb369"
      },
      "outputs": [
        {
          "data": {
            "text/plain": [
              "['The', 'Fulton', 'County', 'Grand', 'Jury', 'said', ...]"
            ]
          },
          "execution_count": 2,
          "metadata": {},
          "output_type": "execute_result"
        }
      ],
      "source": [
        "from nltk.corpus import brown\n",
        "brown.words()"
      ]
    },
    {
      "cell_type": "markdown",
      "metadata": {
        "id": "SRQv5b78xrPB"
      },
      "source": [
        "Congratulations!!! You've completed your first assignment. Go to the top of your Jupyter menu above (top left). Click File, and in the drop down menu, select \"Print Preview.\" When your browser opens a new tab with a preview copy of the notebook, then go to your browser's menu bar. Under File, select Print. In the dialogue box that opens, change your printer to \"Save as PDF.\" Save a copy of the file with the following naming strategy: lastname-week. When you have a PDF of your file, send it to lrhody@gc.cuny.edu as an attachment in an email. \n",
        "\n",
        "\n",
        "If you are someone who would like to push further, You could get started with the NLTK Book Chapter 1 here: https://www.nltk.org/book/ch01.html. You can create a new notebook to track your work and submit that the same way. If you do, please save the notebook with the same naming strategy: lastname-week"
      ]
    }
  ],
  "metadata": {
    "kernelspec": {
      "display_name": "Python 3",
      "language": "python",
      "name": "python3"
    },
    "language_info": {
      "codemirror_mode": {
        "name": "ipython",
        "version": 3
      },
      "file_extension": ".py",
      "mimetype": "text/x-python",
      "name": "python",
      "nbconvert_exporter": "python",
      "pygments_lexer": "ipython3",
      "version": "3.6.3"
    },
    "colab": {
      "provenance": []
    }
  },
  "nbformat": 4,
  "nbformat_minor": 0
}