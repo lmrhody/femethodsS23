{
  "cells": [
    {
      "cell_type": "markdown",
      "metadata": {
        "id": "view-in-github",
        "colab_type": "text"
      },
      "source": [
        "<a href=\"https://colab.research.google.com/github/lmrhody/femethodsS23/blob/main/week7_notebook.ipynb\" target=\"_parent\"><img src=\"https://colab.research.google.com/assets/colab-badge.svg\" alt=\"Open In Colab\"/></a>"
      ]
    },
    {
      "cell_type": "markdown",
      "metadata": {
        "id": "vAkti4G4I1dy"
      },
      "source": [
        "# Week 7: Jupyter Notebook Assignment - Working with Data"
      ]
    },
    {
      "cell_type": "markdown",
      "metadata": {
        "id": "kbVLjq4pI1d0"
      },
      "source": [
        "Fill out the cell below with your information. "
      ]
    },
    {
      "cell_type": "markdown",
      "metadata": {
        "id": "kdnDlnxFI1d0"
      },
      "source": [
        "* Student Name: \n",
        "* Date: \n",
        "* Instructor: Lisa Rhody\n",
        "* Assignment due: \n",
        "* Methods of Text Analysis\n",
        "* MA in DH at The Graduate Center, CUNY"
      ]
    },
    {
      "cell_type": "markdown",
      "metadata": {
        "id": "ncgW8rT_I1d0"
      },
      "source": [
        "## Objectives\n",
        "The purpose of this notebook is to get some hands-on experience putting what you've seen in tutorials about importing and working with text in Python into practice. You'll also be asked to put the reading you've been doing all semester into conversation with the process of importing, cleaning, and preparing data. \n",
        "\n",
        "The object of the notebooks this week is: \n",
        "* To practice several ways of importing text into your Python environment to study; \n",
        "* To become more familiar with various pipelines for cleaning and preparing data for text analysis; \n",
        "* To consider the challenges that the availability and scarcity of data presents to the literary scholar (and to consider how other kinds of research might also need to address similar issues); \n",
        "* To connect examples of real-world text analysis projects with the practical process of cleaning and preparing data. "
      ]
    },
    {
      "cell_type": "markdown",
      "source": [
        "# Getting Started\n",
        "We're going to start by importing some important libraries for working with text data. "
      ],
      "metadata": {
        "id": "egrAMMlOMIBS"
      }
    },
    {
      "cell_type": "code",
      "source": [
        "import nltk\n",
        "import numpy as np\n",
        "import pandas as pd\n",
        "import urllib\n",
        "import pprint"
      ],
      "metadata": {
        "id": "yC6MGOIjJo9s"
      },
      "execution_count": null,
      "outputs": []
    },
    {
      "cell_type": "markdown",
      "metadata": {
        "id": "FtTLIs5OI1d0"
      },
      "source": [
        "# Importing Data\n",
        "So far, we have worked with data during the Datacamp exercises, but that was a much more controlled environment. When you are actually doing your own text analysis project, you will have a much messier process. During this week's reading, you will have read several pieces about what cleaning takes place and some of the challenges that data presents when working with text. In particular, we're looking at text analysis from a humanities / litereary perspective; however, one might argue that these challenges are more similar to the text analysis one might perform in the social sciences or with non-fiction work than might appear to be the case on the surface. \n",
        "\n",
        "In this lesson, we'll practice importing data: \n",
        "* from a file already on your computer (using a directory path); \n",
        "* from a file on the web using a URL request \n",
        "* from a file on the web using Beautiful Soup. \n"
      ]
    },
    {
      "cell_type": "markdown",
      "metadata": {
        "id": "l8X-8rGZI1d1"
      },
      "source": [
        "### Loading data from a flat file on your local computer\n",
        "Before you get started, be sure to download this file onto your local computer and save it as herland.txt. \n",
        "\n",
        "Next, we're going to import `herland.txt` using an upload function that is part of the google.colab Python package. This function will open a button under the cell that you can use to \"Choose Files\" from your local computer. Choose the `herland.txt` file and then upload it. The for loop below will print out what the name of the file is that you are saving to the Google Colab content folder. "
      ]
    },
    {
      "cell_type": "code",
      "source": [
        "from google.colab import files\n",
        "\n",
        "uploaded = files.upload()\n",
        "\n",
        "for fn in uploaded.keys():\n",
        "  print(\"User uploaded file '{name} with length {length} bytes\".format(\n",
        "      name=fn, length=len(uploaded[fn])))"
      ],
      "metadata": {
        "id": "437GlwvvJsnT"
      },
      "execution_count": null,
      "outputs": []
    },
    {
      "cell_type": "markdown",
      "source": [
        "To find the file you just uploaded, look to the left side of this browser window. Click on the icon of a file folder. A directory structure should open. Click on the arrow next to `content` and you should see your uploaded file appear inside. "
      ],
      "metadata": {
        "id": "OlKkEPMIOO6j"
      }
    },
    {
      "cell_type": "markdown",
      "source": [
        "Then we're going to use a Python function `open()`. We'll use a `for` loop, which simply means that we'll do an action that repeats until we tell it to stop. The following code says that we want to `open` the file `herland.txt` so we can read it (argument `mode='r'`). Then we're going to close the file. When we do this, we're going to assign a variable name to the resulting data, which is now a string called `file`.\n"
      ],
      "metadata": {
        "id": "CoGcEOF_NTO1"
      }
    },
    {
      "cell_type": "code",
      "execution_count": null,
      "metadata": {
        "id": "8C498LV7I1d1"
      },
      "outputs": [],
      "source": [
        "filename = 'herland.txt'\n",
        "herland = open(filename, mode='r')\n",
        "hertext = herland.read()\n",
        "herland.close()"
      ]
    },
    {
      "cell_type": "markdown",
      "source": [
        "Another way to read the text from a file into Python is to use a \"context manager.\" The following tells python that with the `herland.txt` file open, read in the text and create a variable called `file` to store the data. Then, the next line tells Python to print the new variable `file`. When you run the next cell, it is going to print out the entire text of *Herland*. That's a lot of text, so once you've done it, you can clear the cell's output and move on to the next cell. "
      ],
      "metadata": {
        "id": "2j__79ZoL6TK"
      }
    },
    {
      "cell_type": "code",
      "execution_count": null,
      "metadata": {
        "id": "gIaGplApI1d2"
      },
      "outputs": [],
      "source": [
        "# Here is how you print a string from a file without having to close the file using a context manager\n",
        "\n",
        "with open('herland.txt','r') as file:\n",
        "    print(file.read())"
      ]
    },
    {
      "cell_type": "code",
      "execution_count": null,
      "metadata": {
        "id": "jWCXVgjYI1d2"
      },
      "outputs": [],
      "source": [
        "# If you don't want to save the text of the file, but just want to peek into it to see what's there, you could use this method. \n",
        "\n",
        "with open('herland.txt') as file:\n",
        "    print(file.readline())\n",
        "    print(file.readline())\n",
        "    print(file.readline())"
      ]
    },
    {
      "cell_type": "markdown",
      "metadata": {
        "id": "8AE2MisyI1d3"
      },
      "source": [
        "### What happens when you import a flat file? \n",
        "\n",
        "The python function `type()` will return to you output that explains the data type you are working with. When you pass the new text object `herland` through the `type()` function below, what response do you get? The response will look different from other data types that you've used before. In this case, it is read in as a \"file object.\" Remember that Python won't know how to handle data unless it fits a particular data type that the computer expects when passing a function to it. In the next input, we ask Python for the length of the file. This will throw an error. Why do you think that is? "
      ]
    },
    {
      "cell_type": "code",
      "execution_count": null,
      "metadata": {
        "id": "dv-e2lDBI1d3"
      },
      "outputs": [],
      "source": [
        "# herland is a file object, not a string. \n",
        "type(herland)"
      ]
    },
    {
      "cell_type": "code",
      "execution_count": null,
      "metadata": {
        "scrolled": true,
        "id": "XZ5wcOL1I1d3"
      },
      "outputs": [],
      "source": [
        "# since herland is a file object and not a string, you can't find the length of it.\n",
        "len(herland)"
      ]
    },
    {
      "cell_type": "markdown",
      "metadata": {
        "id": "gNMI0VRCI1d3"
      },
      "source": [
        "#### Response here: "
      ]
    },
    {
      "cell_type": "markdown",
      "metadata": {
        "id": "W-GfT0Q9I1d3"
      },
      "source": [
        "We had to go through a process to convert the file object to a string. \n",
        "\n",
        "Looking at the cells below, which variable should return `type()` as a string? (The answer is in the cell below.) "
      ]
    },
    {
      "cell_type": "code",
      "execution_count": null,
      "metadata": {
        "id": "VLjQ9TP2I1d3"
      },
      "outputs": [],
      "source": [
        "# but hertext is a different datatype. How would you check? \n",
        "type(hertext)"
      ]
    },
    {
      "cell_type": "markdown",
      "metadata": {
        "id": "LBDiIVyKI1d4"
      },
      "source": [
        "Once you have a string, there are a number of functions that you can make use of. One of those is the `len()` command, which you can run below. "
      ]
    },
    {
      "cell_type": "code",
      "execution_count": null,
      "metadata": {
        "id": "u6v1YjKYI1d4"
      },
      "outputs": [],
      "source": [
        "# How many characters are in the hertext string? \n",
        "len(hertext)"
      ]
    },
    {
      "cell_type": "markdown",
      "metadata": {
        "id": "EqfZqn1rI1d4"
      },
      "source": [
        "Once an object is recognized as a string, you can begin manipulating it. For example, you could count the number of times the sequence of characters \"her\" appear within the entire text of _Herland_."
      ]
    },
    {
      "cell_type": "code",
      "execution_count": null,
      "metadata": {
        "id": "4vFsxjeLI1d4"
      },
      "outputs": [],
      "source": [
        "hertext.count('her', 0, -1)"
      ]
    },
    {
      "cell_type": "markdown",
      "metadata": {
        "id": "RSohRXHiI1d4"
      },
      "source": [
        "The ability to count characters, words, n-grams, etc. means that we can also more easily target specific sections of the text. For example, when you print to your screen the opening of the herland file, you notice that it is accompanied with metadata. For the purposes of text analysis, what would be the advantages or disadvantages of removing the metadata associated with _Herland_?"
      ]
    },
    {
      "cell_type": "code",
      "execution_count": null,
      "metadata": {
        "id": "OgBINGAqI1d4"
      },
      "outputs": [],
      "source": [
        "# What is happening at the beginning of the herland.txt file, though? We can check to see by using an index. \n",
        "print(hertext[:660])"
      ]
    },
    {
      "cell_type": "markdown",
      "metadata": {
        "id": "79eRBN2mI1d5"
      },
      "source": [
        "Working with a string is *more* helpful than simply working with a text object, but there are other things that we can do to the text to make it more easily manipulated in Python and NLTK. For example, when you're working with a string, it's not easy to count whole words. The NLTK word tokenizer function, however, will take a string and turn it into \"tokens\"--discrete segments of characters. Tokenized strings become a new data type--a list. "
      ]
    },
    {
      "cell_type": "code",
      "execution_count": null,
      "metadata": {
        "id": "KZDfyI-mI1d5"
      },
      "outputs": [],
      "source": [
        "hertokens = nltk.word_tokenize(hertext)\n",
        "type(hertokens)"
      ]
    },
    {
      "cell_type": "markdown",
      "metadata": {
        "id": "mV2LRs2lI1d5"
      },
      "source": [
        "A tokenized list can be called, acted upon, and manipulated differently than a string. If we call just the tokens that are in index positions 0-15, here is what you would get:"
      ]
    },
    {
      "cell_type": "code",
      "execution_count": null,
      "metadata": {
        "id": "xvB1XxkbI1d5"
      },
      "outputs": [],
      "source": [
        "hertokens[:15]"
      ]
    },
    {
      "cell_type": "code",
      "execution_count": null,
      "metadata": {
        "id": "s4ySkAL5I1d5"
      },
      "outputs": [],
      "source": [
        "text1 = nltk.Text(hertokens)"
      ]
    },
    {
      "cell_type": "code",
      "execution_count": null,
      "metadata": {
        "id": "_bPbpcdTI1d5"
      },
      "outputs": [],
      "source": [
        "type(text1)"
      ]
    },
    {
      "cell_type": "code",
      "execution_count": null,
      "metadata": {
        "id": "j97hxS_pI1d6"
      },
      "outputs": [],
      "source": [
        "len(text1)"
      ]
    },
    {
      "cell_type": "code",
      "execution_count": null,
      "metadata": {
        "id": "6N5_2fkQI1d6"
      },
      "outputs": [],
      "source": [
        "text1[1000:1025]"
      ]
    },
    {
      "cell_type": "markdown",
      "metadata": {
        "id": "5A7OVaudI1d6"
      },
      "source": [
        "### Review\n",
        "When you import text from a flat file that is saved on your local computer, what will you need to do in order to select parts of the text using an index? "
      ]
    },
    {
      "cell_type": "markdown",
      "metadata": {
        "id": "3UAirNZpI1d6"
      },
      "source": [
        "## Ingesting data from a URL\n",
        "\n",
        "Next, we're going to retrieve text directly from a URL with the `urlllib` package\n",
        "To do this, we're going to call the package `urllib` and specifically from that we're going to use `urlretrieve.` Next, we need to assign the text in the file to a variable. In this case, that variable is `url`. We're going to run `urlretrieve` with two parameters, the name of the URL you want to import (which you assigned to the variable `url` above, and the file name and extension. Here that is `203-0.txt.` If you pay attention to the output, you'll realize that you've imported the file as an object. "
      ]
    },
    {
      "cell_type": "code",
      "source": [
        "import urllib.request"
      ],
      "metadata": {
        "id": "-34iqZqeSJXF"
      },
      "execution_count": null,
      "outputs": []
    },
    {
      "cell_type": "code",
      "execution_count": null,
      "metadata": {
        "id": "eMA8f984I1d6"
      },
      "outputs": [],
      "source": [
        "from urllib.request import urlopen\n",
        "from urllib.request import Request\n",
        "url = 'https://www.gutenberg.org/files/203/203-0.txt'\n",
        "uncletom = urlopen(url)"
      ]
    },
    {
      "cell_type": "markdown",
      "metadata": {
        "id": "1gQplVwFI1d6"
      },
      "source": [
        "### Question:\n",
        "Using what you've learned so far, how would you figure out what data type the file `uncletom` is? Add a cell below and show how you would find the answer. "
      ]
    },
    {
      "cell_type": "code",
      "source": [
        "type(uncletom)"
      ],
      "metadata": {
        "id": "iedWrfJhTTRO"
      },
      "execution_count": null,
      "outputs": []
    },
    {
      "cell_type": "markdown",
      "source": [
        "Next, we're going to turn the text of Uncle Tom's Cabin into a list. A list is a mutable, ordered sequence of items. It can be indexed, sliced, and changed. Items in the list can be accessed through it's indexical placement. "
      ],
      "metadata": {
        "id": "kNo4vVZKUht1"
      }
    },
    {
      "cell_type": "code",
      "source": [
        "dir(uncletom.read())"
      ],
      "metadata": {
        "id": "67zgwEYgTgg4"
      },
      "execution_count": null,
      "outputs": []
    },
    {
      "cell_type": "code",
      "source": [
        "words = uncletom.read().decode().split()"
      ],
      "metadata": {
        "id": "GbrWDSiHUOiH"
      },
      "execution_count": null,
      "outputs": []
    },
    {
      "cell_type": "code",
      "source": [
        "print(type(words))"
      ],
      "metadata": {
        "id": "LZtxrM6OUZ6d"
      },
      "execution_count": null,
      "outputs": []
    },
    {
      "cell_type": "markdown",
      "source": [
        "Let's practice those steps again, but with a new file this time. "
      ],
      "metadata": {
        "id": "85Y-w18bVQuo"
      }
    },
    {
      "cell_type": "code",
      "source": [
        "from urllib.request import urlopen\n",
        "\n",
        "shakespeare = 'http://composingprograms.com/shakespeare.txt'\n",
        "\n",
        "print( type(shakespeare) )"
      ],
      "metadata": {
        "id": "iXxWF3eMVi4M"
      },
      "execution_count": null,
      "outputs": []
    },
    {
      "cell_type": "code",
      "source": [
        "shakespeare = 'http://composingprograms.com/shakespeare.txt'\n",
        "shakespeare = urlopen('http://composingprograms.com/shakespeare.txt')\n",
        "print(type(shakespeare))"
      ],
      "metadata": {
        "id": "pSUtnSJhWAgH"
      },
      "execution_count": null,
      "outputs": []
    },
    {
      "cell_type": "code",
      "source": [
        "dir(shakespeare)"
      ],
      "metadata": {
        "id": "5XE2QAmWWYh2"
      },
      "execution_count": null,
      "outputs": []
    },
    {
      "cell_type": "code",
      "source": [
        "words = shakespeare.read().decode().split()"
      ],
      "metadata": {
        "id": "5dv-DfiLWdI_"
      },
      "execution_count": null,
      "outputs": []
    },
    {
      "cell_type": "code",
      "source": [
        "print(type(words))"
      ],
      "metadata": {
        "id": "6bVdrVC3WjrW"
      },
      "execution_count": null,
      "outputs": []
    },
    {
      "cell_type": "code",
      "source": [
        "title = words[0:3]"
      ],
      "metadata": {
        "id": "JLNGe1QyXPQA"
      },
      "execution_count": null,
      "outputs": []
    },
    {
      "cell_type": "code",
      "source": [
        "body = words[3:]"
      ],
      "metadata": {
        "id": "_tD1S3TWXSxU"
      },
      "execution_count": null,
      "outputs": []
    },
    {
      "cell_type": "code",
      "source": [
        "print(body[:10])"
      ],
      "metadata": {
        "id": "5ECbMdt8XW8G"
      },
      "execution_count": null,
      "outputs": []
    },
    {
      "cell_type": "markdown",
      "source": [
        "\n",
        "__Indexing Operator__\n",
        "\n",
        "Indexing operator ([ ]) selects one or more elements from a sequence. Each element of a sequence is assigned a number - its position or index. Index must be an integer value and is called inside a pair of square brackets. \n",
        "\n",
        "The operation that extracts a subsequence is called __slicing__. When selecting more than one element __\": operator\"__ is used with integer before and after it to indicate where to start and where to stop the index, respectively.\n",
        "\n",
        "Python indexing starts at 0 and ends at (n-1), where n refers to the number of items in the sequence. The function \"len\" can be used to get the number of items in a list. \n",
        "\n",
        "Negative indexing is also supported by Python. It can be done by adding \"-\" operator before the integer value."
      ],
      "metadata": {
        "id": "--ANoBskW4_l"
      }
    },
    {
      "cell_type": "code",
      "source": [
        "n_words = len(body)\n",
        "print( n_words )"
      ],
      "metadata": {
        "id": "b5-zzKQkWnTd"
      },
      "execution_count": null,
      "outputs": []
    },
    {
      "cell_type": "code",
      "source": [
        "print( body[980634])"
      ],
      "metadata": {
        "id": "4EBY3CBPXbkz"
      },
      "execution_count": null,
      "outputs": []
    },
    {
      "cell_type": "code",
      "source": [
        "print( body[980633])"
      ],
      "metadata": {
        "id": "44vtxFDXXnYg"
      },
      "execution_count": null,
      "outputs": []
    },
    {
      "cell_type": "code",
      "source": [
        "sub_body = body[:10]\n",
        "print( sub_body)"
      ],
      "metadata": {
        "id": "h6vTMIntXrwS"
      },
      "execution_count": null,
      "outputs": []
    },
    {
      "cell_type": "code",
      "source": [
        "print( sub_body[:-2])"
      ],
      "metadata": {
        "id": "z_Wx7eRzXwIU"
      },
      "execution_count": null,
      "outputs": []
    },
    {
      "cell_type": "code",
      "source": [
        "print( sub_body[::2])    # gives every 2nd element"
      ],
      "metadata": {
        "id": "IoQu8aM1Xzgi"
      },
      "execution_count": null,
      "outputs": []
    },
    {
      "cell_type": "markdown",
      "source": [
        "__Python Syntax__\n",
        "\n",
        "Syntax refers to the structure of the language. \n",
        "\n",
        "The end of the statement does not require semicolon or other symbol. After a statement is complete, the code is considered completed. However, using semicolon can allow you to execute two separate codes from the same line. \n",
        "\n",
        "Indentation i.e. the whitespace matters in Python. A block of code is a set of statements that should be treated as a unit even when written in a new line. A code block in python are denoted by indentation. For example, in compound statements such as loops and conditionals, after the colon we must enter into a new line and add exactly four spaces to continue further. Whitespaces __within__ the same line does not matter however.  \n",
        "\n",
        "Comments about codes can be made using hashtag #. anything written after # is ignored by the interpreter. Python does not have any syntax for multi-line comments. "
      ],
      "metadata": {
        "id": "y2JrMe2UYHbL"
      }
    },
    {
      "cell_type": "code",
      "source": [
        "sub_body_lowercase = []\n",
        "for word in sub_body:\n",
        "  sub_body_lowercase.append(word.lower())\n",
        "  #print(sub_body_lowercase)\n",
        "#print(sub_body_lowercase)\n",
        "sub_body_lowercase"
      ],
      "metadata": {
        "id": "5TK22YcjYPsO"
      },
      "execution_count": null,
      "outputs": []
    },
    {
      "cell_type": "markdown",
      "metadata": {
        "id": "ksKMYa0vI1d7"
      },
      "source": [
        "## Importing an HTML file using an http: request\n",
        "The previous two files that we imported were _plain text_ files. In other words, there is little to no descriptive encoding. However, we can also use another module from the URLLIB package that is designed to import an .html file directly from the web. We can actually do this with just a few lines of code. First, we import the URLLIB package, and specifically the `request` module. We assign the URL we want to manipulate by assigning the URL to a variable. Next, we pass the URL through the urlopen.request function from the URLLIB package, and also at the same time \"read\" the file. The output of that string becomes the variable `html`. When we print the variable html, we discover that all of the HTML from the page has been pulled into the variable name. Unfortuantely, it doesn't look very clean. "
      ]
    },
    {
      "cell_type": "code",
      "execution_count": null,
      "metadata": {
        "id": "xknGfuL7I1d7"
      },
      "outputs": [],
      "source": [
        "# Now import the bibliography page from Colored Conventions in HTML\n",
        "import urllib.request\n",
        "anotherurl='http://coloredconventions.org/exhibits/show/bishophmturner'"
      ]
    },
    {
      "cell_type": "code",
      "execution_count": null,
      "metadata": {
        "id": "SufMVoVhI1d7"
      },
      "outputs": [],
      "source": [
        "html = urllib.request.urlopen(anotherurl).read()\n",
        "print(html)"
      ]
    },
    {
      "cell_type": "markdown",
      "metadata": {
        "id": "zi1Cyb-SI1d7"
      },
      "source": [
        "If you are interested in doing text analysis of a webpage, and the only way to ingest the web page is with HTML included, what are things you might need to learn to do to separate the HTML tags from the text? Look at the code above and write a short description of what might need to stay and what might need to be extracted. Should the extracted data be preserved or discarded? "
      ]
    },
    {
      "cell_type": "markdown",
      "metadata": {
        "id": "0iUkeiKmI1d7"
      },
      "source": [
        "# Importing Data by Webscraping with BeautifulSoup\n",
        "If you are interested in scraping data from the open web, BeautifulSoup is a Python pacakge worth exploring in detail. For our purposes here, though, we're going to consider how to use Beautiful Soup to turn \"unstructured\" data into \"structured\" data. As you read through this section, consider Muñoz and Rawson's argument about data cleaning. Is there a need for the data to stay unstructured? What is the value of cleaning? "
      ]
    },
    {
      "cell_type": "code",
      "execution_count": null,
      "metadata": {
        "id": "u6TpNC7TI1d7"
      },
      "outputs": [],
      "source": [
        "import requests\n",
        "from bs4 import BeautifulSoup"
      ]
    },
    {
      "cell_type": "code",
      "execution_count": null,
      "metadata": {
        "id": "h80IcFswI1d8"
      },
      "outputs": [],
      "source": [
        "# Specify url: url\n",
        "url4 = 'http://coloredconventions.org/press#scholarship'\n",
        "\n",
        "# Package the request, send the request and catch the response: r\n",
        "r = requests.get(url4)\n",
        "\n",
        "# Extracts the response as html: html_doc\n",
        "html_doc = r.text\n",
        "\n",
        "# Create a BeautifulSoup object from the HTML: soup\n",
        "soup = BeautifulSoup(html_doc)\n",
        "\n",
        "# Prettify the BeautifulSoup object: pretty_soup\n",
        "pretty_soup = soup.prettify()\n",
        "\n",
        "# Print the response\n",
        "print(pretty_soup)"
      ]
    },
    {
      "cell_type": "markdown",
      "metadata": {
        "id": "ie-mNbfsI1d8"
      },
      "source": [
        "Compare the text imported using the \"webscraping\" method included with BeautifulSoup versus the option of importing the entire file using URLLIB. "
      ]
    },
    {
      "cell_type": "markdown",
      "metadata": {
        "id": "9k5U0rkAI1d8"
      },
      "source": [
        "## Cleaning up Webscraped text"
      ]
    },
    {
      "cell_type": "code",
      "execution_count": null,
      "metadata": {
        "id": "Chi4_KhUI1d8"
      },
      "outputs": [],
      "source": [
        "# Import packages\n",
        "import requests\n",
        "from bs4 import BeautifulSoup\n",
        "\n",
        "# Specify url: url\n",
        "url5 = 'http://coloredconventions.org/press#scholarship'\n",
        "\n",
        "# Package the request, send the request and catch the response: r\n",
        "r = requests.get(url5)\n",
        "\n",
        "# Extract the response as html: html_doc\n",
        "html_doc = r.text\n",
        "\n",
        "# Create a BeautifulSoup object from the HTML: soup\n",
        "soup = BeautifulSoup(html_doc)\n",
        "\n",
        "# Get the title of Colored Conventions' webpage: ccc_title\n",
        "ccc_title = soup.title\n",
        "\n",
        "# Print the title of Colored Conventions' webpage to the shell\n",
        "print(ccc_title)\n"
      ]
    },
    {
      "cell_type": "code",
      "execution_count": null,
      "metadata": {
        "id": "LRql1zrYI1d8"
      },
      "outputs": [],
      "source": [
        "# Get Colored Conventions' text: ccc_text\n",
        "ccc_text = soup.get_text()\n",
        "\n",
        "# Print CCC's text \n",
        "print(ccc_text)"
      ]
    },
    {
      "cell_type": "code",
      "execution_count": null,
      "metadata": {
        "id": "30cgMgnJI1d8"
      },
      "outputs": [],
      "source": [
        "# Find all 'a' tags (which define hyperlinks): a_tags\n",
        "a_tags = soup.find_all('a')\n",
        "\n",
        "# Print the URLs to the shell\n",
        "for link in a_tags:\n",
        "    print(link.get('href'))"
      ]
    },
    {
      "cell_type": "markdown",
      "source": [
        "# Questions for reflection"
      ],
      "metadata": {
        "id": "7o2vTt-YKid0"
      }
    },
    {
      "cell_type": "markdown",
      "metadata": {
        "id": "SLcayZQmI1d8"
      },
      "source": [
        "Explain what the value is of importing HTML files using BeautifulSoup. How does this relate to the concerns that Rawson and Muñoz raise in their article? Are there times when you might want to keep the HTML? "
      ]
    },
    {
      "cell_type": "markdown",
      "source": [],
      "metadata": {
        "id": "TH0pQLjJKc5C"
      }
    },
    {
      "cell_type": "markdown",
      "source": [
        "Consider Rob Kitchin's criteria of \"good data.\" Would these datasets satisfy his definition of \"good data\"? Why or why not? What kinds of questions could one ask about the Colored Conventions Project using what you've learned here? "
      ],
      "metadata": {
        "id": "kFdXpqJoJnJb"
      }
    },
    {
      "cell_type": "markdown",
      "source": [],
      "metadata": {
        "id": "6qT2iStJKeYI"
      }
    }
  ],
  "metadata": {
    "kernelspec": {
      "display_name": "Python 3",
      "language": "python",
      "name": "python3"
    },
    "language_info": {
      "codemirror_mode": {
        "name": "ipython",
        "version": 3
      },
      "file_extension": ".py",
      "mimetype": "text/x-python",
      "name": "python",
      "nbconvert_exporter": "python",
      "pygments_lexer": "ipython3",
      "version": "3.7.3"
    },
    "colab": {
      "provenance": [],
      "toc_visible": true,
      "include_colab_link": true
    }
  },
  "nbformat": 4,
  "nbformat_minor": 0
}