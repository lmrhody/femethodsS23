{
  "cells": [
    {
      "cell_type": "markdown",
      "metadata": {
        "id": "view-in-github",
        "colab_type": "text"
      },
      "source": [
        "<a href=\"https://colab.research.google.com/github/lmrhody/femethodsS23/blob/main/Rhody_week2.ipynb\" target=\"_parent\"><img src=\"https://colab.research.google.com/assets/colab-badge.svg\" alt=\"Open In Colab\"/></a>"
      ]
    },
    {
      "cell_type": "markdown",
      "metadata": {
        "id": "u7w5tDXytR4z"
      },
      "source": [
        "# Week 2: Jupyter Notebook Assignment - Getting Started"
      ]
    },
    {
      "cell_type": "markdown",
      "metadata": {
        "id": "xO0EGdNrtR41"
      },
      "source": [
        "Fill out the cell below with your information. "
      ]
    },
    {
      "cell_type": "markdown",
      "metadata": {
        "id": "ErNwaT1qtR42"
      },
      "source": [
        "* Student Name: Sample Student\n",
        "* Date: 1/30/23\n",
        "* Instructor: Lisa Rhody\n",
        "* Assignment due: Week 2\n",
        "* Methods of Text Analysis\n",
        "* MA in DH at The Graduate Center, CUNY"
      ]
    },
    {
      "cell_type": "markdown",
      "metadata": {
        "id": "9VBfU0YvtR42"
      },
      "source": [
        "Run the following cell and print the result. Below the result, add a \"markdown\" cell and explain how you did it. Remember to create a \"markdown\" cell, you will need to change the cell type from \"Code\" to \"Markdown.\" "
      ]
    },
    {
      "cell_type": "code",
      "execution_count": null,
      "metadata": {
        "id": "XlpCopXKtR43",
        "outputId": "1fd5230f-9509-485b-cab6-ed822fb4bae9",
        "colab": {
          "base_uri": "https://localhost:8080/"
        }
      },
      "outputs": [
        {
          "output_type": "execute_result",
          "data": {
            "text/plain": [
              "8"
            ]
          },
          "metadata": {},
          "execution_count": 1
        }
      ],
      "source": [
        "1 + 5 * 2 - 3"
      ]
    },
    {
      "cell_type": "markdown",
      "metadata": {
        "collapsed": true,
        "id": "3UdxpuJLtR44"
      },
      "source": [
        "In the next cell, we have a command. This will download something you will need during the course. "
      ]
    },
    {
      "cell_type": "code",
      "execution_count": null,
      "metadata": {
        "id": "Fp8lnY3ztR44"
      },
      "outputs": [],
      "source": [
        "import nltk \n",
        "nltk.download(\"book\")"
      ]
    },
    {
      "cell_type": "markdown",
      "metadata": {
        "id": "tEZmSFJctR45"
      },
      "source": [
        "A new window should open, showing the NLTK Downloader. Click on the File menu and select Change Download Directory. For central installation, set this to C:\\nltk_data (Windows), /usr/local/share/nltk_data (Mac), or /usr/share/nltk_data (Unix). Next, select all-corpora from the list in the pop up window. Then click the button to download."
      ]
    },
    {
      "cell_type": "markdown",
      "metadata": {
        "id": "w9F7O393tR45"
      },
      "source": [
        "Test that the data has been installed as follows: "
      ]
    },
    {
      "cell_type": "code",
      "execution_count": 5,
      "metadata": {
        "id": "DkctysyLtR45",
        "outputId": "0126386c-8b93-4891-f371-1066e270b9f0",
        "colab": {
          "base_uri": "https://localhost:8080/"
        }
      },
      "outputs": [
        {
          "output_type": "stream",
          "name": "stdout",
          "text": [
            "['At', 'eight', \"o'clock\", 'on', 'Thursday', 'morning', 'Arthur', 'did', \"n't\", 'feel', 'very', 'good', '.']\n",
            "[('At', 'IN'), ('eight', 'CD'), (\"o'clock\", 'NN'), ('on', 'IN'), ('Thursday', 'NNP'), ('morning', 'NN'), ('Arthur', 'NNP'), ('did', 'VBD'), (\"n't\", 'RB'), ('feel', 'VB'), ('very', 'RB'), ('good', 'JJ'), ('.', '.')]\n"
          ]
        }
      ],
      "source": [
        "sentence = \"\"\"At eight o'clock on Thursday morning\n",
        "Arthur didn't feel very good.\"\"\"\n",
        "\n",
        "tokens = nltk.word_tokenize(sentence)\n",
        "\n",
        "print(tokens)\n",
        "\n",
        "tagged = nltk.pos_tag(tokens)\n",
        "\n",
        "print(tagged)"
      ]
    },
    {
      "cell_type": "markdown",
      "metadata": {
        "id": "1KrZSnN9tR46"
      },
      "source": [
        "Congratulations!!! You've completed your first assignment. Go to the top of your Jupyter menu above (top left). Click File, and in the drop down menu, select \"Print Preview.\" When your browser opens a new tab with a preview copy of the notebook, then go to your browser's menu bar. Under File, select Print. In the dialogue box that opens, change your printer to \"Save as PDF.\" Save a copy of the file with the following naming strategy: lastname-week. When you have a PDF of your file, send it to lrhody@gc.cuny.edu as an attachment in an email. \n",
        "\n",
        "\n",
        "If you are someone who would like to push further, You could get started with the NLTK Book Chapter 1 here: https://www.nltk.org/book/ch01.html. You can create a new notebook to track your work and submit that the same way. If you do, please save the notebook with the same naming strategy: lastname-week"
      ]
    }
  ],
  "metadata": {
    "kernelspec": {
      "display_name": "Python 3",
      "language": "python",
      "name": "python3"
    },
    "language_info": {
      "codemirror_mode": {
        "name": "ipython",
        "version": 3
      },
      "file_extension": ".py",
      "mimetype": "text/x-python",
      "name": "python",
      "nbconvert_exporter": "python",
      "pygments_lexer": "ipython3",
      "version": "3.6.3"
    },
    "colab": {
      "provenance": [],
      "include_colab_link": true
    }
  },
  "nbformat": 4,
  "nbformat_minor": 0
}