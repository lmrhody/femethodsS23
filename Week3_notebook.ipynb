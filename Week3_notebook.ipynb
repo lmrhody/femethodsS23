{
  "cells": [
    {
      "cell_type": "markdown",
      "metadata": {
        "id": "view-in-github",
        "colab_type": "text"
      },
      "source": [
        "<a href=\"https://colab.research.google.com/github/lmrhody/femethodsS23/blob/main/Week3_notebook.ipynb\" target=\"_parent\"><img src=\"https://colab.research.google.com/assets/colab-badge.svg\" alt=\"Open In Colab\"/></a>"
      ]
    },
    {
      "cell_type": "markdown",
      "metadata": {
        "id": "_5qXuPYmP1WM"
      },
      "source": [
        "# Jupyter Notebook for Week 3\n",
        "## NLP with Python Chapter 1, sections 1-4\n",
        "* Student Name: \n",
        "* Date: \n",
        "* Assignment Due: \n",
        "* Instructor: Lisa Rhody\n",
        "* Methods of Text Analysis, Fall 2020\n"
      ]
    },
    {
      "cell_type": "markdown",
      "metadata": {
        "id": "dYdNHrJYP1WN"
      },
      "source": [
        "## Natural Language Processing with Python \n",
        "\n",
        "***NOTE from Lisa:*** During this course, we'll be working through significant portions of the open access book _Natural Language Processing with Python_, by Steven Bird, Ewan Klein, and Edward Loper, first published by O'Reilly. However, we'll be following along with the online version, which is regularly updated and can be found at http://nltk.org/book. You may wish to begin by reading the Preface to the book (https://www.nltk.org/book/ch00.html), which explains some of the mechanics for reading and following along with activities. You will read the definitional distinctions between **natural** and **artificial** language. \n",
        "\n",
        "While these notebooks will offer the code that you will need to work through basic exercises, I welcome, and even encourage, you taking this opportunity to also work with some of the other exercises that the book provides which are not fully included here. \n",
        "\n",
        "While the book is designed to be used while writing directly into the Python interpreter, I'm asking fo ryou to complete thes assignments in Jupyter notebooks, which allows me to combine the copy of the text with the cells where you can type and execute code. "
      ]
    },
    {
      "cell_type": "markdown",
      "source": [
        "#Getting Started\n",
        " If you are working on your own computer, you'll want to download NLTK on your local machine. There are instructions on how to do this on the NLTK site (https://www.nltk.org/install.html). You can also use the Anaconda Distribution (https://www.anaconda.com/distribution). Once you install the NLTK package, you'll need to install necessary datasets/models for future assignments to work. \n",
        "\n",
        " ## Working with NLTK\n",
        " In order for us to work with NLTK, we need to load it into Google Colab (or Jupyter or the Python interpreter). We do this by first importing NLTK and then identifying what parts of NLTK we want to work with. Once the data is added to your working environment, you can load some into the Google Colab environment. "
      ],
      "metadata": {
        "id": "HnBO2rEaRXwO"
      }
    },
    {
      "cell_type": "markdown",
      "metadata": {
        "id": "C2DcBo9lP1WN"
      },
      "source": [
        "### Chapter 1: Language Processing and Python\n",
        "It is easy to get our hands on millions of words of text. What can we do with it, assuming we can write some simple programs? In this chapter we'll address the following questions:\n",
        "\n",
        "* What can we achieve by combining simple programming techniques with large quantities of text?\n",
        "* How can we automatically extract key words and phrases that sum up the style and content of a text?\n",
        "* What tools and techniques does the Python programming language provide for such work?\n",
        "* What are some of the interesting challenges of natural language processing?\n",
        "\n",
        "This chapter is divided into sections that skip between two quite different styles. In the \"computing with language\" sections we will take on some linguistically motivated programming tasks without necessarily explaining how they work. In the \"closer look at Python\" sections we will systematically review key programming concepts. We'll flag the two styles in the section titles, but later chapters will mix both styles without being so up-front about it. We hope this style of introduction gives you an authentic taste of what will come later, while covering a range of elementary concepts in linguistics and computer science. If you have basic familiarity with both areas, you can skip to 5; we will repeat any important points in later chapters, and if you miss anything you can easily consult the online reference material at http://nltk.org/. If the material is completely new to you, this chapter will raise more questions than it answers, questions that are addressed in the rest of this book."
      ]
    },
    {
      "cell_type": "markdown",
      "metadata": {
        "id": "0DTTpql3P1WO"
      },
      "source": [
        "### 1 Computing with Language: Texts and Words\n",
        "\n",
        "We're all very familiar with text, since we read and write it every day. Here we will treat text as raw data for the programs we write, programs that manipulate and analyze it in a variety of interesting ways. But before we can do this, we have to get started with the Python interpreter."
      ]
    },
    {
      "cell_type": "markdown",
      "metadata": {
        "id": "kMugD_JSP1WO"
      },
      "source": [
        "**NOTE from Lisa**: Because we are working in Jupyter notebooks and not in the **interpreter** (which is defined below), your interface will look a little bit different. That's ok. "
      ]
    },
    {
      "cell_type": "markdown",
      "metadata": {
        "id": "6v-c027tP1WO"
      },
      "source": [
        "### 1.1   Getting Started with Python\n",
        "One of the friendly things about Python is that it allows you to type directly into the interactive **interpreter** — the program that will be running your Python programs. "
      ]
    },
    {
      "cell_type": "markdown",
      "metadata": {
        "id": "E9yxgF8VP1WP"
      },
      "source": [
        "**NOTE from Lisa**: The Jupyter notebook works differently than the interpreter. Rather than having a ```>>>> ``` you will write your code directly in a cell and then run it. The result will display below the code cell. \n",
        "\n",
        "That means you can type the equation directly into the cell. When you press either the >| button above or you press the shift + enter keys, you will \"execute\" the cell, which means that it will run, and your cursor will go to the next cell. \n",
        "\n",
        "In the cell below, type the following: \n",
        "```python\n",
        "1 + 5 * 2 - 3 \n",
        "```\n",
        "\n",
        "Then press the shift + enter (or return) key. The expected action should be that the answer appears below the cell next to the word ```\n",
        "OUT []: \n",
        "```"
      ]
    },
    {
      "cell_type": "code",
      "execution_count": 1,
      "metadata": {
        "id": "wFwl08uuP1WQ",
        "outputId": "50ab3d0a-3690-4eaa-bb51-7ca56ede28a2",
        "colab": {
          "base_uri": "https://localhost:8080/"
        }
      },
      "outputs": [
        {
          "output_type": "execute_result",
          "data": {
            "text/plain": [
              "8"
            ]
          },
          "metadata": {},
          "execution_count": 1
        }
      ],
      "source": [
        "#type your equation here.\n",
        "1 + 5 * 2 - 3"
      ]
    },
    {
      "cell_type": "markdown",
      "metadata": {
        "id": "E8kCOUazP1WQ"
      },
      "source": [
        "The preceding examples demonstrate how you can work interactively with the Python interpreter, experimenting with various expressions in the language to see what they do. Now let's try a nonsensical expression to see how the interpreter handles it: Try typing 1 + (without anything after the plus sign). "
      ]
    },
    {
      "cell_type": "code",
      "execution_count": 2,
      "metadata": {
        "collapsed": true,
        "id": "acwkaZORP1WQ",
        "outputId": "95dc53bf-b7d3-4407-a354-d6e56cc00300",
        "colab": {
          "base_uri": "https://localhost:8080/",
          "height": 133
        }
      },
      "outputs": [
        {
          "output_type": "error",
          "ename": "SyntaxError",
          "evalue": "ignored",
          "traceback": [
            "\u001b[0;36m  File \u001b[0;32m\"<ipython-input-2-66918a189835>\"\u001b[0;36m, line \u001b[0;32m2\u001b[0m\n\u001b[0;31m    1+\u001b[0m\n\u001b[0m      ^\u001b[0m\n\u001b[0;31mSyntaxError\u001b[0m\u001b[0;31m:\u001b[0m invalid syntax\n"
          ]
        }
      ],
      "source": [
        "#type 1+ and press \n",
        "1+"
      ]
    },
    {
      "cell_type": "markdown",
      "metadata": {
        "id": "dV8mH6XZP1WR"
      },
      "source": [
        "This produced a syntax error. In Python, it doesn't make sense to end an instruction with a plus sign. The Python interpreter indicates the line where the problem occurred (line 1 of <stdin>, which stands for \"standard input\").\n",
        "\n",
        "Now that we can use the Python interpreter, we're ready to start working with language data."
      ]
    },
    {
      "cell_type": "markdown",
      "metadata": {
        "id": "opYK1qoRP1WU"
      },
      "source": [
        "### 1.2 Getting Started with NLTK\n",
        "**NOTE from Lisa:** This portion of the chapter is about downloading and installing the text corpora that we are using first. You completed this activity during the Week 2 Jupyter notebook assignment, so I am going to skip the portion of the lesson here, because downloading and installing NLTK's corpora is time and resource intensive for your computer. So the next few cells will deviate from the book a bit. If you would like to re-do this part or if the following section does not work for you, you will want to revisit this section of NLP with Python book (https://www.nltk.org/book/ch01.html).\n",
        "\n",
        "We will pick up at the point in which we import the corpora (different from downloading, importing means that we are making those resources available to Python for use). \n",
        "\n",
        "When we get started, we need to let Python know that we are working with certain resources. These resources can be called \"libraries\" or \"packages.\" We are also able to make particular parts of a package available. We'll do this by saying that from NLTK, we want to import into existing memeory all of the texts that are in the \"book\" portion of NLTK. We do that with the following: "
      ]
    },
    {
      "cell_type": "code",
      "execution_count": 3,
      "metadata": {
        "id": "hGFTgwisP1WU",
        "outputId": "5df89149-b084-4628-9311-31f084371f76",
        "colab": {
          "base_uri": "https://localhost:8080/"
        }
      },
      "outputs": [
        {
          "output_type": "stream",
          "name": "stderr",
          "text": [
            "[nltk_data] Downloading collection 'book'\n",
            "[nltk_data]    | \n",
            "[nltk_data]    | Downloading package abc to /root/nltk_data...\n",
            "[nltk_data]    |   Unzipping corpora/abc.zip.\n",
            "[nltk_data]    | Downloading package brown to /root/nltk_data...\n",
            "[nltk_data]    |   Unzipping corpora/brown.zip.\n",
            "[nltk_data]    | Downloading package chat80 to /root/nltk_data...\n",
            "[nltk_data]    |   Unzipping corpora/chat80.zip.\n",
            "[nltk_data]    | Downloading package cmudict to /root/nltk_data...\n",
            "[nltk_data]    |   Unzipping corpora/cmudict.zip.\n",
            "[nltk_data]    | Downloading package conll2000 to /root/nltk_data...\n",
            "[nltk_data]    |   Unzipping corpora/conll2000.zip.\n",
            "[nltk_data]    | Downloading package conll2002 to /root/nltk_data...\n",
            "[nltk_data]    |   Unzipping corpora/conll2002.zip.\n",
            "[nltk_data]    | Downloading package dependency_treebank to\n",
            "[nltk_data]    |     /root/nltk_data...\n",
            "[nltk_data]    |   Unzipping corpora/dependency_treebank.zip.\n",
            "[nltk_data]    | Downloading package genesis to /root/nltk_data...\n",
            "[nltk_data]    |   Unzipping corpora/genesis.zip.\n",
            "[nltk_data]    | Downloading package gutenberg to /root/nltk_data...\n",
            "[nltk_data]    |   Unzipping corpora/gutenberg.zip.\n",
            "[nltk_data]    | Downloading package ieer to /root/nltk_data...\n",
            "[nltk_data]    |   Unzipping corpora/ieer.zip.\n",
            "[nltk_data]    | Downloading package inaugural to /root/nltk_data...\n",
            "[nltk_data]    |   Unzipping corpora/inaugural.zip.\n",
            "[nltk_data]    | Downloading package movie_reviews to\n",
            "[nltk_data]    |     /root/nltk_data...\n",
            "[nltk_data]    |   Unzipping corpora/movie_reviews.zip.\n",
            "[nltk_data]    | Downloading package nps_chat to /root/nltk_data...\n",
            "[nltk_data]    |   Unzipping corpora/nps_chat.zip.\n",
            "[nltk_data]    | Downloading package names to /root/nltk_data...\n",
            "[nltk_data]    |   Unzipping corpora/names.zip.\n",
            "[nltk_data]    | Downloading package ppattach to /root/nltk_data...\n",
            "[nltk_data]    |   Unzipping corpora/ppattach.zip.\n",
            "[nltk_data]    | Downloading package reuters to /root/nltk_data...\n",
            "[nltk_data]    | Downloading package senseval to /root/nltk_data...\n",
            "[nltk_data]    |   Unzipping corpora/senseval.zip.\n",
            "[nltk_data]    | Downloading package state_union to /root/nltk_data...\n",
            "[nltk_data]    |   Unzipping corpora/state_union.zip.\n",
            "[nltk_data]    | Downloading package stopwords to /root/nltk_data...\n",
            "[nltk_data]    |   Unzipping corpora/stopwords.zip.\n",
            "[nltk_data]    | Downloading package swadesh to /root/nltk_data...\n",
            "[nltk_data]    |   Unzipping corpora/swadesh.zip.\n",
            "[nltk_data]    | Downloading package timit to /root/nltk_data...\n",
            "[nltk_data]    |   Unzipping corpora/timit.zip.\n",
            "[nltk_data]    | Downloading package treebank to /root/nltk_data...\n",
            "[nltk_data]    |   Unzipping corpora/treebank.zip.\n",
            "[nltk_data]    | Downloading package toolbox to /root/nltk_data...\n",
            "[nltk_data]    |   Unzipping corpora/toolbox.zip.\n",
            "[nltk_data]    | Downloading package udhr to /root/nltk_data...\n",
            "[nltk_data]    |   Unzipping corpora/udhr.zip.\n",
            "[nltk_data]    | Downloading package udhr2 to /root/nltk_data...\n",
            "[nltk_data]    |   Unzipping corpora/udhr2.zip.\n",
            "[nltk_data]    | Downloading package unicode_samples to\n",
            "[nltk_data]    |     /root/nltk_data...\n",
            "[nltk_data]    |   Unzipping corpora/unicode_samples.zip.\n",
            "[nltk_data]    | Downloading package webtext to /root/nltk_data...\n",
            "[nltk_data]    |   Unzipping corpora/webtext.zip.\n",
            "[nltk_data]    | Downloading package wordnet to /root/nltk_data...\n",
            "[nltk_data]    | Downloading package wordnet_ic to /root/nltk_data...\n",
            "[nltk_data]    |   Unzipping corpora/wordnet_ic.zip.\n",
            "[nltk_data]    | Downloading package words to /root/nltk_data...\n",
            "[nltk_data]    |   Unzipping corpora/words.zip.\n",
            "[nltk_data]    | Downloading package maxent_treebank_pos_tagger to\n",
            "[nltk_data]    |     /root/nltk_data...\n",
            "[nltk_data]    |   Unzipping taggers/maxent_treebank_pos_tagger.zip.\n",
            "[nltk_data]    | Downloading package maxent_ne_chunker to\n",
            "[nltk_data]    |     /root/nltk_data...\n",
            "[nltk_data]    |   Unzipping chunkers/maxent_ne_chunker.zip.\n",
            "[nltk_data]    | Downloading package universal_tagset to\n",
            "[nltk_data]    |     /root/nltk_data...\n",
            "[nltk_data]    |   Unzipping taggers/universal_tagset.zip.\n",
            "[nltk_data]    | Downloading package punkt to /root/nltk_data...\n",
            "[nltk_data]    |   Unzipping tokenizers/punkt.zip.\n",
            "[nltk_data]    | Downloading package book_grammars to\n",
            "[nltk_data]    |     /root/nltk_data...\n",
            "[nltk_data]    |   Unzipping grammars/book_grammars.zip.\n",
            "[nltk_data]    | Downloading package city_database to\n",
            "[nltk_data]    |     /root/nltk_data...\n",
            "[nltk_data]    |   Unzipping corpora/city_database.zip.\n",
            "[nltk_data]    | Downloading package tagsets to /root/nltk_data...\n",
            "[nltk_data]    |   Unzipping help/tagsets.zip.\n",
            "[nltk_data]    | Downloading package panlex_swadesh to\n",
            "[nltk_data]    |     /root/nltk_data...\n",
            "[nltk_data]    | Downloading package averaged_perceptron_tagger to\n",
            "[nltk_data]    |     /root/nltk_data...\n",
            "[nltk_data]    |   Unzipping taggers/averaged_perceptron_tagger.zip.\n",
            "[nltk_data]    | \n",
            "[nltk_data]  Done downloading collection book\n"
          ]
        },
        {
          "output_type": "execute_result",
          "data": {
            "text/plain": [
              "True"
            ]
          },
          "metadata": {},
          "execution_count": 3
        }
      ],
      "source": [
        "import nltk\n",
        "nltk.download(\"book\")"
      ]
    },
    {
      "cell_type": "markdown",
      "source": [
        "When you have run the above cell correctly, the last two lines should read \"Done Downloading collection book and then \"True.\" \n",
        "\n",
        "In this next part, you're going to use Python to tell the computer \"from NLTK's book module, load all items.\" The book module contains the data that you'll need for this chapter, which is a corpus of book text that has been pre-prepared for use with NLTK. It's important to know that these texts are already cleaned for you, as it will be much neater and easier to work with than if you were working with another plain text file that was not prepared in advance. We'll look at files that have not been prepared later, but for now, let's work with the files that come as part of NLTK. "
      ],
      "metadata": {
        "id": "twQJ5k4VS06S"
      }
    },
    {
      "cell_type": "code",
      "source": [
        "from nltk.book import *"
      ],
      "metadata": {
        "id": "A0C3JDwxQbjt",
        "colab": {
          "base_uri": "https://localhost:8080/"
        },
        "outputId": "a548a8fb-d77d-4b94-cc8b-bad6b629b681"
      },
      "execution_count": 4,
      "outputs": [
        {
          "output_type": "stream",
          "name": "stdout",
          "text": [
            "*** Introductory Examples for the NLTK Book ***\n",
            "Loading text1, ..., text9 and sent1, ..., sent9\n",
            "Type the name of the text or sentence to view it.\n",
            "Type: 'texts()' or 'sents()' to list the materials.\n",
            "text1: Moby Dick by Herman Melville 1851\n",
            "text2: Sense and Sensibility by Jane Austen 1811\n",
            "text3: The Book of Genesis\n",
            "text4: Inaugural Address Corpus\n",
            "text5: Chat Corpus\n",
            "text6: Monty Python and the Holy Grail\n",
            "text7: Wall Street Journal\n",
            "text8: Personals Corpus\n",
            "text9: The Man Who Was Thursday by G . K . Chesterton 1908\n"
          ]
        }
      ]
    },
    {
      "cell_type": "markdown",
      "metadata": {
        "id": "sYyLM0XyP1WV"
      },
      "source": [
        "You have now told Python that you want to have NLTK ready and from NLTK's book corpora, you want to install everything (the * is used as a wild card in many computer programs). So, the correct answer should look like a list of titles. They begin text1:, text2:, etc. In other words, rather than having to type \"Moby Dick by Herman Melville 1951\" every time you want to use it, NLTK has given it a shortened name: text1. If you give Python this name, it will return to you the title of the text. Try that in the next cell. "
      ]
    },
    {
      "cell_type": "code",
      "execution_count": 5,
      "metadata": {
        "id": "RYzGyJmrP1WV",
        "outputId": "f01cd988-723c-4098-d937-74586f453fe3",
        "colab": {
          "base_uri": "https://localhost:8080/"
        }
      },
      "outputs": [
        {
          "output_type": "execute_result",
          "data": {
            "text/plain": [
              "<Text: Moby Dick by Herman Melville 1851>"
            ]
          },
          "metadata": {},
          "execution_count": 5
        }
      ],
      "source": [
        "text1"
      ]
    },
    {
      "cell_type": "code",
      "execution_count": 6,
      "metadata": {
        "id": "CCiU4B9dP1WV",
        "outputId": "75053acd-d906-4425-fc1b-f64dc6d517a5",
        "colab": {
          "base_uri": "https://localhost:8080/"
        }
      },
      "outputs": [
        {
          "output_type": "execute_result",
          "data": {
            "text/plain": [
              "<Text: Sense and Sensibility by Jane Austen 1811>"
            ]
          },
          "metadata": {},
          "execution_count": 6
        }
      ],
      "source": [
        "text2"
      ]
    },
    {
      "cell_type": "markdown",
      "metadata": {
        "id": "tepjMc8SP1WV"
      },
      "source": [
        "### 1.3   Searching Text\n",
        "There are many ways to examine the context of a text apart from simply reading it. A concordance view shows us every occurrence of a given word, together with some context. Here we look up the word monstrous in Moby Dick by entering text1 followed by a period, then the term concordance, and then placing **\"monstrous\"** in parentheses:"
      ]
    },
    {
      "cell_type": "code",
      "execution_count": 7,
      "metadata": {
        "id": "UYVQ9iBsP1WW",
        "outputId": "68bc2754-8d5e-4036-9ad6-e21c3175bb8d",
        "colab": {
          "base_uri": "https://localhost:8080/"
        }
      },
      "outputs": [
        {
          "output_type": "stream",
          "name": "stdout",
          "text": [
            "Displaying 11 of 11 matches:\n",
            "ong the former , one was of a most monstrous size . ... This came towards us , \n",
            "ON OF THE PSALMS . \" Touching that monstrous bulk of the whale or ork we have r\n",
            "ll over with a heathenish array of monstrous clubs and spears . Some were thick\n",
            "d as you gazed , and wondered what monstrous cannibal and savage could ever hav\n",
            "that has survived the flood ; most monstrous and most mountainous ! That Himmal\n",
            "they might scout at Moby Dick as a monstrous fable , or still worse and more de\n",
            "th of Radney .'\" CHAPTER 55 Of the Monstrous Pictures of Whales . I shall ere l\n",
            "ing Scenes . In connexion with the monstrous pictures of whales , I am strongly\n",
            "ere to enter upon those still more monstrous stories of them which are to be fo\n",
            "ght have been rummaged out of this monstrous cabinet there is no telling . But \n",
            "of Whale - Bones ; for Whales of a monstrous size are oftentimes cast up dead u\n"
          ]
        }
      ],
      "source": [
        "text1.concordance(\"monstrous\")"
      ]
    },
    {
      "cell_type": "markdown",
      "metadata": {
        "id": "4L0dSnFWP1WW"
      },
      "source": [
        "**Your Turn:** Try searching for other words; to save re-typing, you might be able to use up-arrow, Ctrl-up-arrow or Alt-p to access the previous command and modify the word being searched. You can also try searches on some of the other texts we have included. For example, search Sense and Sensibility for the word affection, using\n",
        "```  \n",
        "text2.concordance(\"affection\")\n",
        "```\n",
        "\n",
        "Search the book of Genesis to find out how long some people lived, using\n",
        "``` \n",
        "text3.concordance(\"lived\")\n",
        "```\n",
        "\n",
        "You could look at text4, the Inaugural Address Corpus, to see examples of English going back to 1789, and search for words like nation, terror, god to see how these words have been used differently over time. We've also included text5, the NPS Chat Corpus: search this for unconventional words like im, ur, lol. (Note that this corpus is uncensored!)"
      ]
    },
    {
      "cell_type": "code",
      "execution_count": 8,
      "metadata": {
        "id": "rhIZBt31P1WW",
        "outputId": "baec340d-ce64-4c6d-fd99-6d0afab1a652",
        "colab": {
          "base_uri": "https://localhost:8080/"
        }
      },
      "outputs": [
        {
          "output_type": "stream",
          "name": "stdout",
          "text": [
            "Displaying 1 of 1 matches:\n",
            "ng ?-- delicate -- tender -- truly feminine -- was it not ?\" \" Your wife !-- T\n"
          ]
        }
      ],
      "source": [
        "text2.concordance(\"feminine\")"
      ]
    },
    {
      "cell_type": "markdown",
      "metadata": {
        "id": "1wyymqRlP1WW"
      },
      "source": [
        "Once you've spent a little while examining these texts, we hope you have a new sense of the richness and diversity of language. In the next chapter you will learn how to access a broader range of text, including text in languages other than English.\n",
        "\n",
        "A concordance permits us to see words in context. For example, we saw that _monstrous_ occurred in contexts such as the \\___  pictures and a \\___ size . What other words appear in a similar range of contexts? We can find out by appending the term similar to the name of the text in question, then inserting the relevant word in parentheses:"
      ]
    },
    {
      "cell_type": "code",
      "execution_count": 9,
      "metadata": {
        "id": "aLY5zPSGP1WW",
        "colab": {
          "base_uri": "https://localhost:8080/"
        },
        "outputId": "269a9972-e006-418e-957c-c17879024bf3"
      },
      "outputs": [
        {
          "output_type": "stream",
          "name": "stdout",
          "text": [
            "true contemptible christian abundant few part mean careful puzzled\n",
            "mystifying passing curious loving wise doleful gamesome singular\n",
            "delightfully perilous fearless\n"
          ]
        }
      ],
      "source": [
        "text1.similar(\"monstrous\")"
      ]
    },
    {
      "cell_type": "code",
      "execution_count": 10,
      "metadata": {
        "id": "RpjYhGuLP1WW",
        "colab": {
          "base_uri": "https://localhost:8080/"
        },
        "outputId": "c1d8a6b8-fe34-4eb7-9112-8be3a437b4fa"
      },
      "outputs": [
        {
          "output_type": "stream",
          "name": "stdout",
          "text": [
            "very so exceedingly heartily a as good great extremely remarkably\n",
            "sweet vast amazingly\n"
          ]
        }
      ],
      "source": [
        "text2.similar(\"monstrous\")"
      ]
    },
    {
      "cell_type": "markdown",
      "metadata": {
        "id": "FXQascC7P1WW"
      },
      "source": [
        "Observe that we get different results for different texts. Austen uses this word quite differently from Melville; for her, _monstrous_ has positive connotations, and sometimes functions as an intensifier like the word _very_.\n",
        "\n",
        "The term ```common_contexts ``` allows us to examine just the contexts that are shared by two or more words, such as _monstrous_ and _very_. We have to enclose these words by square brackets as well as parentheses, and separate them with a comma:"
      ]
    },
    {
      "cell_type": "code",
      "execution_count": 11,
      "metadata": {
        "id": "jhA4X1jKP1WW",
        "colab": {
          "base_uri": "https://localhost:8080/"
        },
        "outputId": "4d0fb521-9cc4-4a69-ae0c-818722b5e800"
      },
      "outputs": [
        {
          "output_type": "stream",
          "name": "stdout",
          "text": [
            "am_glad a_pretty a_lucky is_pretty be_glad\n"
          ]
        }
      ],
      "source": [
        "text2.common_contexts([\"monstrous\", \"very\"])"
      ]
    },
    {
      "cell_type": "markdown",
      "metadata": {
        "id": "yj-14yh8P1WX"
      },
      "source": [
        "**Your turn:** pick another pair of words and compare their usage in two different texts, using the ```similar()``` and ```common_contexts()``` functions."
      ]
    },
    {
      "cell_type": "code",
      "execution_count": null,
      "metadata": {
        "collapsed": true,
        "id": "st1AlicGP1WX"
      },
      "outputs": [],
      "source": []
    },
    {
      "cell_type": "markdown",
      "metadata": {
        "id": "pgBtyJ3tP1WX"
      },
      "source": [
        "It is one thing to automatically detect that a particular word occurs in a text, and to display some words that appear in the same context. However, we can also determine the location of a word in the text: how many words from the beginning it appears. This positional information can be displayed using a **dispersion plot.** Each stripe represents an instance of a word, and each row represents the entire text. In 1.2 (https://www.nltk.org/book/ch01.html#fig-inaugural) we see some striking patterns of word usage over the last 220 years (in an artificial text constructed by joining the texts of the Inaugural Address Corpus end-to-end). You can produce this plot as shown below. You might like to try more words (e.g., _liberty_, _constitution_), and different texts. Can you predict the dispersion of a word before you view it? As before, take care to get the quotes, commas, brackets and parentheses exactly right."
      ]
    },
    {
      "cell_type": "code",
      "execution_count": 12,
      "metadata": {
        "id": "11JJDM0bP1WX",
        "colab": {
          "base_uri": "https://localhost:8080/",
          "height": 295
        },
        "outputId": "f2fafbe9-bc01-4bef-fdf5-7d0ca584a846"
      },
      "outputs": [
        {
          "output_type": "display_data",
          "data": {
            "text/plain": [
              "<Figure size 432x288 with 1 Axes>"
            ],
            "image/png": "[encoded data removed]"
          },
          "metadata": {
            "needs_background": "light"
          }
        }
      ],
      "source": [
        "text4.dispersion_plot([\"citizens\",\"democracy\", \"freedom\", \"duties\", \"America\"])"
      ]
    },
    {
      "cell_type": "markdown",
      "metadata": {
        "id": "umjup0hbP1WX"
      },
      "source": [
        "**Important Note**: You need to have Python's NumPy and Matplotlib packages installed in order to produce the graphical plots used in this book. If you have already installed Anaconda, these should already be on your computer.\n",
        "\n",
        "**Note** You can also plot the frequency of word usage through time using https://books.google.com/ngrams. Which is to say that *this* is the function that Google's N-grams viewer is making use of. "
      ]
    },
    {
      "cell_type": "markdown",
      "metadata": {
        "id": "skHPGL-kP1WX"
      },
      "source": [
        "**Also note** There is an exercise in the http://nltk.org book that uses a function to generate random text based on a book from the corpus. This feature no long works in Python 3.0 or above, but is expected to be added back in eventually. "
      ]
    },
    {
      "cell_type": "markdown",
      "metadata": {
        "id": "xLjqer-wP1WX"
      },
      "source": [
        "### 1.4   Counting Vocabulary\n",
        "The most obvious fact about texts that emerges from the preceding examples is that they differ in the vocabulary they use. In this section we will see how to use the computer to count the words in a text in a variety of useful ways. As before, you will jump right in and experiment with the Python interpreter, even though you may not have studied Python systematically yet. Test your understanding by modifying the examples, and trying the exercises at the end of the chapter.\n",
        "\n",
        "Let's begin by finding out the length of a text from start to finish, in terms of the words and punctuation symbols that appear. We use the term len to get the length of something, which we'll apply here to the book of Genesis:"
      ]
    },
    {
      "cell_type": "code",
      "execution_count": 13,
      "metadata": {
        "id": "NYcWBD_CP1WX",
        "colab": {
          "base_uri": "https://localhost:8080/"
        },
        "outputId": "90f013b9-dd87-4299-db39-65aeea859cda"
      },
      "outputs": [
        {
          "output_type": "execute_result",
          "data": {
            "text/plain": [
              "44764"
            ]
          },
          "metadata": {},
          "execution_count": 13
        }
      ],
      "source": [
        "len(text3)"
      ]
    },
    {
      "cell_type": "markdown",
      "metadata": {
        "id": "09rOwFzjP1WX"
      },
      "source": [
        "So Genesis has 44,764 words and punctuation symbols, or \"tokens.\" A **token** is the technical name for a sequence of characters — such as ```hairy, his, or :) ``` — that we want to treat as a group. When we count the number of tokens in a text, say, the phrase _to be or not to be_, we are counting occurrences of these sequences. Thus, in our example phrase there are two occurrences of _to_, two of _be_, and one each of _or_ and _not_. But there are only four distinct vocabulary items in this phrase. How many distinct words does the book of Genesis contain? To work this out in Python, we have to pose the question slightly differently. The vocabulary of a text is just the set of tokens that it uses, since in a set, all duplicates are collapsed together. In Python we can obtain the vocabulary items of ```text3 ``` with the command: ```set(text3)```. When you do this, many screens of words will fly past. Now try the following:"
      ]
    },
    {
      "cell_type": "code",
      "execution_count": 14,
      "metadata": {
        "id": "L2a8su9tP1WY",
        "colab": {
          "base_uri": "https://localhost:8080/"
        },
        "outputId": "2a2267d3-8631-4c54-bfa5-1e10d8908900"
      },
      "outputs": [
        {
          "output_type": "execute_result",
          "data": {
            "text/plain": [
              "['!',\n",
              " \"'\",\n",
              " '(',\n",
              " ')',\n",
              " ',',\n",
              " ',)',\n",
              " '.',\n",
              " '.)',\n",
              " ':',\n",
              " ';',\n",
              " ';)',\n",
              " '?',\n",
              " '?)',\n",
              " 'A',\n",
              " 'Abel',\n",
              " 'Abelmizraim',\n",
              " 'Abidah',\n",
              " 'Abide',\n",
              " 'Abimael',\n",
              " 'Abimelech',\n",
              " 'Abr',\n",
              " 'Abrah',\n",
              " 'Abraham',\n",
              " 'Abram',\n",
              " 'Accad',\n",
              " 'Achbor',\n",
              " 'Adah',\n",
              " 'Adam',\n",
              " 'Adbeel',\n",
              " 'Admah',\n",
              " 'Adullamite',\n",
              " 'After',\n",
              " 'Aholibamah',\n",
              " 'Ahuzzath',\n",
              " 'Ajah',\n",
              " 'Akan',\n",
              " 'All',\n",
              " 'Allonbachuth',\n",
              " 'Almighty',\n",
              " 'Almodad',\n",
              " 'Also',\n",
              " 'Alvah',\n",
              " 'Alvan',\n",
              " 'Am',\n",
              " 'Amal',\n",
              " 'Amalek',\n",
              " 'Amalekites',\n",
              " 'Ammon',\n",
              " 'Amorite',\n",
              " 'Amorites',\n",
              " 'Amraphel',\n",
              " 'An',\n",
              " 'Anah',\n",
              " 'Anamim',\n",
              " 'And',\n",
              " 'Aner',\n",
              " 'Angel',\n",
              " 'Appoint',\n",
              " 'Aram',\n",
              " 'Aran',\n",
              " 'Ararat',\n",
              " 'Arbah',\n",
              " 'Ard',\n",
              " 'Are',\n",
              " 'Areli',\n",
              " 'Arioch',\n",
              " 'Arise',\n",
              " 'Arkite',\n",
              " 'Arodi',\n",
              " 'Arphaxad',\n",
              " 'Art',\n",
              " 'Arvadite',\n",
              " 'As',\n",
              " 'Asenath',\n",
              " 'Ashbel',\n",
              " 'Asher',\n",
              " 'Ashkenaz',\n",
              " 'Ashteroth',\n",
              " 'Ask',\n",
              " 'Asshur',\n",
              " 'Asshurim',\n",
              " 'Assyr',\n",
              " 'Assyria',\n",
              " 'At',\n",
              " 'Atad',\n",
              " 'Avith',\n",
              " 'Baalhanan',\n",
              " 'Babel',\n",
              " 'Bashemath',\n",
              " 'Be',\n",
              " 'Because',\n",
              " 'Becher',\n",
              " 'Bedad',\n",
              " 'Beeri',\n",
              " 'Beerlahairoi',\n",
              " 'Beersheba',\n",
              " 'Behold',\n",
              " 'Bela',\n",
              " 'Belah',\n",
              " 'Benam',\n",
              " 'Benjamin',\n",
              " 'Beno',\n",
              " 'Beor',\n",
              " 'Bera',\n",
              " 'Bered',\n",
              " 'Beriah',\n",
              " 'Bethel',\n",
              " 'Bethlehem',\n",
              " 'Bethuel',\n",
              " 'Beware',\n",
              " 'Bilhah',\n",
              " 'Bilhan',\n",
              " 'Binding',\n",
              " 'Birsha',\n",
              " 'Bless',\n",
              " 'Blessed',\n",
              " 'Both',\n",
              " 'Bow',\n",
              " 'Bozrah',\n",
              " 'Bring',\n",
              " 'But',\n",
              " 'Buz',\n",
              " 'By',\n",
              " 'Cain',\n",
              " 'Cainan',\n",
              " 'Calah',\n",
              " 'Calneh',\n",
              " 'Can',\n",
              " 'Cana',\n",
              " 'Canaan',\n",
              " 'Canaanite',\n",
              " 'Canaanites',\n",
              " 'Canaanitish',\n",
              " 'Caphtorim',\n",
              " 'Carmi',\n",
              " 'Casluhim',\n",
              " 'Cast',\n",
              " 'Cause',\n",
              " 'Chaldees',\n",
              " 'Chedorlaomer',\n",
              " 'Cheran',\n",
              " 'Cherubims',\n",
              " 'Chesed',\n",
              " 'Chezib',\n",
              " 'Come',\n",
              " 'Cursed',\n",
              " 'Cush',\n",
              " 'Damascus',\n",
              " 'Dan',\n",
              " 'Day',\n",
              " 'Deborah',\n",
              " 'Dedan',\n",
              " 'Deliver',\n",
              " 'Diklah',\n",
              " 'Din',\n",
              " 'Dinah',\n",
              " 'Dinhabah',\n",
              " 'Discern',\n",
              " 'Dishan',\n",
              " 'Dishon',\n",
              " 'Do',\n",
              " 'Dodanim',\n",
              " 'Dothan',\n",
              " 'Drink',\n",
              " 'Duke',\n",
              " 'Dumah',\n",
              " 'Earth',\n",
              " 'Ebal',\n",
              " 'Eber',\n",
              " 'Edar',\n",
              " 'Eden',\n",
              " 'Edom',\n",
              " 'Edomites',\n",
              " 'Egy',\n",
              " 'Egypt',\n",
              " 'Egyptia',\n",
              " 'Egyptian',\n",
              " 'Egyptians',\n",
              " 'Ehi',\n",
              " 'Elah',\n",
              " 'Elam',\n",
              " 'Elbethel',\n",
              " 'Eldaah',\n",
              " 'EleloheIsrael',\n",
              " 'Eliezer',\n",
              " 'Eliphaz',\n",
              " 'Elishah',\n",
              " 'Ellasar',\n",
              " 'Elon',\n",
              " 'Elparan',\n",
              " 'Emins',\n",
              " 'En',\n",
              " 'Enmishpat',\n",
              " 'Eno',\n",
              " 'Enoch',\n",
              " 'Enos',\n",
              " 'Ephah',\n",
              " 'Epher',\n",
              " 'Ephra',\n",
              " 'Ephraim',\n",
              " 'Ephrath',\n",
              " 'Ephron',\n",
              " 'Er',\n",
              " 'Erech',\n",
              " 'Eri',\n",
              " 'Es',\n",
              " 'Esau',\n",
              " 'Escape',\n",
              " 'Esek',\n",
              " 'Eshban',\n",
              " 'Eshcol',\n",
              " 'Ethiopia',\n",
              " 'Euphrat',\n",
              " 'Euphrates',\n",
              " 'Eve',\n",
              " 'Even',\n",
              " 'Every',\n",
              " 'Except',\n",
              " 'Ezbon',\n",
              " 'Ezer',\n",
              " 'Fear',\n",
              " 'Feed',\n",
              " 'Fifteen',\n",
              " 'Fill',\n",
              " 'For',\n",
              " 'Forasmuch',\n",
              " 'Forgive',\n",
              " 'From',\n",
              " 'Fulfil',\n",
              " 'G',\n",
              " 'Gad',\n",
              " 'Gaham',\n",
              " 'Galeed',\n",
              " 'Gatam',\n",
              " 'Gather',\n",
              " 'Gaza',\n",
              " 'Gentiles',\n",
              " 'Gera',\n",
              " 'Gerar',\n",
              " 'Gershon',\n",
              " 'Get',\n",
              " 'Gether',\n",
              " 'Gihon',\n",
              " 'Gilead',\n",
              " 'Girgashites',\n",
              " 'Girgasite',\n",
              " 'Give',\n",
              " 'Go',\n",
              " 'God',\n",
              " 'Gomer',\n",
              " 'Gomorrah',\n",
              " 'Goshen',\n",
              " 'Guni',\n",
              " 'Hadad',\n",
              " 'Hadar',\n",
              " 'Hadoram',\n",
              " 'Hagar',\n",
              " 'Haggi',\n",
              " 'Hai',\n",
              " 'Ham',\n",
              " 'Hamathite',\n",
              " 'Hamor',\n",
              " 'Hamul',\n",
              " 'Hanoch',\n",
              " 'Happy',\n",
              " 'Haran',\n",
              " 'Hast',\n",
              " 'Haste',\n",
              " 'Have',\n",
              " 'Havilah',\n",
              " 'Hazarmaveth',\n",
              " 'Hazezontamar',\n",
              " 'Hazo',\n",
              " 'He',\n",
              " 'Hear',\n",
              " 'Heaven',\n",
              " 'Heber',\n",
              " 'Hebrew',\n",
              " 'Hebrews',\n",
              " 'Hebron',\n",
              " 'Hemam',\n",
              " 'Hemdan',\n",
              " 'Here',\n",
              " 'Hereby',\n",
              " 'Heth',\n",
              " 'Hezron',\n",
              " 'Hiddekel',\n",
              " 'Hinder',\n",
              " 'Hirah',\n",
              " 'His',\n",
              " 'Hitti',\n",
              " 'Hittite',\n",
              " 'Hittites',\n",
              " 'Hivite',\n",
              " 'Hobah',\n",
              " 'Hori',\n",
              " 'Horite',\n",
              " 'Horites',\n",
              " 'How',\n",
              " 'Hul',\n",
              " 'Huppim',\n",
              " 'Husham',\n",
              " 'Hushim',\n",
              " 'Huz',\n",
              " 'I',\n",
              " 'If',\n",
              " 'In',\n",
              " 'Irad',\n",
              " 'Iram',\n",
              " 'Is',\n",
              " 'Isa',\n",
              " 'Isaac',\n",
              " 'Iscah',\n",
              " 'Ishbak',\n",
              " 'Ishmael',\n",
              " 'Ishmeelites',\n",
              " 'Ishuah',\n",
              " 'Isra',\n",
              " 'Israel',\n",
              " 'Issachar',\n",
              " 'Isui',\n",
              " 'It',\n",
              " 'Ithran',\n",
              " 'Jaalam',\n",
              " 'Jabal',\n",
              " 'Jabbok',\n",
              " 'Jac',\n",
              " 'Jachin',\n",
              " 'Jacob',\n",
              " 'Jahleel',\n",
              " 'Jahzeel',\n",
              " 'Jamin',\n",
              " 'Japhe',\n",
              " 'Japheth',\n",
              " 'Jared',\n",
              " 'Javan',\n",
              " 'Jebusite',\n",
              " 'Jebusites',\n",
              " 'Jegarsahadutha',\n",
              " 'Jehovahjireh',\n",
              " 'Jemuel',\n",
              " 'Jerah',\n",
              " 'Jetheth',\n",
              " 'Jetur',\n",
              " 'Jeush',\n",
              " 'Jezer',\n",
              " 'Jidlaph',\n",
              " 'Jimnah',\n",
              " 'Job',\n",
              " 'Jobab',\n",
              " 'Jokshan',\n",
              " 'Joktan',\n",
              " 'Jordan',\n",
              " 'Joseph',\n",
              " 'Jubal',\n",
              " 'Judah',\n",
              " 'Judge',\n",
              " 'Judith',\n",
              " 'Kadesh',\n",
              " 'Kadmonites',\n",
              " 'Karnaim',\n",
              " 'Kedar',\n",
              " 'Kedemah',\n",
              " 'Kemuel',\n",
              " 'Kenaz',\n",
              " 'Kenites',\n",
              " 'Kenizzites',\n",
              " 'Keturah',\n",
              " 'Kiriathaim',\n",
              " 'Kirjatharba',\n",
              " 'Kittim',\n",
              " 'Know',\n",
              " 'Kohath',\n",
              " 'Kor',\n",
              " 'Korah',\n",
              " 'LO',\n",
              " 'LORD',\n",
              " 'Laban',\n",
              " 'Lahairoi',\n",
              " 'Lamech',\n",
              " 'Lasha',\n",
              " 'Lay',\n",
              " 'Leah',\n",
              " 'Lehabim',\n",
              " 'Lest',\n",
              " 'Let',\n",
              " 'Letushim',\n",
              " 'Leummim',\n",
              " 'Levi',\n",
              " 'Lie',\n",
              " 'Lift',\n",
              " 'Lo',\n",
              " 'Look',\n",
              " 'Lot',\n",
              " 'Lotan',\n",
              " 'Lud',\n",
              " 'Ludim',\n",
              " 'Luz',\n",
              " 'Maachah',\n",
              " 'Machir',\n",
              " 'Machpelah',\n",
              " 'Madai',\n",
              " 'Magdiel',\n",
              " 'Magog',\n",
              " 'Mahalaleel',\n",
              " 'Mahalath',\n",
              " 'Mahanaim',\n",
              " 'Make',\n",
              " 'Malchiel',\n",
              " 'Male',\n",
              " 'Mam',\n",
              " 'Mamre',\n",
              " 'Man',\n",
              " 'Manahath',\n",
              " 'Manass',\n",
              " 'Manasseh',\n",
              " 'Mash',\n",
              " 'Masrekah',\n",
              " 'Massa',\n",
              " 'Matred',\n",
              " 'Me',\n",
              " 'Medan',\n",
              " 'Mehetabel',\n",
              " 'Mehujael',\n",
              " 'Melchizedek',\n",
              " 'Merari',\n",
              " 'Mesha',\n",
              " 'Meshech',\n",
              " 'Mesopotamia',\n",
              " 'Methusa',\n",
              " 'Methusael',\n",
              " 'Methuselah',\n",
              " 'Mezahab',\n",
              " 'Mibsam',\n",
              " 'Mibzar',\n",
              " 'Midian',\n",
              " 'Midianites',\n",
              " 'Milcah',\n",
              " 'Mishma',\n",
              " 'Mizpah',\n",
              " 'Mizraim',\n",
              " 'Mizz',\n",
              " 'Moab',\n",
              " 'Moabites',\n",
              " 'Moreh',\n",
              " 'Moreover',\n",
              " 'Moriah',\n",
              " 'Muppim',\n",
              " 'My',\n",
              " 'Naamah',\n",
              " 'Naaman',\n",
              " 'Nahath',\n",
              " 'Nahor',\n",
              " 'Naphish',\n",
              " 'Naphtali',\n",
              " 'Naphtuhim',\n",
              " 'Nay',\n",
              " 'Nebajoth',\n",
              " 'Neither',\n",
              " 'Night',\n",
              " 'Nimrod',\n",
              " 'Nineveh',\n",
              " 'Noah',\n",
              " 'Nod',\n",
              " 'Not',\n",
              " 'Now',\n",
              " 'O',\n",
              " 'Obal',\n",
              " 'Of',\n",
              " 'Oh',\n",
              " 'Ohad',\n",
              " 'Omar',\n",
              " 'On',\n",
              " 'Onam',\n",
              " 'Onan',\n",
              " 'Only',\n",
              " 'Ophir',\n",
              " 'Our',\n",
              " 'Out',\n",
              " 'Padan',\n",
              " 'Padanaram',\n",
              " 'Paran',\n",
              " 'Pass',\n",
              " 'Pathrusim',\n",
              " 'Pau',\n",
              " 'Peace',\n",
              " 'Peleg',\n",
              " 'Peniel',\n",
              " 'Penuel',\n",
              " 'Peradventure',\n",
              " 'Perizzit',\n",
              " 'Perizzite',\n",
              " 'Perizzites',\n",
              " 'Phallu',\n",
              " 'Phara',\n",
              " 'Pharaoh',\n",
              " 'Pharez',\n",
              " 'Phichol',\n",
              " 'Philistim',\n",
              " 'Philistines',\n",
              " 'Phut',\n",
              " 'Phuvah',\n",
              " 'Pildash',\n",
              " 'Pinon',\n",
              " 'Pison',\n",
              " 'Potiphar',\n",
              " 'Potipherah',\n",
              " 'Put',\n",
              " 'Raamah',\n",
              " 'Rachel',\n",
              " 'Rameses',\n",
              " 'Rebek',\n",
              " 'Rebekah',\n",
              " 'Rehoboth',\n",
              " 'Remain',\n",
              " 'Rephaims',\n",
              " 'Resen',\n",
              " 'Return',\n",
              " 'Reu',\n",
              " 'Reub',\n",
              " 'Reuben',\n",
              " 'Reuel',\n",
              " 'Reumah',\n",
              " 'Riphath',\n",
              " 'Rosh',\n",
              " 'Sabtah',\n",
              " 'Sabtech',\n",
              " 'Said',\n",
              " 'Salah',\n",
              " 'Salem',\n",
              " 'Samlah',\n",
              " 'Sarah',\n",
              " 'Sarai',\n",
              " 'Saul',\n",
              " 'Save',\n",
              " 'Say',\n",
              " 'Se',\n",
              " 'Seba',\n",
              " 'See',\n",
              " 'Seeing',\n",
              " 'Seir',\n",
              " 'Sell',\n",
              " 'Send',\n",
              " 'Sephar',\n",
              " 'Serah',\n",
              " 'Sered',\n",
              " 'Serug',\n",
              " 'Set',\n",
              " 'Seth',\n",
              " 'Shalem',\n",
              " 'Shall',\n",
              " 'Shalt',\n",
              " 'Shammah',\n",
              " 'Shaul',\n",
              " 'Shaveh',\n",
              " 'She',\n",
              " 'Sheba',\n",
              " 'Shebah',\n",
              " 'Shechem',\n",
              " 'Shed',\n",
              " 'Shel',\n",
              " 'Shelah',\n",
              " 'Sheleph',\n",
              " 'Shem',\n",
              " 'Shemeber',\n",
              " 'Shepho',\n",
              " 'Shillem',\n",
              " 'Shiloh',\n",
              " 'Shimron',\n",
              " 'Shinab',\n",
              " 'Shinar',\n",
              " 'Shobal',\n",
              " 'Should',\n",
              " 'Shuah',\n",
              " 'Shuni',\n",
              " 'Shur',\n",
              " 'Sichem',\n",
              " 'Siddim',\n",
              " 'Sidon',\n",
              " 'Simeon',\n",
              " 'Sinite',\n",
              " 'Sitnah',\n",
              " 'Slay',\n",
              " 'So',\n",
              " 'Sod',\n",
              " 'Sodom',\n",
              " 'Sojourn',\n",
              " 'Some',\n",
              " 'Spake',\n",
              " 'Speak',\n",
              " 'Spirit',\n",
              " 'Stand',\n",
              " 'Succoth',\n",
              " 'Surely',\n",
              " 'Swear',\n",
              " 'Syrian',\n",
              " 'Take',\n",
              " 'Tamar',\n",
              " 'Tarshish',\n",
              " 'Tebah',\n",
              " 'Tell',\n",
              " 'Tema',\n",
              " 'Teman',\n",
              " 'Temani',\n",
              " 'Terah',\n",
              " 'Thahash',\n",
              " 'That',\n",
              " 'The',\n",
              " 'Then',\n",
              " 'There',\n",
              " 'Therefore',\n",
              " 'These',\n",
              " 'They',\n",
              " 'Thirty',\n",
              " 'This',\n",
              " 'Thorns',\n",
              " 'Thou',\n",
              " 'Thus',\n",
              " 'Thy',\n",
              " 'Tidal',\n",
              " 'Timna',\n",
              " 'Timnah',\n",
              " 'Timnath',\n",
              " 'Tiras',\n",
              " 'To',\n",
              " 'Togarmah',\n",
              " 'Tola',\n",
              " 'Tubal',\n",
              " 'Tubalcain',\n",
              " 'Twelve',\n",
              " 'Two',\n",
              " 'Unstable',\n",
              " 'Until',\n",
              " 'Unto',\n",
              " 'Up',\n",
              " 'Upon',\n",
              " 'Ur',\n",
              " 'Uz',\n",
              " 'Uzal',\n",
              " 'We',\n",
              " 'What',\n",
              " 'When',\n",
              " 'Whence',\n",
              " 'Where',\n",
              " 'Whereas',\n",
              " 'Wherefore',\n",
              " 'Which',\n",
              " 'While',\n",
              " 'Who',\n",
              " 'Whose',\n",
              " 'Whoso',\n",
              " 'Why',\n",
              " 'Wilt',\n",
              " 'With',\n",
              " 'Woman',\n",
              " 'Ye',\n",
              " 'Yea',\n",
              " 'Yet',\n",
              " 'Zaavan',\n",
              " 'Zaphnathpaaneah',\n",
              " 'Zar',\n",
              " 'Zarah',\n",
              " 'Zeboiim',\n",
              " 'Zeboim',\n",
              " 'Zebul',\n",
              " 'Zebulun',\n",
              " 'Zemarite',\n",
              " 'Zepho',\n",
              " 'Zerah',\n",
              " 'Zibeon',\n",
              " 'Zidon',\n",
              " 'Zillah',\n",
              " 'Zilpah',\n",
              " 'Zimran',\n",
              " 'Ziphion',\n",
              " 'Zo',\n",
              " 'Zoar',\n",
              " 'Zohar',\n",
              " 'Zuzims',\n",
              " 'a',\n",
              " 'abated',\n",
              " 'abide',\n",
              " 'able',\n",
              " 'abode',\n",
              " 'abomination',\n",
              " 'about',\n",
              " 'above',\n",
              " 'abroad',\n",
              " 'absent',\n",
              " 'abundantly',\n",
              " 'accept',\n",
              " 'accepted',\n",
              " 'according',\n",
              " 'acknowledged',\n",
              " 'activity',\n",
              " 'add',\n",
              " 'adder',\n",
              " 'afar',\n",
              " 'afflict',\n",
              " 'affliction',\n",
              " 'afraid',\n",
              " 'after',\n",
              " 'afterward',\n",
              " 'afterwards',\n",
              " 'aga',\n",
              " 'again',\n",
              " 'against',\n",
              " 'age',\n",
              " 'aileth',\n",
              " 'air',\n",
              " 'al',\n",
              " 'alive',\n",
              " 'all',\n",
              " 'almon',\n",
              " 'alo',\n",
              " 'alone',\n",
              " 'aloud',\n",
              " 'also',\n",
              " 'altar',\n",
              " 'altogether',\n",
              " 'always',\n",
              " 'am',\n",
              " 'among',\n",
              " 'amongst',\n",
              " 'an',\n",
              " 'and',\n",
              " 'angel',\n",
              " 'angels',\n",
              " 'anger',\n",
              " 'angry',\n",
              " 'anguish',\n",
              " 'anointedst',\n",
              " 'anoth',\n",
              " 'another',\n",
              " 'answer',\n",
              " 'answered',\n",
              " 'any',\n",
              " 'anything',\n",
              " 'appe',\n",
              " 'appear',\n",
              " 'appeared',\n",
              " 'appease',\n",
              " 'appoint',\n",
              " 'appointed',\n",
              " 'aprons',\n",
              " 'archer',\n",
              " 'archers',\n",
              " 'are',\n",
              " 'arise',\n",
              " 'ark',\n",
              " 'armed',\n",
              " 'arms',\n",
              " 'army',\n",
              " 'arose',\n",
              " 'arrayed',\n",
              " 'art',\n",
              " 'artificer',\n",
              " 'as',\n",
              " 'ascending',\n",
              " 'ash',\n",
              " 'ashamed',\n",
              " 'ask',\n",
              " 'asked',\n",
              " 'asketh',\n",
              " 'ass',\n",
              " 'assembly',\n",
              " 'asses',\n",
              " 'assigned',\n",
              " 'asswaged',\n",
              " 'at',\n",
              " 'attained',\n",
              " 'audience',\n",
              " 'avenged',\n",
              " 'aw',\n",
              " 'awaked',\n",
              " 'away',\n",
              " 'awoke',\n",
              " 'back',\n",
              " 'backward',\n",
              " 'bad',\n",
              " 'bade',\n",
              " 'badest',\n",
              " 'badne',\n",
              " 'bak',\n",
              " 'bake',\n",
              " 'bakemeats',\n",
              " 'baker',\n",
              " 'bakers',\n",
              " 'balm',\n",
              " 'bands',\n",
              " 'bank',\n",
              " 'bare',\n",
              " 'barr',\n",
              " 'barren',\n",
              " 'basket',\n",
              " 'baskets',\n",
              " 'battle',\n",
              " 'bdellium',\n",
              " 'be',\n",
              " 'bear',\n",
              " 'beari',\n",
              " 'bearing',\n",
              " 'beast',\n",
              " 'beasts',\n",
              " 'beautiful',\n",
              " 'became',\n",
              " 'because',\n",
              " 'become',\n",
              " 'bed',\n",
              " 'been',\n",
              " 'befall',\n",
              " 'befell',\n",
              " 'before',\n",
              " 'began',\n",
              " 'begat',\n",
              " 'beget',\n",
              " 'begettest',\n",
              " 'begin',\n",
              " 'beginning',\n",
              " 'begotten',\n",
              " 'beguiled',\n",
              " 'beheld',\n",
              " 'behind',\n",
              " 'behold',\n",
              " 'being',\n",
              " 'believed',\n",
              " 'belly',\n",
              " 'belong',\n",
              " 'beneath',\n",
              " 'bereaved',\n",
              " 'beside',\n",
              " 'besides',\n",
              " 'besought',\n",
              " 'best',\n",
              " 'betimes',\n",
              " 'better',\n",
              " 'between',\n",
              " 'betwixt',\n",
              " 'beyond',\n",
              " 'binding',\n",
              " 'bird',\n",
              " 'birds',\n",
              " 'birthday',\n",
              " 'birthright',\n",
              " 'biteth',\n",
              " 'bitter',\n",
              " 'blame',\n",
              " 'blameless',\n",
              " 'blasted',\n",
              " 'bless',\n",
              " 'blessed',\n",
              " 'blesseth',\n",
              " 'blessi',\n",
              " 'blessing',\n",
              " 'blessings',\n",
              " 'blindness',\n",
              " 'blood',\n",
              " 'blossoms',\n",
              " 'bodies',\n",
              " 'boldly',\n",
              " 'bondman',\n",
              " 'bondmen',\n",
              " 'bondwoman',\n",
              " 'bone',\n",
              " 'bones',\n",
              " 'book',\n",
              " 'booths',\n",
              " 'border',\n",
              " 'borders',\n",
              " 'born',\n",
              " 'bosom',\n",
              " 'both',\n",
              " 'bottle',\n",
              " 'bou',\n",
              " 'boug',\n",
              " 'bough',\n",
              " 'bought',\n",
              " 'bound',\n",
              " 'bow',\n",
              " 'bowed',\n",
              " 'bowels',\n",
              " 'bowing',\n",
              " 'boys',\n",
              " 'bracelets',\n",
              " 'branches',\n",
              " 'brass',\n",
              " 'bre',\n",
              " 'breach',\n",
              " 'bread',\n",
              " 'breadth',\n",
              " 'break',\n",
              " 'breaketh',\n",
              " 'breaking',\n",
              " 'breasts',\n",
              " 'breath',\n",
              " 'breathed',\n",
              " 'breed',\n",
              " 'brethren',\n",
              " 'brick',\n",
              " 'brimstone',\n",
              " 'bring',\n",
              " 'brink',\n",
              " 'broken',\n",
              " 'brook',\n",
              " 'broth',\n",
              " 'brother',\n",
              " 'brought',\n",
              " 'brown',\n",
              " 'bruise',\n",
              " 'budded',\n",
              " 'build',\n",
              " 'builded',\n",
              " 'built',\n",
              " 'bulls',\n",
              " 'bundle',\n",
              " 'bundles',\n",
              " 'burdens',\n",
              " 'buried',\n",
              " 'burn',\n",
              " 'burning',\n",
              " 'burnt',\n",
              " 'bury',\n",
              " 'buryingplace',\n",
              " 'business',\n",
              " 'but',\n",
              " 'butler',\n",
              " 'butlers',\n",
              " 'butlership',\n",
              " 'butter',\n",
              " 'buy',\n",
              " 'by',\n",
              " 'cakes',\n",
              " 'calf',\n",
              " 'call',\n",
              " 'called',\n",
              " 'came',\n",
              " 'camel',\n",
              " 'camels',\n",
              " 'camest',\n",
              " 'can',\n",
              " 'cannot',\n",
              " 'canst',\n",
              " 'captain',\n",
              " 'captive',\n",
              " 'captives',\n",
              " 'carcases',\n",
              " 'carried',\n",
              " 'carry',\n",
              " 'cast',\n",
              " 'castles',\n",
              " 'catt',\n",
              " 'cattle',\n",
              " 'caught',\n",
              " 'cause',\n",
              " 'caused',\n",
              " 'cave',\n",
              " 'cease',\n",
              " 'ceased',\n",
              " 'certain',\n",
              " 'certainly',\n",
              " 'chain',\n",
              " 'chamber',\n",
              " 'change',\n",
              " 'changed',\n",
              " 'changes',\n",
              " 'charge',\n",
              " 'charged',\n",
              " 'chariot',\n",
              " 'chariots',\n",
              " 'chesnut',\n",
              " 'chi',\n",
              " 'chief',\n",
              " 'child',\n",
              " 'childless',\n",
              " 'childr',\n",
              " 'children',\n",
              " 'chode',\n",
              " 'choice',\n",
              " 'chose',\n",
              " 'circumcis',\n",
              " 'circumcise',\n",
              " 'circumcised',\n",
              " 'citi',\n",
              " 'cities',\n",
              " 'city',\n",
              " 'clave',\n",
              " 'clean',\n",
              " 'clear',\n",
              " 'cleave',\n",
              " 'clo',\n",
              " 'closed',\n",
              " 'clothed',\n",
              " 'clothes',\n",
              " 'cloud',\n",
              " 'clusters',\n",
              " 'co',\n",
              " 'coat',\n",
              " 'coats',\n",
              " 'coffin',\n",
              " 'cold',\n",
              " ...]"
            ]
          },
          "metadata": {},
          "execution_count": 14
        }
      ],
      "source": [
        "sorted(set(text3))"
      ]
    },
    {
      "cell_type": "code",
      "execution_count": 15,
      "metadata": {
        "id": "PpokVwkkP1WY",
        "colab": {
          "base_uri": "https://localhost:8080/"
        },
        "outputId": "34beb010-5b94-41cf-eee9-3fc1dc53c59b"
      },
      "outputs": [
        {
          "output_type": "execute_result",
          "data": {
            "text/plain": [
              "2789"
            ]
          },
          "metadata": {},
          "execution_count": 15
        }
      ],
      "source": [
        "len(set(text3))"
      ]
    },
    {
      "cell_type": "markdown",
      "metadata": {
        "id": "fSzgaMclP1WY"
      },
      "source": [
        "By wrapping sorted() around the Python expression ```set(text3)```, we obtain a sorted list of vocabulary items, beginning with various punctuation symbols and continuing with words starting with _A_. All capitalized words precede lowercase words. We discover the size of the vocabulary indirectly, by asking for the number of items in the set, and again we can use ```len``` to obtain this number. Although it has 44,764 tokens, this book has only 2,789 distinct words, or \"word types.\" A **word type** is the form or spelling of the word independently of its specific occurrences in a text — that is, the word considered as a unique item of vocabulary. Our count of 2,789 items will include punctuation symbols, so we will generally call these unique items **types** instead of word types.\n",
        "\n",
        "Now, let's calculate a measure of the lexical richness of the text. The next example shows us that the number of distinct words is just 6% of the total number of words, or equivalently that each word is used 16 times on average (remember if you're using Python 2, to start with ```from __future__ import division```)."
      ]
    },
    {
      "cell_type": "code",
      "execution_count": 16,
      "metadata": {
        "id": "NXN1Jgl2P1WY",
        "colab": {
          "base_uri": "https://localhost:8080/"
        },
        "outputId": "43113b1f-c599-44d9-c355-31fb63580beb"
      },
      "outputs": [
        {
          "output_type": "execute_result",
          "data": {
            "text/plain": [
              "0.06230453042623537"
            ]
          },
          "metadata": {},
          "execution_count": 16
        }
      ],
      "source": [
        "len(set(text3)) / len(text3)"
      ]
    },
    {
      "cell_type": "markdown",
      "metadata": {
        "id": "AJxgJ3txP1WY"
      },
      "source": [
        "Next, let's focus on particular words. We can count how often a word occurs in a text, and compute what percentage of the text is taken up by a specific word:"
      ]
    },
    {
      "cell_type": "code",
      "execution_count": 17,
      "metadata": {
        "id": "tB-17P87P1WY",
        "colab": {
          "base_uri": "https://localhost:8080/"
        },
        "outputId": "f4123ff6-b88a-4f2b-809d-8a5f04b92580"
      },
      "outputs": [
        {
          "output_type": "execute_result",
          "data": {
            "text/plain": [
              "5"
            ]
          },
          "metadata": {},
          "execution_count": 17
        }
      ],
      "source": [
        "text3.count(\"smote\")"
      ]
    },
    {
      "cell_type": "code",
      "execution_count": 18,
      "metadata": {
        "id": "XLKW9au4P1WY",
        "colab": {
          "base_uri": "https://localhost:8080/"
        },
        "outputId": "4a8fd151-1b52-4b85-fc7a-f68a7700f088"
      },
      "outputs": [
        {
          "output_type": "execute_result",
          "data": {
            "text/plain": [
              "1.457806031353621"
            ]
          },
          "metadata": {},
          "execution_count": 18
        }
      ],
      "source": [
        "100 * text4.count('a') / len(text4) "
      ]
    },
    {
      "cell_type": "markdown",
      "metadata": {
        "id": "-fTAj1GeP1WY"
      },
      "source": [
        "**Exercise:** How many times does the word _lol_ appear in ```text5```? How much is this as a percentage of the total number of words in this text? [Use the first cell to count the instances of \"lol\" and the second cell to calculate the percentage of the entire text.]"
      ]
    },
    {
      "cell_type": "code",
      "execution_count": null,
      "metadata": {
        "collapsed": true,
        "id": "cdqNUYOPP1WZ"
      },
      "outputs": [],
      "source": []
    },
    {
      "cell_type": "code",
      "execution_count": null,
      "metadata": {
        "collapsed": true,
        "id": "fw02hXq6P1WZ"
      },
      "outputs": [],
      "source": []
    },
    {
      "cell_type": "markdown",
      "metadata": {
        "id": "MQMdSAIUP1WZ"
      },
      "source": [
        "You may want to repeat such calculations on several texts, but it is tedious to keep retyping the formula. Instead, you can come up with your own name for a task, like \"lexical_diversity\" or \"percentage\", and associate it with a block of code. Now you only have to type a short name instead of one or more complete lines of Python code, and you can re-use it as often as you like. The block of code that does a task for us is called a **function**, and we define a short name for our function with the keyword ```def```. The next example shows how to define two new functions, ```lexical_diversity()``` and ```percentage()```:"
      ]
    },
    {
      "cell_type": "code",
      "execution_count": 19,
      "metadata": {
        "collapsed": true,
        "id": "Lb-rg3dLP1WZ"
      },
      "outputs": [],
      "source": [
        "def lexical_diversity(text):\n",
        "    return len(set(text)) / len(text) "
      ]
    },
    {
      "cell_type": "code",
      "execution_count": 20,
      "metadata": {
        "collapsed": true,
        "id": "AVs0MeURP1WZ"
      },
      "outputs": [],
      "source": [
        "def percentage(count, total):\n",
        "    return 100 * count / total"
      ]
    },
    {
      "cell_type": "markdown",
      "metadata": {
        "id": "QkXn8_G8P1WZ"
      },
      "source": [
        "Notice that once you type the first row of the function, the cursor automatically inserts a tab. That's because the Python interpreter knows to expect an **indented code block**. If you were working in the actual Python interpreter, you would need to remember to insert that tab yourself either with four space bars or the tab key. To finish the indented block, just press enter/return. "
      ]
    },
    {
      "cell_type": "markdown",
      "metadata": {
        "id": "XSJmQ1wuP1WZ"
      },
      "source": [
        "In the definition of ```lexical_diversity()```, we specify a **parameter** named ```text```. This parameter is a \"_placeholder_\" for the actual text whose lexical diversity we want to compute, and reoccurs in the block of code that will run when the function is used. Similarly, ```percentage()``` is defined to take two parameters, named ```count``` and ```total```.\n",
        "\n",
        "Once Python knows that lexical_diversity() and percentage() are the names for specific blocks of code, we can go ahead and use these functions:"
      ]
    },
    {
      "cell_type": "code",
      "execution_count": 21,
      "metadata": {
        "id": "RnkMkuE8P1WZ",
        "colab": {
          "base_uri": "https://localhost:8080/"
        },
        "outputId": "ce9511c5-d355-412e-da82-dddfbf651b81"
      },
      "outputs": [
        {
          "output_type": "execute_result",
          "data": {
            "text/plain": [
              "0.06230453042623537"
            ]
          },
          "metadata": {},
          "execution_count": 21
        }
      ],
      "source": [
        "lexical_diversity(text3)"
      ]
    },
    {
      "cell_type": "code",
      "execution_count": 22,
      "metadata": {
        "id": "1aCrH_8KP1WZ",
        "colab": {
          "base_uri": "https://localhost:8080/"
        },
        "outputId": "9d7befcd-9ead-4133-98c6-3ce84e064eee"
      },
      "outputs": [
        {
          "output_type": "execute_result",
          "data": {
            "text/plain": [
              "0.13477005109975562"
            ]
          },
          "metadata": {},
          "execution_count": 22
        }
      ],
      "source": [
        "lexical_diversity(text5)"
      ]
    },
    {
      "cell_type": "code",
      "execution_count": 23,
      "metadata": {
        "id": "04Uu92cJP1Wa",
        "colab": {
          "base_uri": "https://localhost:8080/"
        },
        "outputId": "73299861-c4ac-493a-decf-a6c8b4fab5c1"
      },
      "outputs": [
        {
          "output_type": "execute_result",
          "data": {
            "text/plain": [
              "80.0"
            ]
          },
          "metadata": {},
          "execution_count": 23
        }
      ],
      "source": [
        "percentage(4, 5)"
      ]
    },
    {
      "cell_type": "code",
      "execution_count": 24,
      "metadata": {
        "id": "SNNxO0ROP1Wa",
        "colab": {
          "base_uri": "https://localhost:8080/"
        },
        "outputId": "ba5e449b-4c45-4566-fed8-ba57ac0b6e2a"
      },
      "outputs": [
        {
          "output_type": "execute_result",
          "data": {
            "text/plain": [
              "1.457806031353621"
            ]
          },
          "metadata": {},
          "execution_count": 24
        }
      ],
      "source": [
        "percentage(text4.count('a'), len(text4))"
      ]
    },
    {
      "cell_type": "markdown",
      "metadata": {
        "id": "m12X7kApP1Wa"
      },
      "source": [
        "To recap, we use or _call_ a function such as ```lexical_diversity()``` by typing its name, followed by an open parenthesis, the name of the text, and then a close parenthesis. These parentheses will show up often; their role is to separate the name of a task — such as ```lexical_diversity()``` — from the data that the task is to be performed on — such as ```text3```. The data value that we place in the parentheses when we call a function is an **argument** to the function.\n",
        "\n",
        "You have already encountered several functions in this chapter, such as ```len()```, ```set()```, and ```sorted()```. By convention, we will always add an empty pair of parentheses after a function name, as in ```len()```, just to make clear that what we are talking about is a function rather than some other kind of Python expression. Functions are an important concept in programming, and we only mention them at the outset to give newcomers a sense of the power and creativity of programming. Don't worry if you find it a bit confusing right now.\n",
        "\n",
        "Later we'll see how to use functions when tabulating data, as in 1.1 (https://www.nltk.org/book/ch01.html#tab-brown-types). Each row of the table will involve the same computation but with different data, and we'll do this repetitive work using a function."
      ]
    },
    {
      "cell_type": "markdown",
      "metadata": {
        "collapsed": true,
        "id": "zlKbV2I5P1Wa"
      },
      "source": [
        "## 2   A Closer Look at Python: Texts as Lists of Words\n",
        "You've seen some important elements of the Python programming language. Let's take a few moments to review them systematically.\n",
        "\n",
        "### 2.1   Lists\n",
        "What is a text? At one level, it is a sequence of symbols on a page such as this one. At another level, it is a sequence of chapters, made up of a sequence of sections, where each section is a sequence of paragraphs, and so on. However, for our purposes, we will think of a text as nothing more than a sequence of words and punctuation. Here's how we represent text in Python, in this case the opening sentence of _Moby Dick_:"
      ]
    },
    {
      "cell_type": "code",
      "execution_count": 25,
      "metadata": {
        "collapsed": true,
        "id": "Gm4MnkyLP1Wa"
      },
      "outputs": [],
      "source": [
        "sent1 = ['Call', 'me', 'Ishmael', '.']"
      ]
    },
    {
      "cell_type": "code",
      "execution_count": null,
      "metadata": {
        "id": "iogqIdp7P1Wa"
      },
      "outputs": [],
      "source": [
        "sent1"
      ]
    },
    {
      "cell_type": "code",
      "execution_count": 26,
      "metadata": {
        "id": "QdXZQ3yJP1Wa",
        "colab": {
          "base_uri": "https://localhost:8080/"
        },
        "outputId": "8f5eb42f-8c8e-4f66-e073-1b0b1bdbfb64"
      },
      "outputs": [
        {
          "output_type": "execute_result",
          "data": {
            "text/plain": [
              "4"
            ]
          },
          "metadata": {},
          "execution_count": 26
        }
      ],
      "source": [
        "len(sent1)"
      ]
    },
    {
      "cell_type": "code",
      "execution_count": 27,
      "metadata": {
        "id": "IYe9ZPmhP1Wa",
        "colab": {
          "base_uri": "https://localhost:8080/"
        },
        "outputId": "1b27093c-1dbe-4709-e500-5c8448574dc9"
      },
      "outputs": [
        {
          "output_type": "execute_result",
          "data": {
            "text/plain": [
              "1.0"
            ]
          },
          "metadata": {},
          "execution_count": 27
        }
      ],
      "source": [
        "lexical_diversity(sent1)"
      ]
    },
    {
      "cell_type": "markdown",
      "metadata": {
        "id": "e3DOdlG3P1Wa"
      },
      "source": [
        "Some more lists have been defined for you, one for the opening sentence of each of our texts, ```sent2 … sent9```. We inspect two of them here; you can see the rest for yourself using the Python interpreter (if you get an error which says that ```sent2``` is not defined, you need to first type ```from nltk.book import *```)."
      ]
    },
    {
      "cell_type": "code",
      "execution_count": 28,
      "metadata": {
        "collapsed": true,
        "id": "CavotrMwP1Wa"
      },
      "outputs": [],
      "source": [
        "from nltk.book import *"
      ]
    },
    {
      "cell_type": "code",
      "execution_count": 29,
      "metadata": {
        "id": "MoVRNrpnP1Wb",
        "colab": {
          "base_uri": "https://localhost:8080/"
        },
        "outputId": "a7a08232-cf74-46b6-8072-d8f70ce390ab"
      },
      "outputs": [
        {
          "output_type": "execute_result",
          "data": {
            "text/plain": [
              "['The',\n",
              " 'family',\n",
              " 'of',\n",
              " 'Dashwood',\n",
              " 'had',\n",
              " 'long',\n",
              " 'been',\n",
              " 'settled',\n",
              " 'in',\n",
              " 'Sussex',\n",
              " '.']"
            ]
          },
          "metadata": {},
          "execution_count": 29
        }
      ],
      "source": [
        "sent2"
      ]
    },
    {
      "cell_type": "code",
      "execution_count": 30,
      "metadata": {
        "id": "JVn_42bOP1Wb",
        "colab": {
          "base_uri": "https://localhost:8080/"
        },
        "outputId": "bdae6490-cae2-4594-d6cc-49d9f8e9673c"
      },
      "outputs": [
        {
          "output_type": "execute_result",
          "data": {
            "text/plain": [
              "['In',\n",
              " 'the',\n",
              " 'beginning',\n",
              " 'God',\n",
              " 'created',\n",
              " 'the',\n",
              " 'heaven',\n",
              " 'and',\n",
              " 'the',\n",
              " 'earth',\n",
              " '.']"
            ]
          },
          "metadata": {},
          "execution_count": 30
        }
      ],
      "source": [
        "sent3"
      ]
    },
    {
      "cell_type": "markdown",
      "metadata": {
        "id": "8MWS7XCcP1Wb"
      },
      "source": [
        "**Your Turn:** Make up a few sentences of your own, by typing a name, equals sign, and a list of words, like this: ```ex1 = ['Monty', 'Python', 'and', 'the', 'Holy', 'Grail']```. Repeat some of the other Python operations we saw earlier in 1, e.g., ```sorted(ex1), len(set(ex1)), ex1.count('the')```.\n",
        "\n"
      ]
    },
    {
      "cell_type": "code",
      "execution_count": 30,
      "metadata": {
        "collapsed": true,
        "id": "1jhwhliEP1Wb"
      },
      "outputs": [],
      "source": []
    },
    {
      "cell_type": "code",
      "execution_count": 30,
      "metadata": {
        "collapsed": true,
        "id": "3accNOvLP1Wb"
      },
      "outputs": [],
      "source": []
    },
    {
      "cell_type": "markdown",
      "metadata": {
        "id": "9MFcyDccP1Wb"
      },
      "source": [
        "A pleasant surprise is that we can use Python's addition operator on lists. Adding two lists creates a new list with everything from the first list, followed by everything from the second list:\n"
      ]
    },
    {
      "cell_type": "code",
      "execution_count": 31,
      "metadata": {
        "id": "HL5efOyjP1Wb",
        "colab": {
          "base_uri": "https://localhost:8080/"
        },
        "outputId": "f6141005-c3c9-415d-cc3b-faf46fa03cda"
      },
      "outputs": [
        {
          "output_type": "execute_result",
          "data": {
            "text/plain": [
              "['Monty', 'Python', 'and', 'the', 'Holy', 'Grail']"
            ]
          },
          "metadata": {},
          "execution_count": 31
        }
      ],
      "source": [
        "['Monty', 'Python'] + ['and', 'the', 'Holy', 'Grail']"
      ]
    },
    {
      "cell_type": "markdown",
      "metadata": {
        "id": "sl1T74PYP1Wb"
      },
      "source": [
        "This special use of the addition operation is called **concatenation**; it combines the lists together into a single list. We can concatenate sentences to build up a text.\n",
        "\n",
        "We don't have to literally type the lists either; we can use short names that refer to pre-definied lists. "
      ]
    },
    {
      "cell_type": "code",
      "execution_count": 32,
      "metadata": {
        "id": "ssDNnK6eP1Wb",
        "colab": {
          "base_uri": "https://localhost:8080/"
        },
        "outputId": "2ea5a647-81e8-4437-d7dc-51989b1d3a65"
      },
      "outputs": [
        {
          "output_type": "execute_result",
          "data": {
            "text/plain": [
              "['Fellow',\n",
              " '-',\n",
              " 'Citizens',\n",
              " 'of',\n",
              " 'the',\n",
              " 'Senate',\n",
              " 'and',\n",
              " 'of',\n",
              " 'the',\n",
              " 'House',\n",
              " 'of',\n",
              " 'Representatives',\n",
              " ':',\n",
              " 'Call',\n",
              " 'me',\n",
              " 'Ishmael',\n",
              " '.']"
            ]
          },
          "metadata": {},
          "execution_count": 32
        }
      ],
      "source": [
        "sent4 + sent1"
      ]
    },
    {
      "cell_type": "markdown",
      "metadata": {
        "id": "nRBPIOZ3P1Wb"
      },
      "source": [
        "What if we want to add a single item to a list? This is known as **appending**. When we ```append()``` to a list, the list itself is updated as a result of the operation. "
      ]
    },
    {
      "cell_type": "code",
      "execution_count": 33,
      "metadata": {
        "id": "wUXkEveOP1Wb",
        "colab": {
          "base_uri": "https://localhost:8080/"
        },
        "outputId": "5c7013d8-69b6-4658-eb33-e71953836d96"
      },
      "outputs": [
        {
          "output_type": "execute_result",
          "data": {
            "text/plain": [
              "['Call', 'me', 'Ishmael', '.', 'Some']"
            ]
          },
          "metadata": {},
          "execution_count": 33
        }
      ],
      "source": [
        "sent1.append(\"Some\")\n",
        "sent1"
      ]
    },
    {
      "cell_type": "markdown",
      "metadata": {
        "id": "h1DcTO3tP1Wb"
      },
      "source": [
        "## 2.2   Indexing Lists\n",
        "As we have seen, a text in Python is a list of words, represented using a combination of brackets and quotes. Just as with an ordinary page of text, we can count up the total number of words in ```text1``` with ```len(text1)```, and count the occurrences in a text of a particular word — say, ```'heaven'``` — using ```text1.count('heaven')```.\n",
        "\n",
        "With some patience, we can pick out the 1st, 173rd, or even 14,278th word in a printed text. Analogously, we can identify the elements of a Python list by their order of occurrence in the list. The number that represents this position is the item's index. We instruct Python to show us the item that occurs at an index such as 173 in a text by writing the name of the text followed by the index inside square brackets:"
      ]
    },
    {
      "cell_type": "code",
      "execution_count": 34,
      "metadata": {
        "id": "_JQAEA8HP1Wc",
        "colab": {
          "base_uri": "https://localhost:8080/",
          "height": 35
        },
        "outputId": "1a7ab6fa-23da-45d7-b92d-0fa1af453e82"
      },
      "outputs": [
        {
          "output_type": "execute_result",
          "data": {
            "text/plain": [
              "'awaken'"
            ],
            "application/vnd.google.colaboratory.intrinsic+json": {
              "type": "string"
            }
          },
          "metadata": {},
          "execution_count": 34
        }
      ],
      "source": [
        "text4[173]"
      ]
    },
    {
      "cell_type": "markdown",
      "metadata": {
        "id": "l7X3s05iP1Wc"
      },
      "source": [
        "We can do the converse;given a word, find the index of when it *first* occurs: "
      ]
    },
    {
      "cell_type": "code",
      "execution_count": 35,
      "metadata": {
        "id": "ZT_1FvpZP1Wc",
        "colab": {
          "base_uri": "https://localhost:8080/"
        },
        "outputId": "c775579f-b5dc-464c-f915-745265867c78"
      },
      "outputs": [
        {
          "output_type": "execute_result",
          "data": {
            "text/plain": [
              "173"
            ]
          },
          "metadata": {},
          "execution_count": 35
        }
      ],
      "source": [
        "text4.index('awaken')"
      ]
    },
    {
      "cell_type": "markdown",
      "metadata": {
        "id": "XKMP3LSwP1Wc"
      },
      "source": [
        "Indexes are a common way to access the words of a text, or, more generally, the elements of any list. Python permits us to access sublists as well, extracting manageable pieces of language from large texts, a technique known as **slicing**."
      ]
    },
    {
      "cell_type": "code",
      "execution_count": 36,
      "metadata": {
        "id": "lq75tQ81P1Wc",
        "colab": {
          "base_uri": "https://localhost:8080/"
        },
        "outputId": "39ffa44e-17ca-4bc6-ae1d-f4fe007253cc"
      },
      "outputs": [
        {
          "output_type": "execute_result",
          "data": {
            "text/plain": [
              "['U86',\n",
              " 'thats',\n",
              " 'why',\n",
              " 'something',\n",
              " 'like',\n",
              " 'gamefly',\n",
              " 'is',\n",
              " 'so',\n",
              " 'good',\n",
              " 'because',\n",
              " 'you',\n",
              " 'can',\n",
              " 'actually',\n",
              " 'play',\n",
              " 'a',\n",
              " 'full',\n",
              " 'game',\n",
              " 'without',\n",
              " 'buying',\n",
              " 'it']"
            ]
          },
          "metadata": {},
          "execution_count": 36
        }
      ],
      "source": [
        "text5[16715:16735]"
      ]
    },
    {
      "cell_type": "code",
      "execution_count": 37,
      "metadata": {
        "id": "g1TTebU0P1Wc",
        "colab": {
          "base_uri": "https://localhost:8080/"
        },
        "outputId": "ccc68eda-1d6d-47a2-a976-00570aa0769b"
      },
      "outputs": [
        {
          "output_type": "execute_result",
          "data": {
            "text/plain": [
              "['We',\n",
              " \"'\",\n",
              " 're',\n",
              " 'an',\n",
              " 'anarcho',\n",
              " '-',\n",
              " 'syndicalist',\n",
              " 'commune',\n",
              " '.',\n",
              " 'We',\n",
              " 'take',\n",
              " 'it',\n",
              " 'in',\n",
              " 'turns',\n",
              " 'to',\n",
              " 'act',\n",
              " 'as',\n",
              " 'a',\n",
              " 'sort',\n",
              " 'of',\n",
              " 'executive',\n",
              " 'officer',\n",
              " 'for',\n",
              " 'the',\n",
              " 'week']"
            ]
          },
          "metadata": {},
          "execution_count": 37
        }
      ],
      "source": [
        "text6[1600:1625]"
      ]
    },
    {
      "cell_type": "markdown",
      "metadata": {
        "id": "7xteRH0EP1Wc"
      },
      "source": [
        "Indexes have some subtleties, and we'll explore these with the help of an artificial sentence:"
      ]
    },
    {
      "cell_type": "code",
      "execution_count": 38,
      "metadata": {
        "collapsed": true,
        "id": "tCZHzGQ0P1Wc"
      },
      "outputs": [],
      "source": [
        "sent = ['word1', 'word2', 'word3', 'word4', 'word5', \n",
        "        'word6', 'word7', 'word8', 'word9', 'word10']"
      ]
    },
    {
      "cell_type": "code",
      "execution_count": 39,
      "metadata": {
        "id": "DWXYA2naP1Wc",
        "colab": {
          "base_uri": "https://localhost:8080/",
          "height": 35
        },
        "outputId": "09bda099-1d1d-484a-fb57-039700084b9d"
      },
      "outputs": [
        {
          "output_type": "execute_result",
          "data": {
            "text/plain": [
              "'word1'"
            ],
            "application/vnd.google.colaboratory.intrinsic+json": {
              "type": "string"
            }
          },
          "metadata": {},
          "execution_count": 39
        }
      ],
      "source": [
        "sent[0]"
      ]
    },
    {
      "cell_type": "code",
      "execution_count": 40,
      "metadata": {
        "id": "4qxKeXMPP1Wc",
        "colab": {
          "base_uri": "https://localhost:8080/",
          "height": 35
        },
        "outputId": "6fbd3921-9807-4d02-a961-466881959ca0"
      },
      "outputs": [
        {
          "output_type": "execute_result",
          "data": {
            "text/plain": [
              "'word10'"
            ],
            "application/vnd.google.colaboratory.intrinsic+json": {
              "type": "string"
            }
          },
          "metadata": {},
          "execution_count": 40
        }
      ],
      "source": [
        "sent[9]"
      ]
    },
    {
      "cell_type": "markdown",
      "metadata": {
        "id": "RUthPGQNP1Wd"
      },
      "source": [
        "Notice that our indexes start from zero: sent element zero, written ```sent[0]```, is the first word, ```'word1'```, whereas sent element 9 is ```'word10'```. The reason is simple: the moment Python accesses the content of a list from the computer's memory, it is already at the first element; we have to tell it how many elements forward to go. Thus, zero steps forward leaves it at the first element.\n",
        "\n",
        "**Note** This practice of counting from zero is initially confusing, but typical of modern programming languages. You'll quickly get the hang of it if you've mastered the system of counting centuries where 19XY is a year in the 20th century, or if you live in a country where the floors of a building are numbered from 1, and so walking up _n-1_ flights of stairs takes you to level _n_.\n",
        "\n",
        "Now, if we accidentally use an index that is too large, we get an error:"
      ]
    },
    {
      "cell_type": "code",
      "execution_count": 41,
      "metadata": {
        "id": "43Iktx5TP1Wd",
        "colab": {
          "base_uri": "https://localhost:8080/",
          "height": 169
        },
        "outputId": "afcf8704-2461-4b34-c1fd-0053a096ca97"
      },
      "outputs": [
        {
          "output_type": "error",
          "ename": "IndexError",
          "evalue": "ignored",
          "traceback": [
            "\u001b[0;31m---------------------------------------------------------------------------\u001b[0m",
            "\u001b[0;31mIndexError\u001b[0m                                Traceback (most recent call last)",
            "\u001b[0;32m<ipython-input-41-baa8b4ccd19d>\u001b[0m in \u001b[0;36m<module>\u001b[0;34m\u001b[0m\n\u001b[0;32m----> 1\u001b[0;31m \u001b[0msent\u001b[0m\u001b[0;34m[\u001b[0m\u001b[0;36m10\u001b[0m\u001b[0;34m]\u001b[0m\u001b[0;34m\u001b[0m\u001b[0;34m\u001b[0m\u001b[0m\n\u001b[0m",
            "\u001b[0;31mIndexError\u001b[0m: list index out of range"
          ]
        }
      ],
      "source": [
        "sent[10]"
      ]
    },
    {
      "cell_type": "markdown",
      "metadata": {
        "id": "NvnjJ6z6P1Wd"
      },
      "source": [
        "This time it is not a syntax error, because the program fragment is syntactically correct. Instead, it is a **runtime error**, and it produces a ```Traceback``` message that shows the context of the error, followed by the name of the error, ```IndexError```, and a brief explanation.\n",
        "\n",
        "Let's take a closer look at slicing, using our artificial sentence again. Here we verify that the slice ```5:8``` includes sent elements at indexes 5, 6, and 7:"
      ]
    },
    {
      "cell_type": "code",
      "execution_count": 42,
      "metadata": {
        "id": "mkwUGInuP1Wd",
        "colab": {
          "base_uri": "https://localhost:8080/"
        },
        "outputId": "e85435b9-0adf-4419-fe9a-53a0b332c4bb"
      },
      "outputs": [
        {
          "output_type": "execute_result",
          "data": {
            "text/plain": [
              "['word6', 'word7', 'word8']"
            ]
          },
          "metadata": {},
          "execution_count": 42
        }
      ],
      "source": [
        "sent[5:8]"
      ]
    },
    {
      "cell_type": "code",
      "execution_count": 43,
      "metadata": {
        "id": "rwEyIun-P1Wd",
        "colab": {
          "base_uri": "https://localhost:8080/",
          "height": 35
        },
        "outputId": "51739ef7-8dcd-458f-930b-dd5b67c79387"
      },
      "outputs": [
        {
          "output_type": "execute_result",
          "data": {
            "text/plain": [
              "'word6'"
            ],
            "application/vnd.google.colaboratory.intrinsic+json": {
              "type": "string"
            }
          },
          "metadata": {},
          "execution_count": 43
        }
      ],
      "source": [
        "sent[5]"
      ]
    },
    {
      "cell_type": "code",
      "execution_count": 44,
      "metadata": {
        "id": "plQYNXJLP1Wd",
        "colab": {
          "base_uri": "https://localhost:8080/",
          "height": 35
        },
        "outputId": "1b477995-2b65-4666-dae5-5fe4f1a42cb0"
      },
      "outputs": [
        {
          "output_type": "execute_result",
          "data": {
            "text/plain": [
              "'word7'"
            ],
            "application/vnd.google.colaboratory.intrinsic+json": {
              "type": "string"
            }
          },
          "metadata": {},
          "execution_count": 44
        }
      ],
      "source": [
        "sent[6]"
      ]
    },
    {
      "cell_type": "code",
      "execution_count": 45,
      "metadata": {
        "id": "BWiYG8oJP1Wd",
        "colab": {
          "base_uri": "https://localhost:8080/",
          "height": 35
        },
        "outputId": "2dcb0207-7ef3-4611-b92f-0927ef7dd9e3"
      },
      "outputs": [
        {
          "output_type": "execute_result",
          "data": {
            "text/plain": [
              "'word8'"
            ],
            "application/vnd.google.colaboratory.intrinsic+json": {
              "type": "string"
            }
          },
          "metadata": {},
          "execution_count": 45
        }
      ],
      "source": [
        "sent[7]"
      ]
    },
    {
      "cell_type": "markdown",
      "metadata": {
        "id": "UGLpl2I9P1Wd"
      },
      "source": [
        "By convention, ```m:n``` means elements ```m…n-1```. As the next example shows, we can omit the first number if the slice begins at the start of the list, and we can omit the second number if the slice goes to the end:"
      ]
    },
    {
      "cell_type": "code",
      "execution_count": 46,
      "metadata": {
        "id": "y8OpE8HUP1Wd",
        "colab": {
          "base_uri": "https://localhost:8080/"
        },
        "outputId": "d28b77cf-4898-4f27-e16c-4c3d47d91246"
      },
      "outputs": [
        {
          "output_type": "execute_result",
          "data": {
            "text/plain": [
              "['word1', 'word2', 'word3']"
            ]
          },
          "metadata": {},
          "execution_count": 46
        }
      ],
      "source": [
        "sent[:3]"
      ]
    },
    {
      "cell_type": "code",
      "execution_count": 47,
      "metadata": {
        "id": "cIu0bJ9DP1Wd",
        "colab": {
          "base_uri": "https://localhost:8080/"
        },
        "outputId": "b9fabaf3-ca39-4686-b30c-1f3aa6acf086"
      },
      "outputs": [
        {
          "output_type": "execute_result",
          "data": {
            "text/plain": [
              "['among',\n",
              " 'the',\n",
              " 'merits',\n",
              " 'and',\n",
              " 'the',\n",
              " 'happiness',\n",
              " 'of',\n",
              " 'Elinor',\n",
              " 'and',\n",
              " 'Marianne',\n",
              " ',',\n",
              " 'let',\n",
              " 'it',\n",
              " 'not',\n",
              " 'be',\n",
              " 'ranked',\n",
              " 'as',\n",
              " 'the',\n",
              " 'least',\n",
              " 'considerable',\n",
              " ',',\n",
              " 'that',\n",
              " 'though',\n",
              " 'sisters',\n",
              " ',',\n",
              " 'and',\n",
              " 'living',\n",
              " 'almost',\n",
              " 'within',\n",
              " 'sight',\n",
              " 'of',\n",
              " 'each',\n",
              " 'other',\n",
              " ',',\n",
              " 'they',\n",
              " 'could',\n",
              " 'live',\n",
              " 'without',\n",
              " 'disagreement',\n",
              " 'between',\n",
              " 'themselves',\n",
              " ',',\n",
              " 'or',\n",
              " 'producing',\n",
              " 'coolness',\n",
              " 'between',\n",
              " 'their',\n",
              " 'husbands',\n",
              " '.',\n",
              " 'THE',\n",
              " 'END']"
            ]
          },
          "metadata": {},
          "execution_count": 47
        }
      ],
      "source": [
        "text2[141525:]"
      ]
    },
    {
      "cell_type": "markdown",
      "metadata": {
        "id": "ws1_fX9cP1Wd"
      },
      "source": [
        "We can modify an element of a list by assigning to one of its index values. In the next example, we put sent[0] on the left of the equals sign. We can also replace an entire slice with new material. A consequence of this last change is that the list only has four elements, and accessing a later value generates an error."
      ]
    },
    {
      "cell_type": "code",
      "execution_count": 48,
      "metadata": {
        "id": "_kGC0F-yP1We",
        "colab": {
          "base_uri": "https://localhost:8080/"
        },
        "outputId": "9ebd717d-2040-42d3-e505-1dd27d0c5def"
      },
      "outputs": [
        {
          "output_type": "execute_result",
          "data": {
            "text/plain": [
              "10"
            ]
          },
          "metadata": {},
          "execution_count": 48
        }
      ],
      "source": [
        "sent[0] = 'First'\n",
        "sent[9] = 'Last'\n",
        "len(sent)"
      ]
    },
    {
      "cell_type": "code",
      "execution_count": 49,
      "metadata": {
        "id": "NAhj1QvuP1We",
        "colab": {
          "base_uri": "https://localhost:8080/"
        },
        "outputId": "48bc6c42-96aa-4983-cd1a-5f2217292540"
      },
      "outputs": [
        {
          "output_type": "execute_result",
          "data": {
            "text/plain": [
              "['First', 'Second', 'Third', 'Last']"
            ]
          },
          "metadata": {},
          "execution_count": 49
        }
      ],
      "source": [
        "sent[1:9] = ['Second', 'Third']\n",
        "sent"
      ]
    },
    {
      "cell_type": "code",
      "execution_count": null,
      "metadata": {
        "id": "6e1znq1pP1We"
      },
      "outputs": [],
      "source": [
        "sent[9]"
      ]
    },
    {
      "cell_type": "markdown",
      "metadata": {
        "id": "a9ZaLkGIP1We"
      },
      "source": [
        "**Your Turn:** Take a few minutes to define a sentence of your own and modify individual words and groups of words (slices) using the same methods used earlier. Check your understanding by trying the exercises on lists at the end of this chapter. (You can add cells for practice if you would like.)"
      ]
    },
    {
      "cell_type": "code",
      "execution_count": null,
      "metadata": {
        "collapsed": true,
        "id": "ilCsbvwZP1We"
      },
      "outputs": [],
      "source": []
    },
    {
      "cell_type": "markdown",
      "metadata": {
        "id": "LOrAI_tbP1We"
      },
      "source": [
        "### 2.3   Variables\n",
        "\n",
        "From the start of 1, you have had access to texts called ```text1, text2,``` and so on. It saved a lot of typing to be able to refer to a 250,000-word book with a short name like this! In general, we can make up names for anything we care to calculate. We did this ourselves in the previous sections, e.g., defining a **variable** ```sent1```, as follows:"
      ]
    },
    {
      "cell_type": "code",
      "execution_count": 50,
      "metadata": {
        "collapsed": true,
        "id": "XneLRneMP1We"
      },
      "outputs": [],
      "source": [
        "sent1 = ['Call', 'me', 'Ishmael', '.']"
      ]
    },
    {
      "cell_type": "markdown",
      "metadata": {
        "id": "AB-Js7STP1We"
      },
      "source": [
        "Such lines have the form: *variable = expression*. Python will evaluate the expression, and save its result to the variable. This process is called **assignment**. It does not generate any output; you have to type the variable on a line of its own to inspect its contents. The equals sign is slightly misleading, since information is moving from the right side to the left. It might help to think of it as a left-arrow. The name of the variable can be anything you like, e.g., ```my_sent, sentence, xyzzy```. It must start with a letter, and can include numbers and underscores. Here are some examples of variables and assignments:"
      ]
    },
    {
      "cell_type": "code",
      "execution_count": 51,
      "metadata": {
        "collapsed": true,
        "id": "XoGs9PNrP1We"
      },
      "outputs": [],
      "source": [
        "my_sent = ['Bravely', 'bold', 'Sir', 'Robin', ',', 'rode',\n",
        "           'forth', 'from', 'Camelot', '.']"
      ]
    },
    {
      "cell_type": "code",
      "execution_count": 52,
      "metadata": {
        "id": "NeRNVR1NP1We",
        "colab": {
          "base_uri": "https://localhost:8080/"
        },
        "outputId": "660bb693-16f8-493d-c042-ef7a0855c79c"
      },
      "outputs": [
        {
          "output_type": "execute_result",
          "data": {
            "text/plain": [
              "['bold', 'Sir', 'Robin']"
            ]
          },
          "metadata": {},
          "execution_count": 52
        }
      ],
      "source": [
        "noun_phrase = my_sent[1:4]\n",
        "noun_phrase\n",
        "\n"
      ]
    },
    {
      "cell_type": "code",
      "execution_count": 53,
      "metadata": {
        "id": "DgPo_3yGP1We",
        "colab": {
          "base_uri": "https://localhost:8080/"
        },
        "outputId": "3e38caed-43a4-46f4-b27e-6a06769cd2d9"
      },
      "outputs": [
        {
          "output_type": "execute_result",
          "data": {
            "text/plain": [
              "['Robin', 'Sir', 'bold']"
            ]
          },
          "metadata": {},
          "execution_count": 53
        }
      ],
      "source": [
        "wOrDs = sorted(noun_phrase)\n",
        "wOrDs"
      ]
    },
    {
      "cell_type": "markdown",
      "metadata": {
        "id": "Y8OkFSy5P1Wf"
      },
      "source": [
        "Remember that capitalized words appear before lowercase words in sorted lists.\n",
        "\n",
        "**Note**: Notice in the previous example that we split the definition of my_sent over two lines. Python expressions can be split across multiple lines, so long as this happens within any kind of brackets. Python uses the \"...\" prompt to indicate that more input is expected. It doesn't matter how much indentation is used in these continuation lines, but some indentation usually makes them easier to read.\n",
        "\n",
        "It is good to choose meaningful variable names to remind you — and to help anyone else who reads your Python code — what your code is meant to do. Python does not try to make sense of the names; it blindly follows your instructions, and does not object if you do something confusing, such as ```one = 'two'``` or ```two = 3```. The only restriction is that a variable name cannot be any of Python's reserved words, such as ```def, if, not, and import```. If you use a reserved word, Python will produce a syntax error:"
      ]
    },
    {
      "cell_type": "code",
      "execution_count": 54,
      "metadata": {
        "id": "7zqXWSdlP1Wf",
        "colab": {
          "base_uri": "https://localhost:8080/",
          "height": 133
        },
        "outputId": "d38c5fd2-4bfd-4fa9-9c0e-9244859b9694"
      },
      "outputs": [
        {
          "output_type": "error",
          "ename": "SyntaxError",
          "evalue": "ignored",
          "traceback": [
            "\u001b[0;36m  File \u001b[0;32m\"<ipython-input-54-673e7f915d89>\"\u001b[0;36m, line \u001b[0;32m1\u001b[0m\n\u001b[0;31m    not = 'Camelot'\u001b[0m\n\u001b[0m        ^\u001b[0m\n\u001b[0;31mSyntaxError\u001b[0m\u001b[0;31m:\u001b[0m invalid syntax\n"
          ]
        }
      ],
      "source": [
        "not = 'Camelot'"
      ]
    },
    {
      "cell_type": "markdown",
      "metadata": {
        "id": "SeqPP9dDP1Wf"
      },
      "source": [
        "We will often use variables to hold intermediate steps of a computation, especially when this makes the code easier to follow. Thus ```len(set(text1))``` could also be written:"
      ]
    },
    {
      "cell_type": "code",
      "execution_count": 55,
      "metadata": {
        "id": "Yj2n2kLmP1Wf",
        "colab": {
          "base_uri": "https://localhost:8080/"
        },
        "outputId": "7bd471c8-1403-4041-c890-090cc8177aa6"
      },
      "outputs": [
        {
          "output_type": "execute_result",
          "data": {
            "text/plain": [
              "19317"
            ]
          },
          "metadata": {},
          "execution_count": 55
        }
      ],
      "source": [
        "vocab = set(text1)\n",
        "vocab_size = len(vocab)\n",
        "vocab_size"
      ]
    },
    {
      "cell_type": "markdown",
      "metadata": {
        "id": "Dmtr8U8UP1Wf"
      },
      "source": [
        "**Caution!**\n",
        "\n",
        "Take care with your choice of names (or **identifiers**) for Python variables. First, you should start the name with a letter, optionally followed by digits (0 to 9) or letters. Thus, ```abc23``` is fine, but ```23abc``` will cause a syntax error. Names are case-sensitive, which means that ```myVar``` and ```myvar``` are distinct variables. Variable names cannot contain whitespace, but you can separate words using an underscore, e.g., ```my_var```. Be careful not to insert a hyphen instead of an underscore: ```my-var``` is wrong, since Python interprets the \"-\" as a minus sign."
      ]
    },
    {
      "cell_type": "markdown",
      "metadata": {
        "id": "WJF4lbbtP1Wf"
      },
      "source": [
        "### 2.4   Strings\n",
        "Some of the methods we used to access the elements of a list also work with individual words, or strings. For example, we can assign a string to a variable (eg ```name = 'Monty'```), index a string (eg. Each letter of the word Monty becomes an index of 5 letters: M, o, n, t, y), and slice a string (eg. select only a few letters from the index of letters that make up the word Monty): [Note from Lisa: I've changed the text here for clarity...]"
      ]
    },
    {
      "cell_type": "code",
      "execution_count": 56,
      "metadata": {
        "id": "viqnWD4SP1Wf",
        "colab": {
          "base_uri": "https://localhost:8080/",
          "height": 35
        },
        "outputId": "f68bf17c-0f6b-4b0e-a490-eeb34cdc36bf"
      },
      "outputs": [
        {
          "output_type": "execute_result",
          "data": {
            "text/plain": [
              "'M'"
            ],
            "application/vnd.google.colaboratory.intrinsic+json": {
              "type": "string"
            }
          },
          "metadata": {},
          "execution_count": 56
        }
      ],
      "source": [
        "name = 'Monty'\n",
        "name[0]"
      ]
    },
    {
      "cell_type": "code",
      "execution_count": 57,
      "metadata": {
        "id": "mR55zupNP1Wf",
        "colab": {
          "base_uri": "https://localhost:8080/",
          "height": 35
        },
        "outputId": "fd0ce240-4958-4a9d-e0db-ea677256b905"
      },
      "outputs": [
        {
          "output_type": "execute_result",
          "data": {
            "text/plain": [
              "'Mont'"
            ],
            "application/vnd.google.colaboratory.intrinsic+json": {
              "type": "string"
            }
          },
          "metadata": {},
          "execution_count": 57
        }
      ],
      "source": [
        "name[:4]"
      ]
    },
    {
      "cell_type": "markdown",
      "metadata": {
        "id": "rfCBuv0DP1Wg"
      },
      "source": [
        "We can also perform multiplication and addition with strings: "
      ]
    },
    {
      "cell_type": "code",
      "execution_count": 58,
      "metadata": {
        "id": "oox5jGuSP1Wg",
        "colab": {
          "base_uri": "https://localhost:8080/",
          "height": 35
        },
        "outputId": "347d954d-97b5-42cf-b4ff-d29577ab53cd"
      },
      "outputs": [
        {
          "output_type": "execute_result",
          "data": {
            "text/plain": [
              "'MontyMonty'"
            ],
            "application/vnd.google.colaboratory.intrinsic+json": {
              "type": "string"
            }
          },
          "metadata": {},
          "execution_count": 58
        }
      ],
      "source": [
        "name * 2"
      ]
    },
    {
      "cell_type": "code",
      "execution_count": null,
      "metadata": {
        "id": "-rbXE-rOP1Wg"
      },
      "outputs": [],
      "source": [
        "name + '1'"
      ]
    },
    {
      "cell_type": "markdown",
      "metadata": {
        "id": "Tv8b6QHEP1Wg"
      },
      "source": [
        "We can join the words of a list to make a single string, or split a string into a list, as follows: "
      ]
    },
    {
      "cell_type": "code",
      "execution_count": 59,
      "metadata": {
        "id": "LF7tUsbFP1Wg",
        "colab": {
          "base_uri": "https://localhost:8080/",
          "height": 35
        },
        "outputId": "69b8a0b2-1aa8-4950-d9bc-285873a27a94"
      },
      "outputs": [
        {
          "output_type": "execute_result",
          "data": {
            "text/plain": [
              "'Monty Python'"
            ],
            "application/vnd.google.colaboratory.intrinsic+json": {
              "type": "string"
            }
          },
          "metadata": {},
          "execution_count": 59
        }
      ],
      "source": [
        "' '.join(['Monty', 'Python'])"
      ]
    },
    {
      "cell_type": "code",
      "execution_count": null,
      "metadata": {
        "id": "05vxNzUFP1Wg"
      },
      "outputs": [],
      "source": [
        "'Monty Python'.split()"
      ]
    },
    {
      "cell_type": "markdown",
      "metadata": {
        "id": "azFBHzLMP1Wg"
      },
      "source": [
        "We sill come back to the topic of strings in Chapter 3. For the time being, we have two important building blocks -- lists and strings -- and are ready to get back to some language analysis. "
      ]
    },
    {
      "cell_type": "markdown",
      "metadata": {
        "id": "q0MbNmTvP1Wg"
      },
      "source": [
        "## 3   Computing with Language: Simple Statistics\n",
        "Let's return to our exploration of the ways we can bring our computational resources to bear on large quantities of text. We began this discussion in [1](https://www.nltk.org/book/ch01.html#sec-computing-with-language-texts-and-words), and saw how to search for words in context, how to compile the vocabulary of a text, how to generate random text in the same style, and so on.\n",
        "\n",
        "In this section we pick up the question of what makes a text distinct, and use automatic methods to find characteristic words and expressions of a text. As in [1](https://www.nltk.org/book/ch01.html#sec-computing-with-language-texts-and-words), you can try new features of the Python language by copying them into the interpreter, and you'll learn about these features systematically in the following section.\n",
        "\n",
        "Before continuing further, you might like to check your understanding of the last section by predicting the output of the following code. You can use the interpreter to check whether you got it right. If you're not sure how to do this task, it would be a good idea to review the previous section before continuing further.\n",
        "\n"
      ]
    },
    {
      "cell_type": "code",
      "execution_count": 60,
      "metadata": {
        "id": "UXOpx25aP1Wg",
        "colab": {
          "base_uri": "https://localhost:8080/"
        },
        "outputId": "08ff1f42-b213-46c8-9136-020306103ca9"
      },
      "outputs": [
        {
          "output_type": "execute_result",
          "data": {
            "text/plain": [
              "['said', 'than']"
            ]
          },
          "metadata": {},
          "execution_count": 60
        }
      ],
      "source": [
        "saying = ['After', 'all', 'is', 'said', 'and', 'done',\n",
        "          'more', 'is', 'said', 'than', 'done']\n",
        "tokens = set(saying)\n",
        "tokens = sorted(tokens)\n",
        "tokens[-2:]"
      ]
    },
    {
      "cell_type": "markdown",
      "metadata": {
        "id": "gVy-pAe5P1Wg"
      },
      "source": [
        "### 3.1   Frequency Distributions\n",
        "How can we automatically identify the words of a text that are most informative about the topic and genre of the text? Imagine how you might go about finding the 50 most frequent words of a book. One method would be to keep a tally for each vocabulary item, like that shown in [3.1](https://www.nltk.org/book/ch01.html#fig-tally). The tally would need thousands of rows, and it would be an exceedingly laborious process — so laborious that we would rather assign the task to a machine.\n",
        "\n",
        "![tally.png](attachment:tally.png)\n",
        "\n",
        "The table in [3.1](https://www.nltk.org/book/ch01.html#fig-tally) is known as a **frequency distribution**, and it tells us the frequency of each vocabulary item in the text. (In general, it could count any kind of observable event.) It is a \"distribution\" because it tells us how the total number of word tokens in the text are distributed across the vocabulary items. Since we often need frequency distributions in language processing, NLTK provides built-in support for them. Let's use a ```FreqDist``` to find the 50 most frequent words of *Moby Dick*:\n"
      ]
    },
    {
      "cell_type": "code",
      "execution_count": 61,
      "metadata": {
        "id": "o1BMb5W6P1Wh",
        "colab": {
          "base_uri": "https://localhost:8080/"
        },
        "outputId": "b95d4e84-7a89-4ba1-8382-fe6c6954253c"
      },
      "outputs": [
        {
          "output_type": "stream",
          "name": "stdout",
          "text": [
            "<FreqDist with 19317 samples and 260819 outcomes>\n"
          ]
        }
      ],
      "source": [
        "fdist1 = FreqDist(text1)\n",
        "print(fdist1)"
      ]
    },
    {
      "cell_type": "code",
      "execution_count": 62,
      "metadata": {
        "id": "HBxn7sCzP1Wh",
        "colab": {
          "base_uri": "https://localhost:8080/"
        },
        "outputId": "e658b40b-6cad-4600-d5cb-e07b49280575"
      },
      "outputs": [
        {
          "output_type": "execute_result",
          "data": {
            "text/plain": [
              "[(',', 18713),\n",
              " ('the', 13721),\n",
              " ('.', 6862),\n",
              " ('of', 6536),\n",
              " ('and', 6024),\n",
              " ('a', 4569),\n",
              " ('to', 4542),\n",
              " (';', 4072),\n",
              " ('in', 3916),\n",
              " ('that', 2982),\n",
              " (\"'\", 2684),\n",
              " ('-', 2552),\n",
              " ('his', 2459),\n",
              " ('it', 2209),\n",
              " ('I', 2124),\n",
              " ('s', 1739),\n",
              " ('is', 1695),\n",
              " ('he', 1661),\n",
              " ('with', 1659),\n",
              " ('was', 1632),\n",
              " ('as', 1620),\n",
              " ('\"', 1478),\n",
              " ('all', 1462),\n",
              " ('for', 1414),\n",
              " ('this', 1280),\n",
              " ('!', 1269),\n",
              " ('at', 1231),\n",
              " ('by', 1137),\n",
              " ('but', 1113),\n",
              " ('not', 1103),\n",
              " ('--', 1070),\n",
              " ('him', 1058),\n",
              " ('from', 1052),\n",
              " ('be', 1030),\n",
              " ('on', 1005),\n",
              " ('so', 918),\n",
              " ('whale', 906),\n",
              " ('one', 889),\n",
              " ('you', 841),\n",
              " ('had', 767),\n",
              " ('have', 760),\n",
              " ('there', 715),\n",
              " ('But', 705),\n",
              " ('or', 697),\n",
              " ('were', 680),\n",
              " ('now', 646),\n",
              " ('which', 640),\n",
              " ('?', 637),\n",
              " ('me', 627),\n",
              " ('like', 624)]"
            ]
          },
          "metadata": {},
          "execution_count": 62
        }
      ],
      "source": [
        "fdist1.most_common(50)"
      ]
    },
    {
      "cell_type": "code",
      "execution_count": 63,
      "metadata": {
        "id": "f13LetQUP1Wh",
        "colab": {
          "base_uri": "https://localhost:8080/"
        },
        "outputId": "9026278d-8cac-405d-99a8-707140e8e630"
      },
      "outputs": [
        {
          "output_type": "execute_result",
          "data": {
            "text/plain": [
              "906"
            ]
          },
          "metadata": {},
          "execution_count": 63
        }
      ],
      "source": [
        "fdist1['whale']"
      ]
    },
    {
      "cell_type": "markdown",
      "metadata": {
        "id": "DcuIOHriP1Wh"
      },
      "source": [
        "When we first invoke FreqDist, we pass the name of the text as an argument. We can inspect the total number of words (\"outcomes\") that have been counted up — 260,819 in the case of *Moby Dick*. The expression ```most_common(50)``` gives us a list of the 50 most frequently occurring types in the text."
      ]
    },
    {
      "cell_type": "markdown",
      "metadata": {
        "id": "KeMi6FY2P1Wh"
      },
      "source": [
        "**Your Turn:** Try the preceding frequency distribution example for yourself, for ```text2```. Be careful to use the correct parentheses and uppercase letters. If you get an error message NameError: name 'FreqDist' is not defined, you need to start your work with ```from nltk.book import * ```"
      ]
    },
    {
      "cell_type": "code",
      "execution_count": null,
      "metadata": {
        "collapsed": true,
        "id": "L5RsmpgeP1Wh"
      },
      "outputs": [],
      "source": [
        "#experiment here."
      ]
    },
    {
      "cell_type": "markdown",
      "metadata": {
        "id": "hu-2epVGP1Wh"
      },
      "source": [
        "Do any words produced in the last example help us grasp the topic or genre of this text? Only one word, *whale*, is slightly informative! It occurs over 900 times. The rest of the words tell us nothing about the text; they're just English \"plumbing.\" What proportion of the text is taken up with such words? We can generate a cumulative frequency plot for these words, using ```fdist1.plot(50, cumulative=True)```, to produce the graph below. These 50 words account for nearly half the book!\n",
        "\n",
        "\n"
      ]
    },
    {
      "cell_type": "code",
      "source": [
        "fdist1.plot(50, cumulative=True)"
      ],
      "metadata": {
        "colab": {
          "base_uri": "https://localhost:8080/",
          "height": 317
        },
        "id": "CYEpcV8MULVA",
        "outputId": "d8509280-0655-4ce5-8466-ddd42d5b4135"
      },
      "execution_count": 65,
      "outputs": [
        {
          "output_type": "display_data",
          "data": {
            "text/plain": [
              "<Figure size 432x288 with 1 Axes>"
            ],
            "image/png": "[encoded data removed]"
          },
          "metadata": {
            "needs_background": "light"
          }
        },
        {
          "output_type": "execute_result",
          "data": {
            "text/plain": [
              "<matplotlib.axes._subplots.AxesSubplot at 0x7f2336a9dfa0>"
            ]
          },
          "metadata": {},
          "execution_count": 65
        }
      ]
    },
    {
      "cell_type": "markdown",
      "source": [
        "If the frequent words don't help us, how about the words that occur once only, the so-called **hapaxes**? View them by typing ```fdist1.hapaxes()```. This list contains _lexicographer, cetological, contraband, expostulations_, and about 9,000 others. It seems that there are too many rare words, and without seeing the context we probably can't guess what half of the hapaxes mean in any case! Since neither frequent nor infrequent words help, we need to try something else."
      ],
      "metadata": {
        "id": "S5akm3LNUJ3w"
      }
    },
    {
      "cell_type": "code",
      "execution_count": 64,
      "metadata": {
        "id": "ojSHBV-jP1Wh",
        "colab": {
          "base_uri": "https://localhost:8080/"
        },
        "outputId": "22e1e165-843a-4692-c7c1-bb4d8cb1bf4e"
      },
      "outputs": [
        {
          "output_type": "execute_result",
          "data": {
            "text/plain": [
              "['Herman',\n",
              " 'Melville',\n",
              " ']',\n",
              " 'ETYMOLOGY',\n",
              " 'Late',\n",
              " 'Consumptive',\n",
              " 'School',\n",
              " 'threadbare',\n",
              " 'lexicons',\n",
              " 'mockingly',\n",
              " 'flags',\n",
              " 'mortality',\n",
              " 'signification',\n",
              " 'HACKLUYT',\n",
              " 'Sw',\n",
              " 'HVAL',\n",
              " 'roundness',\n",
              " 'Dut',\n",
              " 'Ger',\n",
              " 'WALLEN',\n",
              " 'WALW',\n",
              " 'IAN',\n",
              " 'RICHARDSON',\n",
              " 'KETOS',\n",
              " 'GREEK',\n",
              " 'CETUS',\n",
              " 'LATIN',\n",
              " 'WHOEL',\n",
              " 'ANGLO',\n",
              " 'SAXON',\n",
              " 'WAL',\n",
              " 'HWAL',\n",
              " 'SWEDISH',\n",
              " 'ICELANDIC',\n",
              " 'BALEINE',\n",
              " 'BALLENA',\n",
              " 'FEGEE',\n",
              " 'ERROMANGOAN',\n",
              " 'Librarian',\n",
              " 'painstaking',\n",
              " 'burrower',\n",
              " 'grub',\n",
              " 'Vaticans',\n",
              " 'stalls',\n",
              " 'higgledy',\n",
              " 'piggledy',\n",
              " 'gospel',\n",
              " 'promiscuously',\n",
              " 'commentator',\n",
              " 'belongest',\n",
              " 'sallow',\n",
              " 'Pale',\n",
              " 'Sherry',\n",
              " 'loves',\n",
              " 'bluntly',\n",
              " 'Subs',\n",
              " 'thankless',\n",
              " 'Hampton',\n",
              " 'Court',\n",
              " 'hie',\n",
              " 'refugees',\n",
              " 'pampered',\n",
              " 'Michael',\n",
              " 'Raphael',\n",
              " 'unsplinterable',\n",
              " 'GENESIS',\n",
              " 'JOB',\n",
              " 'JONAH',\n",
              " 'punish',\n",
              " 'ISAIAH',\n",
              " 'soever',\n",
              " 'cometh',\n",
              " 'incontinently',\n",
              " 'perisheth',\n",
              " 'PLUTARCH',\n",
              " 'MORALS',\n",
              " 'breedeth',\n",
              " 'Whirlpooles',\n",
              " 'Balaene',\n",
              " 'arpens',\n",
              " 'PLINY',\n",
              " 'Scarcely',\n",
              " 'TOOKE',\n",
              " 'LUCIAN',\n",
              " 'TRUE',\n",
              " 'catched',\n",
              " 'OCTHER',\n",
              " 'VERBAL',\n",
              " 'TAKEN',\n",
              " 'MOUTH',\n",
              " 'ALFRED',\n",
              " '890',\n",
              " 'gudgeon',\n",
              " 'retires',\n",
              " 'MONTAIGNE',\n",
              " 'APOLOGY',\n",
              " 'RAIMOND',\n",
              " 'SEBOND',\n",
              " 'Nick',\n",
              " 'RABELAIS',\n",
              " 'cartloads',\n",
              " 'STOWE',\n",
              " 'ANNALS',\n",
              " 'LORD',\n",
              " 'BACON',\n",
              " 'Touching',\n",
              " 'ork',\n",
              " 'DEATH',\n",
              " 'sovereignest',\n",
              " 'bruise',\n",
              " 'HAMLET',\n",
              " 'leach',\n",
              " 'Mote',\n",
              " 'availle',\n",
              " 'returne',\n",
              " 'againe',\n",
              " 'worker',\n",
              " 'Dinting',\n",
              " 'paine',\n",
              " 'thro',\n",
              " 'maine',\n",
              " 'FAERIE',\n",
              " 'Immense',\n",
              " 'til',\n",
              " 'DAVENANT',\n",
              " 'PREFACE',\n",
              " 'GONDIBERT',\n",
              " 'spermacetti',\n",
              " 'Hosmannus',\n",
              " 'Nescio',\n",
              " 'VIDE',\n",
              " 'Spencer',\n",
              " 'Talus',\n",
              " 'flail',\n",
              " 'threatens',\n",
              " 'jav',\n",
              " 'lins',\n",
              " 'WALLER',\n",
              " 'SUMMER',\n",
              " 'ISLANDS',\n",
              " 'Commonwealth',\n",
              " 'Civitas',\n",
              " 'OPENING',\n",
              " 'SENTENCE',\n",
              " 'HOBBES',\n",
              " 'LEVIATHAN',\n",
              " 'Silly',\n",
              " 'Mansoul',\n",
              " 'chewing',\n",
              " 'sprat',\n",
              " 'PILGRIM',\n",
              " 'PROGRESS',\n",
              " 'Created',\n",
              " 'PARADISE',\n",
              " 'LOST',\n",
              " '---\"',\n",
              " 'Hugest',\n",
              " 'Stretched',\n",
              " 'Draws',\n",
              " 'FULLLER',\n",
              " 'PROFANE',\n",
              " 'HOLY',\n",
              " 'STATE',\n",
              " 'DRYDEN',\n",
              " 'ANNUS',\n",
              " 'MIRABILIS',\n",
              " 'aground',\n",
              " 'EDGE',\n",
              " 'TEN',\n",
              " 'SPITZBERGEN',\n",
              " 'PURCHAS',\n",
              " 'wantonness',\n",
              " 'fuzzing',\n",
              " 'vents',\n",
              " 'HERBERT',\n",
              " 'INTO',\n",
              " 'ASIA',\n",
              " 'AFRICA',\n",
              " 'SCHOUTEN',\n",
              " 'SIXTH',\n",
              " 'CIRCUMNAVIGATION',\n",
              " 'Elbe',\n",
              " 'ducat',\n",
              " 'herrings',\n",
              " 'GREENLAND',\n",
              " 'Several',\n",
              " 'Fife',\n",
              " 'Anno',\n",
              " '1652',\n",
              " 'Pitferren',\n",
              " 'SIBBALD',\n",
              " 'FIFE',\n",
              " 'KINROSS',\n",
              " 'Myself',\n",
              " 'Sperma',\n",
              " 'ceti',\n",
              " 'fierceness',\n",
              " 'RICHARD',\n",
              " 'STRAFFORD',\n",
              " 'LETTER',\n",
              " 'BERMUDAS',\n",
              " 'PHIL',\n",
              " 'TRANS',\n",
              " '1668',\n",
              " 'PRIMER',\n",
              " 'COWLEY',\n",
              " '1729',\n",
              " '\"...',\n",
              " 'frequendy',\n",
              " 'insupportable',\n",
              " 'disorder',\n",
              " 'ULLOA',\n",
              " 'SOUTH',\n",
              " 'AMERICA',\n",
              " 'sylphs',\n",
              " 'petticoat',\n",
              " 'Oft',\n",
              " 'Tho',\n",
              " 'RAPE',\n",
              " 'LOCK',\n",
              " 'NAT',\n",
              " 'wales',\n",
              " 'JOHNSON',\n",
              " 'COOK',\n",
              " 'dung',\n",
              " 'lime',\n",
              " 'juniper',\n",
              " 'UNO',\n",
              " 'VON',\n",
              " 'TROIL',\n",
              " 'LETTERS',\n",
              " 'BANKS',\n",
              " 'SOLANDER',\n",
              " '1772',\n",
              " 'Nantuckois',\n",
              " 'JEFFERSON',\n",
              " 'MEMORIAL',\n",
              " 'MINISTER',\n",
              " 'REFERENCE',\n",
              " 'PARLIAMENT',\n",
              " 'SOMEWHERE',\n",
              " 'guarding',\n",
              " 'protecting',\n",
              " 'robbers',\n",
              " 'BLACKSTONE',\n",
              " 'Rodmond',\n",
              " 'suspends',\n",
              " 'attends',\n",
              " 'FALCONER',\n",
              " 'Bright',\n",
              " 'roofs',\n",
              " 'domes',\n",
              " 'rockets',\n",
              " 'Around',\n",
              " 'unwieldy',\n",
              " 'COWPER',\n",
              " 'VISIT',\n",
              " 'LONDON',\n",
              " 'HUNTER',\n",
              " 'DISSECTION',\n",
              " 'SMALL',\n",
              " 'SIZED',\n",
              " 'aorta',\n",
              " 'gushing',\n",
              " 'PALEY',\n",
              " 'THEOLOGY',\n",
              " 'mammiferous',\n",
              " 'hind',\n",
              " 'BARON',\n",
              " 'CUVIER',\n",
              " 'COLNETT',\n",
              " 'PURPOSE',\n",
              " 'EXTENDING',\n",
              " 'SPERMACETI',\n",
              " 'Floundered',\n",
              " 'chace',\n",
              " 'peopling',\n",
              " 'Gather',\n",
              " 'Led',\n",
              " 'instincts',\n",
              " 'trackless',\n",
              " 'Assaulted',\n",
              " 'voracious',\n",
              " 'spiral',\n",
              " 'MONTGOMERY',\n",
              " 'WORLD',\n",
              " 'FLOOD',\n",
              " 'Paean',\n",
              " 'fatter',\n",
              " 'Flounders',\n",
              " 'CHARLES',\n",
              " 'LAMB',\n",
              " 'TRIUMPH',\n",
              " '1690',\n",
              " 'OBED',\n",
              " 'Susan',\n",
              " 'HAWTHORNE',\n",
              " 'TWICE',\n",
              " 'bespeak',\n",
              " 'raal',\n",
              " 'COOPER',\n",
              " 'PILOT',\n",
              " 'Berlin',\n",
              " 'Gazette',\n",
              " 'ECKERMANN',\n",
              " 'CONVERSATIONS',\n",
              " 'GOETHE',\n",
              " 'ESSEX',\n",
              " 'WAS',\n",
              " 'ATTACKED',\n",
              " 'FINALLY',\n",
              " 'DESTROYED',\n",
              " 'OWEN',\n",
              " 'CHACE',\n",
              " 'FIRST',\n",
              " 'SAID',\n",
              " 'VESSEL',\n",
              " 'YORK',\n",
              " '1821',\n",
              " 'piping',\n",
              " 'dimmed',\n",
              " 'phospher',\n",
              " 'ELIZABETH',\n",
              " 'OAKES',\n",
              " 'SMITH',\n",
              " 'amounted',\n",
              " '440',\n",
              " 'SCORESBY',\n",
              " 'Mad',\n",
              " 'agonies',\n",
              " 'endures',\n",
              " 'infuriated',\n",
              " 'rears',\n",
              " 'snaps',\n",
              " 'propelled',\n",
              " 'observers',\n",
              " 'opportunities',\n",
              " 'habitudes',\n",
              " 'BEALE',\n",
              " 'offensively',\n",
              " 'artful',\n",
              " 'mischievous',\n",
              " 'FREDERICK',\n",
              " 'DEBELL',\n",
              " '1840',\n",
              " 'October',\n",
              " 'Raise',\n",
              " 'ay',\n",
              " 'THAR',\n",
              " 'bowes',\n",
              " 'os',\n",
              " 'ROSS',\n",
              " 'ETCHINGS',\n",
              " 'CRUIZE',\n",
              " '1846',\n",
              " 'Globe',\n",
              " 'transactions',\n",
              " 'relate',\n",
              " 'HUSSEY',\n",
              " 'SURVIVORS',\n",
              " 'parried',\n",
              " 'MISSIONARY',\n",
              " 'JOURNAL',\n",
              " 'TYERMAN',\n",
              " 'boldest',\n",
              " 'persevering',\n",
              " 'REPORT',\n",
              " 'DANIEL',\n",
              " 'SPEECH',\n",
              " 'SENATE',\n",
              " 'APPLICATION',\n",
              " 'ERECTION',\n",
              " 'BREAKWATER',\n",
              " 'CAPTORS',\n",
              " 'WHALEMAN',\n",
              " 'ADVENTURES',\n",
              " 'BIOGRAPHY',\n",
              " 'GATHERED',\n",
              " 'HOMEWARD',\n",
              " 'COMMODORE',\n",
              " 'PREBLE',\n",
              " 'REV',\n",
              " 'CHEEVER',\n",
              " 'MUTINEER',\n",
              " 'BROTHER',\n",
              " 'ANOTHER',\n",
              " 'MCCULLOCH',\n",
              " 'COMMERCIAL',\n",
              " 'reciprocal',\n",
              " 'clews',\n",
              " 'SOMETHING',\n",
              " 'UNPUBLISHED',\n",
              " 'CURRENTS',\n",
              " 'Pedestrians',\n",
              " 'recollect',\n",
              " 'gateways',\n",
              " 'VOYAGER',\n",
              " 'ARCTIC',\n",
              " 'NEWSPAPER',\n",
              " 'TAKING',\n",
              " 'RETAKING',\n",
              " 'HOBOMACK',\n",
              " 'MIRIAM',\n",
              " 'FISHERMAN',\n",
              " 'appliance',\n",
              " 'RIBS',\n",
              " 'TRUCKS',\n",
              " 'Terra',\n",
              " 'Del',\n",
              " 'Fuego',\n",
              " 'DARWIN',\n",
              " 'NATURALIST',\n",
              " \";--'\",\n",
              " '!\\'\"',\n",
              " 'WHARTON',\n",
              " 'Loomings',\n",
              " 'spleen',\n",
              " 'regulating',\n",
              " 'circulation',\n",
              " 'Whenever',\n",
              " 'drizzly',\n",
              " 'hypos',\n",
              " 'philosophical',\n",
              " 'Cato',\n",
              " 'Manhattoes',\n",
              " 'reefs',\n",
              " 'downtown',\n",
              " 'gazers',\n",
              " 'Circumambulate',\n",
              " 'Corlears',\n",
              " 'Coenties',\n",
              " 'Slip',\n",
              " 'Whitehall',\n",
              " 'Posted',\n",
              " 'sentinels',\n",
              " 'spiles',\n",
              " 'pier',\n",
              " 'lath',\n",
              " 'counters',\n",
              " 'desks',\n",
              " 'loitering',\n",
              " 'shady',\n",
              " 'Inlanders',\n",
              " 'lanes',\n",
              " 'alleys',\n",
              " 'attract',\n",
              " 'dale',\n",
              " 'dreamiest',\n",
              " 'shadiest',\n",
              " 'quietest',\n",
              " 'enchanting',\n",
              " 'Saco',\n",
              " 'crucifix',\n",
              " 'Deep',\n",
              " 'mazy',\n",
              " 'Tiger',\n",
              " 'Tennessee',\n",
              " 'Rockaway',\n",
              " 'Persians',\n",
              " 'deity',\n",
              " 'Narcissus',\n",
              " 'ungraspable',\n",
              " 'hazy',\n",
              " 'quarrelsome',\n",
              " 'offices',\n",
              " 'abominate',\n",
              " 'toils',\n",
              " 'trials',\n",
              " 'barques',\n",
              " 'schooners',\n",
              " 'broiling',\n",
              " 'buttered',\n",
              " 'judgmatically',\n",
              " 'peppered',\n",
              " 'reverentially',\n",
              " 'idolatrous',\n",
              " 'dotings',\n",
              " 'ibis',\n",
              " 'roasted',\n",
              " 'bake',\n",
              " 'plumb',\n",
              " 'Van',\n",
              " 'Rensselaers',\n",
              " 'Randolphs',\n",
              " 'Hardicanutes',\n",
              " 'lording',\n",
              " 'tallest',\n",
              " 'decoction',\n",
              " 'Seneca',\n",
              " 'Stoics',\n",
              " 'Testament',\n",
              " 'promptly',\n",
              " 'rub',\n",
              " 'infliction',\n",
              " 'BEING',\n",
              " 'PAID',\n",
              " 'urbane',\n",
              " 'ills',\n",
              " 'monied',\n",
              " 'consign',\n",
              " 'prevalent',\n",
              " 'violate',\n",
              " 'Pythagorean',\n",
              " 'commonalty',\n",
              " 'police',\n",
              " 'surveillance',\n",
              " 'programme',\n",
              " 'solo',\n",
              " 'CONTESTED',\n",
              " 'ELECTION',\n",
              " 'PRESIDENCY',\n",
              " 'UNITED',\n",
              " 'STATES',\n",
              " 'ISHMAEL',\n",
              " 'BLOODY',\n",
              " 'AFFGHANISTAN',\n",
              " 'managers',\n",
              " 'genteel',\n",
              " 'comedies',\n",
              " 'farces',\n",
              " 'cunningly',\n",
              " 'disguises',\n",
              " 'cajoling',\n",
              " 'unbiased',\n",
              " 'freewill',\n",
              " 'discriminating',\n",
              " 'overwhelming',\n",
              " 'undeliverable',\n",
              " 'itch',\n",
              " 'forbidden',\n",
              " 'ignoring',\n",
              " 'lodges',\n",
              " 'Carpet',\n",
              " 'Bag',\n",
              " 'Manhatto',\n",
              " 'candidates',\n",
              " 'penalties',\n",
              " 'Tyre',\n",
              " 'Carthage',\n",
              " 'imported',\n",
              " 'cobblestones',\n",
              " 'bitingly',\n",
              " 'shouldering',\n",
              " 'price',\n",
              " 'fervent',\n",
              " 'asphaltic',\n",
              " 'pavement',\n",
              " 'flinty',\n",
              " 'projections',\n",
              " 'soles',\n",
              " 'Too',\n",
              " 'cheapest',\n",
              " 'cheeriest',\n",
              " 'invitingly',\n",
              " 'particles',\n",
              " 'peer',\n",
              " 'Angel',\n",
              " 'Doom',\n",
              " 'wailing',\n",
              " 'gnashing',\n",
              " 'Wretched',\n",
              " 'entertainment',\n",
              " 'Moving',\n",
              " 'emigrant',\n",
              " 'poverty',\n",
              " 'creak',\n",
              " 'lodgings',\n",
              " 'zephyr',\n",
              " 'hob',\n",
              " 'toasting',\n",
              " 'observest',\n",
              " 'sashless',\n",
              " 'glazier',\n",
              " 'reasonest',\n",
              " 'chinks',\n",
              " 'crannies',\n",
              " 'lint',\n",
              " 'chattering',\n",
              " 'shiverings',\n",
              " 'cob',\n",
              " 'redder',\n",
              " 'Orion',\n",
              " 'glitters',\n",
              " 'conservatories',\n",
              " 'president',\n",
              " 'temperance',\n",
              " 'blubbering',\n",
              " 'straggling',\n",
              " 'wainscots',\n",
              " 'reminding',\n",
              " 'oilpainting',\n",
              " 'besmoked',\n",
              " 'defaced',\n",
              " 'unequal',\n",
              " 'crosslights',\n",
              " 'hags',\n",
              " 'delineate',\n",
              " 'bewitched',\n",
              " 'ponderings',\n",
              " 'boggy',\n",
              " 'soggy',\n",
              " 'squitchy',\n",
              " 'froze',\n",
              " 'heath',\n",
              " 'icebound',\n",
              " 'represents',\n",
              " 'Horner',\n",
              " 'foundered',\n",
              " 'clubs',\n",
              " 'harvesting',\n",
              " 'hacking',\n",
              " 'horrifying',\n",
              " 'Mixed',\n",
              " 'Nathan',\n",
              " 'Swain',\n",
              " 'corkscrew',\n",
              " 'Blanco',\n",
              " 'sojourning',\n",
              " 'fireplaces',\n",
              " 'duskier',\n",
              " 'cockpits',\n",
              " 'rarities',\n",
              " 'Projecting',\n",
              " 'Within',\n",
              " 'shelves',\n",
              " 'flasks',\n",
              " 'bustles',\n",
              " 'deliriums',\n",
              " 'Abominable',\n",
              " 'tumblers',\n",
              " 'cylinders',\n",
              " 'goggling',\n",
              " 'deceitfully',\n",
              " 'tapered',\n",
              " 'Parallel',\n",
              " 'pecked',\n",
              " 'footpads',\n",
              " 'Fill',\n",
              " 'shilling',\n",
              " 'examining',\n",
              " 'SKRIMSHANDER',\n",
              " 'accommodated',\n",
              " 'unoccupied',\n",
              " 'haint',\n",
              " 'pose',\n",
              " 'whalin',\n",
              " 'decidedly',\n",
              " 'objectionable',\n",
              " 'wander',\n",
              " 'Battery',\n",
              " 'ruminating',\n",
              " 'adorning',\n",
              " 'potatoes',\n",
              " 'sartainty',\n",
              " 'diabolically',\n",
              " 'steaks',\n",
              " 'undress',\n",
              " 'looker',\n",
              " 'rioting',\n",
              " 'Grampus',\n",
              " 'seed',\n",
              " 'Feegees',\n",
              " 'tramping',\n",
              " 'Enveloped',\n",
              " 'bedarned',\n",
              " 'eruption',\n",
              " 'officiating',\n",
              " 'brimmers',\n",
              " 'complained',\n",
              " 'potion',\n",
              " 'colds',\n",
              " 'catarrhs',\n",
              " 'liquor',\n",
              " 'arrantest',\n",
              " 'topers',\n",
              " 'obstreperously',\n",
              " 'aloof',\n",
              " 'desirous',\n",
              " 'hilarity',\n",
              " 'coffer',\n",
              " 'Southerner',\n",
              " 'mountaineers',\n",
              " 'Alleghanian',\n",
              " 'missed',\n",
              " 'supernaturally',\n",
              " 'congratulate',\n",
              " 'multiply',\n",
              " 'bachelor',\n",
              " 'abominated',\n",
              " 'tidiest',\n",
              " 'bedwards',\n",
              " 'shan',\n",
              " 'tablecloth',\n",
              " 'Skrimshander',\n",
              " 'bump',\n",
              " 'spraining',\n",
              " 'eider',\n",
              " 'yoking',\n",
              " 'rickety',\n",
              " 'whirlwinds',\n",
              " 'knockings',\n",
              " 'dismissed',\n",
              " 'popped',\n",
              " 'cherishing',\n",
              " 'chuckled',\n",
              " 'chuckle',\n",
              " 'mightily',\n",
              " 'catches',\n",
              " 'bamboozingly',\n",
              " 'overstocked',\n",
              " 'toothpick',\n",
              " 'rayther',\n",
              " 'BROWN',\n",
              " 'slanderin',\n",
              " 'farrago',\n",
              " 'BROKE',\n",
              " 'Sartain',\n",
              " 'Mt',\n",
              " 'Hecla',\n",
              " 'persist',\n",
              " 'mystifying',\n",
              " 'unsay',\n",
              " 'criminal',\n",
              " 'Wall',\n",
              " 'purty',\n",
              " 'sarmon',\n",
              " 'rips',\n",
              " 'tellin',\n",
              " 'bought',\n",
              " 'balmed',\n",
              " 'curios',\n",
              " 'sellin',\n",
              " 'inions',\n",
              " 'fooling',\n",
              " 'idolators',\n",
              " 'Depend',\n",
              " 'reg',\n",
              " 'lar',\n",
              " 'spliced',\n",
              " 'Johnny',\n",
              " 'sprawling',\n",
              " 'Arter',\n",
              " 'glim',\n",
              " 'jiffy',\n",
              " 'irresolute',\n",
              " 'vum',\n",
              " 'WON',\n",
              " 'Folding',\n",
              " 'scrutiny',\n",
              " 'porcupine',\n",
              " 'moccasin',\n",
              " 'ponchos',\n",
              " 'parade',\n",
              " 'rainy',\n",
              " 'remembering',\n",
              " 'commended',\n",
              " 'cobs',\n",
              " 'Nod',\n",
              " 'footfall',\n",
              " 'unlacing',\n",
              " 'blackish',\n",
              " 'plasters',\n",
              " 'inkling',\n",
              " 'Placing',\n",
              " 'crammed',\n",
              " 'scalp',\n",
              " 'mildewed',\n",
              " 'Ignorance',\n",
              " 'parent',\n",
              " 'nonplussed',\n",
              " 'undressing',\n",
              " 'checkered',\n",
              " 'Thirty',\n",
              " 'frogs',\n",
              " 'quaked',\n",
              " 'wrapall',\n",
              " 'dreadnaught',\n",
              " 'fumbled',\n",
              " 'Remembering',\n",
              " 'manikin',\n",
              " 'tenpin',\n",
              " 'andirons',\n",
              " 'jambs',\n",
              " 'bricks',\n",
              " 'appropriate',\n",
              " 'applying',\n",
              " 'hastier',\n",
              " 'withdrawals',\n",
              " 'antics',\n",
              " 'devotee',\n",
              " 'extinguishing',\n",
              " 'unceremoniously',\n",
              " 'bagged',\n",
              " 'sportsman',\n",
              " 'woodcock',\n",
              " 'uncomfortableness',\n",
              " 'deliberating',\n",
              " 'puffed',\n",
              " 'sang',\n",
              " 'Stammering',\n",
              " 'conjured',\n",
              " 'responses',\n",
              " 'debel',\n",
              " 'flourishing',\n",
              " 'Angels',\n",
              " 'flourishings',\n",
              " 'peddlin',\n",
              " 'sleepe',\n",
              " 'grunted',\n",
              " 'gettee',\n",
              " 'motioning',\n",
              " 'comely',\n",
              " 'insured',\n",
              " 'Counterpane',\n",
              " 'parti',\n",
              " 'triangles',\n",
              " 'interminable',\n",
              " 'caper',\n",
              " 'supperless',\n",
              " '21st',\n",
              " 'hemisphere',\n",
              " 'sigh',\n",
              " 'Sixteen',\n",
              " 'ached',\n",
              " 'coaches',\n",
              " 'stockinged',\n",
              " 'slippering',\n",
              " 'misbehaviour',\n",
              " 'unendurable',\n",
              " 'stepmothers',\n",
              " 'misfortunes',\n",
              " 'steeped',\n",
              " 'shudderingly',\n",
              " 'confounding',\n",
              " 'soberly',\n",
              " 'recurred',\n",
              " 'predicament',\n",
              " 'unlock',\n",
              " 'bridegroom',\n",
              " 'clasp',\n",
              " 'hugged',\n",
              " 'rouse',\n",
              " 'snore',\n",
              " 'scratch',\n",
              " 'Throwing',\n",
              " 'expostulations',\n",
              " 'unbecomingness',\n",
              " 'matrimonial',\n",
              " 'dawning',\n",
              " 'overture',\n",
              " 'innate',\n",
              " 'compliment',\n",
              " 'civility',\n",
              " 'rudeness',\n",
              " 'toilette',\n",
              " 'dressing',\n",
              " 'donning',\n",
              " 'gaspings',\n",
              " 'booting',\n",
              " 'caterpillar',\n",
              " 'outlandishness',\n",
              " 'manners',\n",
              " 'education',\n",
              " 'undergraduate',\n",
              " 'dreamt',\n",
              " 'cowhide',\n",
              " 'pinched',\n",
              " 'curtains',\n",
              " 'indecorous',\n",
              " 'contented',\n",
              " 'restricting',\n",
              " 'donned',\n",
              " 'lathering',\n",
              " 'unsheathes',\n",
              " 'whets',\n",
              " 'Rogers',\n",
              " 'cutlery',\n",
              " 'Afterwards',\n",
              " 'baton',\n",
              " 'Breakfast',\n",
              " 'pleasantly',\n",
              " 'bountifully',\n",
              " 'laughable',\n",
              " 'bosky',\n",
              " 'unshorn',\n",
              " 'gowns',\n",
              " 'toasted',\n",
              " 'lingers',\n",
              " 'tarried',\n",
              " 'barred',\n",
              " 'Grub',\n",
              " 'Park',\n",
              " 'assurance',\n",
              " 'polish',\n",
              " 'occasioned',\n",
              " 'embarrassed',\n",
              " 'bashfulness',\n",
              " 'duelled',\n",
              " 'winking',\n",
              " 'tastes',\n",
              " 'sheepishly',\n",
              " 'bashful',\n",
              " 'icicle',\n",
              " 'admirer',\n",
              " 'cordially',\n",
              " 'grappling',\n",
              " 'genteelly',\n",
              " 'eschewed',\n",
              " 'undivided',\n",
              " '6',\n",
              " 'circulating',\n",
              " 'nondescripts',\n",
              " 'Chestnut',\n",
              " 'jostle',\n",
              " 'Regent',\n",
              " 'Lascars',\n",
              " 'Bombay',\n",
              " 'Apollo',\n",
              " 'Feegeeans',\n",
              " 'Tongatobooarrs',\n",
              " 'Erromanggoans',\n",
              " 'Pannangians',\n",
              " 'Brighggians',\n",
              " 'weekly',\n",
              " 'Vermonters',\n",
              " 'stalwart',\n",
              " 'frames',\n",
              " 'felled',\n",
              " 'strutting',\n",
              " 'wester',\n",
              " 'bombazine',\n",
              " 'cloak',\n",
              " 'mow',\n",
              " 'gloves',\n",
              " 'joins',\n",
              " 'outfit',\n",
              " 'waistcoats',\n",
              " 'Hay',\n",
              " 'Seed',\n",
              " 'tract',\n",
              " 'dearest',\n",
              " 'pave',\n",
              " 'eggs',\n",
              " 'patrician',\n",
              " 'parks',\n",
              " 'scraggy',\n",
              " 'scoria',\n",
              " 'Herr',\n",
              " 'dowers',\n",
              " 'nieces',\n",
              " 'reservoirs',\n",
              " 'maples',\n",
              " 'bountiful',\n",
              " 'proffer',\n",
              " 'passer',\n",
              " 'cones',\n",
              " 'blossoms',\n",
              " 'superinduced',\n",
              " 'carnation',\n",
              " 'Salem',\n",
              " 'sweethearts',\n",
              " 'Puritanic',\n",
              " 'Whaleman',\n",
              " 'Wrapping',\n",
              " 'Each',\n",
              " 'quote',\n",
              " 'TALBOT',\n",
              " 'Near',\n",
              " 'Desolation',\n",
              " '1st',\n",
              " 'SISTER',\n",
              " 'ROBERT',\n",
              " 'WILLIS',\n",
              " 'ELLERY',\n",
              " 'NATHAN',\n",
              " 'COLEMAN',\n",
              " 'WALTER',\n",
              " 'CANNY',\n",
              " 'SETH',\n",
              " 'GLEIG',\n",
              " 'Forming',\n",
              " 'ELIZA',\n",
              " '31st',\n",
              " 'MARBLE',\n",
              " 'SHIPMATES',\n",
              " 'EZEKIEL',\n",
              " 'HARDY',\n",
              " 'AUGUST',\n",
              " '3d',\n",
              " '1833',\n",
              " 'WIDOW',\n",
              " 'Shaking',\n",
              " 'glazed',\n",
              " 'Affected',\n",
              " 'relatives',\n",
              " 'unhealing',\n",
              " 'sympathetically',\n",
              " 'wounds',\n",
              " 'bleed',\n",
              " 'blanks',\n",
              " ...]"
            ]
          },
          "metadata": {},
          "execution_count": 64
        }
      ],
      "source": [
        "fdist1.hapaxes()"
      ]
    },
    {
      "cell_type": "markdown",
      "metadata": {
        "id": "_mwk_LEkP1Wh"
      },
      "source": [
        "## 3.2   Fine-grained Selection of Words\n",
        "Next, let's look at the _long_ words of a text; perhaps these will be more characteristic and informative. For this we adapt some notation from set theory. We would like to find the words from the vocabulary of the text that are more than 15 characters long. Let's call this property _P_, so that _P(w)_ is true if and only if w is more than 15 characters long. Now we can express the words of interest using mathematical set notation as shown in [1a](https://www.nltk.org/book/ch01.html#ex-set-comprehension-math). This means \"the set of all _w_ such that _w_ is an element of _V_ (the vocabulary) and _w_ has property _P_\".\n",
        "\n",
        "The corresponding Python expression is given in (1b). (Note that it produces a list, not a set, which means that duplicates are possible.) Observe how similar the two notations are. Let's go one more step and write executable Python code:"
      ]
    },
    {
      "cell_type": "code",
      "execution_count": 66,
      "metadata": {
        "id": "rbrwsfT3P1Wi",
        "colab": {
          "base_uri": "https://localhost:8080/"
        },
        "outputId": "f78b50dc-f956-45f1-d7b3-18da520911ea"
      },
      "outputs": [
        {
          "output_type": "execute_result",
          "data": {
            "text/plain": [
              "['incomprehensible', 'undenominational']"
            ]
          },
          "metadata": {},
          "execution_count": 66
        }
      ],
      "source": [
        "V = set(text9)\n",
        "long_words = [w for w in V if len(w) > 15]\n",
        "sorted(long_words)"
      ]
    },
    {
      "cell_type": "markdown",
      "metadata": {
        "id": "lAIR8JaOP1Wi"
      },
      "source": [
        "For each word ```w``` in the vocabulary ```V```, we check whether ```len(w)``` is greater than 15; all other words will be ignored. We will discuss this syntax more carefully later. \n",
        "\n",
        "**Your Turn**: Try out the previous statements in a cell of your own, and experiment with changing the text and changing the length condition. Does it make a difference to your results if you change the variable names, e.g., using ```[word for word in vocab if ...]```?"
      ]
    },
    {
      "cell_type": "code",
      "execution_count": 67,
      "metadata": {
        "id": "G9yrzVgTP1Wi",
        "colab": {
          "base_uri": "https://localhost:8080/"
        },
        "outputId": "1fae8889-55a5-47e2-8ff0-88a74176583c"
      },
      "outputs": [
        {
          "output_type": "execute_result",
          "data": {
            "text/plain": [
              "['238,000-circulation',\n",
              " 'Arbitrage-related',\n",
              " 'Bridgestone\\\\/Firestone',\n",
              " 'Chinese-American',\n",
              " 'Corton-Charlemagne',\n",
              " 'English-speaking',\n",
              " 'Freeport-McMoRan',\n",
              " 'Hart-Scott-Rodino',\n",
              " 'Lafite-Rothschild',\n",
              " 'Louisiana-Pacific',\n",
              " 'Macmillan\\\\/McGraw',\n",
              " 'Macmillan\\\\/McGraw-Hill',\n",
              " 'Metallgesellschaft',\n",
              " 'Minneapolis-based',\n",
              " 'Philadelphia-based',\n",
              " 'Property\\\\/casualty',\n",
              " 'Prudential-Bache',\n",
              " 'Renaissance-style',\n",
              " 'Sacramento-based',\n",
              " 'Test-preparation',\n",
              " 'Trockenbeerenauslesen',\n",
              " 'Washington-based',\n",
              " 'abortion-related',\n",
              " 'achievement-test',\n",
              " 'acquisition-minded',\n",
              " 'anti-abortionists',\n",
              " 'anti-miscarriage',\n",
              " 'anti-morning-sickness',\n",
              " 'anti-programmers',\n",
              " 'asbestos-related',\n",
              " 'automotive-lighting',\n",
              " 'automotive-parts',\n",
              " 'battery-operated',\n",
              " 'bread-and-butter',\n",
              " 'building-products',\n",
              " 'collective-bargaining',\n",
              " 'computer-assisted',\n",
              " 'computer-generated',\n",
              " 'computer-services',\n",
              " 'computer-system-design',\n",
              " 'constitutional-law',\n",
              " 'counterrevolutionary',\n",
              " 'creditworthiness',\n",
              " 'current-carrying',\n",
              " 'diethylstilbestrol',\n",
              " 'direct-investment',\n",
              " 'disaster-assistance',\n",
              " 'disproportionate',\n",
              " 'dollar-denominated',\n",
              " 'early-retirement',\n",
              " 'electric-utility',\n",
              " 'electrical-safety',\n",
              " 'environmentalists',\n",
              " 'equal-opportunity',\n",
              " 'executive-office',\n",
              " 'financial-services',\n",
              " 'get-out-the-vote',\n",
              " 'government-certified',\n",
              " 'government-funded',\n",
              " 'government-owned',\n",
              " 'headcount-control',\n",
              " 'housing-assistance',\n",
              " 'identity-management',\n",
              " 'incentive-backed',\n",
              " 'industrial-production',\n",
              " 'industry-supported',\n",
              " 'information-services',\n",
              " 'insurance-company',\n",
              " 'intellectual-property',\n",
              " 'interest-bearing',\n",
              " 'investment-grade',\n",
              " 'investor-relations',\n",
              " 'labor-management',\n",
              " 'language-housekeeper',\n",
              " 'larger-than-normal',\n",
              " 'less-than-brilliant',\n",
              " 'life-of-contract',\n",
              " 'limited-partnership',\n",
              " 'machine-gun-toting',\n",
              " 'marketing-communications',\n",
              " 'most-likely-successor',\n",
              " 'multibillion-dollar',\n",
              " 'newspaper-printing',\n",
              " 'non-biodegradable',\n",
              " 'non-encapsulating',\n",
              " 'noncompetitively',\n",
              " 'over-the-counter',\n",
              " 'parts-engineering',\n",
              " 'pianist-comedian',\n",
              " 'price-depressing',\n",
              " 'property\\\\/casualty',\n",
              " 'public-relations',\n",
              " 'recession-inspired',\n",
              " 'responsibilities',\n",
              " 'revenue-desperate',\n",
              " 'savers\\\\/investors',\n",
              " 'savings-and-loan',\n",
              " 'school-improvement',\n",
              " 'school-sponsored',\n",
              " 'search-and-seizure',\n",
              " 'securities-based',\n",
              " 'self-aggrandizing',\n",
              " 'self-perpetuating',\n",
              " 'seven-million-ton',\n",
              " 'shareholder-rights',\n",
              " 'sometimes-exhausting',\n",
              " 'sometimes-tawdry',\n",
              " 'state-supervised',\n",
              " 'stock-manipulation',\n",
              " 'stock-specialist',\n",
              " 'substance-abusing',\n",
              " 'telecommunications',\n",
              " 'telephone-information',\n",
              " 'test-preparation',\n",
              " 'tissue-transplant',\n",
              " 'truth-in-lending',\n",
              " 'unconstitutional',\n",
              " 'weapons-modernization',\n",
              " 'yet-to-be-formed',\n",
              " 'yttrium-containing']"
            ]
          },
          "metadata": {},
          "execution_count": 67
        }
      ],
      "source": [
        "V = set(text7)\n",
        "long_words = [w for w in V if len(w) > 15]\n",
        "sorted(long_words)"
      ]
    },
    {
      "cell_type": "markdown",
      "metadata": {
        "id": "2gYsfC-AP1Wi"
      },
      "source": [
        "Let's return to our task of finding words that characterize a text. Notice that the long words in text4 reflect its national focus — _constitutionally, transcontinental_ — whereas those in text5 reflect its informal content: _boooooooooooglyyyyyy and yuuuuuuuuuuuummmmmmmmmmmm_. Have we succeeded in automatically extracting words that typify a text? Well, these very long words are often hapaxes (i.e., unique) and perhaps it would be better to find _frequently occurring long words_. This seems promising since it eliminates frequent short words (e.g., _the_) and infrequent long words (e.g. _antiphilosophists_). Here are all words from the chat corpus that are longer than seven characters, that occur more than seven times:"
      ]
    },
    {
      "cell_type": "code",
      "execution_count": 68,
      "metadata": {
        "id": "vvYVAtfWP1Wi",
        "colab": {
          "base_uri": "https://localhost:8080/"
        },
        "outputId": "236054b4-2c58-48d9-c00c-91ffb98de8e2"
      },
      "outputs": [
        {
          "output_type": "execute_result",
          "data": {
            "text/plain": [
              "['#14-19teens',\n",
              " '#talkcity_adults',\n",
              " '((((((((((',\n",
              " '........',\n",
              " 'Question',\n",
              " 'actually',\n",
              " 'anything',\n",
              " 'computer',\n",
              " 'cute.-ass',\n",
              " 'everyone',\n",
              " 'football',\n",
              " 'innocent',\n",
              " 'listening',\n",
              " 'remember',\n",
              " 'seriously',\n",
              " 'something',\n",
              " 'together',\n",
              " 'tomorrow',\n",
              " 'watching']"
            ]
          },
          "metadata": {},
          "execution_count": 68
        }
      ],
      "source": [
        "fdist5 = FreqDist(text5)\n",
        "sorted(w for w in set(text5) if len(w) > 7 and fdist5[w] > 7)"
      ]
    },
    {
      "cell_type": "markdown",
      "metadata": {
        "id": "a2Ec3tyxP1Wi"
      },
      "source": [
        "Notice hwo we have used two conditions: ```len(w) > 7 ``` ensures that the words are longer than seven letters and ```fdist5[w] > 7 ```ensures that these words occur more than seven times. At last we have managed to automatically identify the frequently-occurring content-bearing words of the text. It is a modest but important miestone: a tiny piece of code, processing tens of thousands of words, produces some informative output. "
      ]
    },
    {
      "cell_type": "markdown",
      "metadata": {
        "id": "zBT9BsJZP1Wi"
      },
      "source": [
        "### 3.3   Collocations and Bigrams\n",
        "A **collocation** is a sequence of words that occur together unusually often. Thus *red wine* is a collocation, whereas *the wine* is not. A characteristic of collocations is that they are resistant to substitution with words that have similar senses; for example, *maroon wine* sounds definitely odd.\n",
        "\n",
        "To get a handle on collocations, we start off by extracting from a text a list of word pairs, also known as *bigrams*. This is easily accomplished with the function ```nltk.bigrams()```: \n",
        "\n",
        "(**NOTE** This is a fix that is not reflected in the book. Bigrams are being handled differently in NLTK. The other way to do this is to add one line that reads: ```from nltk.util import bigrams ```)"
      ]
    },
    {
      "cell_type": "code",
      "execution_count": 69,
      "metadata": {
        "id": "pmY6lLvPP1Wi",
        "colab": {
          "base_uri": "https://localhost:8080/"
        },
        "outputId": "83811ae1-8496-4f9a-e34a-a47e99ab1f9e"
      },
      "outputs": [
        {
          "output_type": "execute_result",
          "data": {
            "text/plain": [
              "[('more', 'is'), ('is', 'said'), ('said', 'than'), ('than', 'done')]"
            ]
          },
          "metadata": {},
          "execution_count": 69
        }
      ],
      "source": [
        "list(nltk.bigrams(['more', 'is', 'said', 'than', 'done']))"
      ]
    },
    {
      "cell_type": "markdown",
      "metadata": {
        "id": "evdIe81fP1Wi"
      },
      "source": [
        "Here we see that the pair of words _than-done_ is a bigram, and we write it in Python as ```('than', 'done')```. Now, collocations are essentially just frequent bigrams, except that we want to pay more attention to the cases that involve rare words. In particular, we want to find bigrams that occur more often than we would expect based on the frequency of the individual words. The ```collocations()``` function does this for us. We will see how it works later."
      ]
    },
    {
      "cell_type": "code",
      "execution_count": 70,
      "metadata": {
        "id": "jtlTPl94P1Wj",
        "colab": {
          "base_uri": "https://localhost:8080/"
        },
        "outputId": "723640df-ad22-4007-d6d3-8bc8d0890e26"
      },
      "outputs": [
        {
          "output_type": "stream",
          "name": "stdout",
          "text": [
            "United States; fellow citizens; years ago; four years; Federal\n",
            "Government; General Government; American people; Vice President; God\n",
            "bless; Chief Justice; one another; fellow Americans; Old World;\n",
            "Almighty God; Fellow citizens; Chief Magistrate; every citizen; Indian\n",
            "tribes; public debt; foreign nations\n"
          ]
        }
      ],
      "source": [
        "text4.collocations()"
      ]
    },
    {
      "cell_type": "code",
      "execution_count": 71,
      "metadata": {
        "id": "0kh4bAhwP1Wj",
        "colab": {
          "base_uri": "https://localhost:8080/"
        },
        "outputId": "39e7b0b1-3b36-4131-c8db-db8527b28404"
      },
      "outputs": [
        {
          "output_type": "stream",
          "name": "stdout",
          "text": [
            "would like; medium build; social drinker; quiet nights; non smoker;\n",
            "long term; age open; Would like; easy going; financially secure; fun\n",
            "times; similar interests; Age open; weekends away; poss rship; well\n",
            "presented; never married; single mum; permanent relationship; slim\n",
            "build\n"
          ]
        }
      ],
      "source": [
        "text8.collocations()"
      ]
    },
    {
      "cell_type": "markdown",
      "metadata": {
        "id": "7QqgJfRlP1Wj"
      },
      "source": [
        "Th collocations that emerge are very specific to the genre of the texts. In order to find *red wine* as a collocation, we  would need to process a much larger body of text."
      ]
    },
    {
      "cell_type": "markdown",
      "metadata": {
        "id": "AgWx_vzKP1Wj"
      },
      "source": [
        "### 3.4   Counting Other Things\n",
        "Counting words is useful, but we can count other things too. For example, we can look at the distribution of word lengths in a text, by creating a ```FreqDist``` out of a long list of numbers, where each number is the length of the corresponding word in the text:"
      ]
    },
    {
      "cell_type": "code",
      "execution_count": 72,
      "metadata": {
        "id": "BUMUPr9DP1Wj",
        "colab": {
          "base_uri": "https://localhost:8080/"
        },
        "outputId": "3fa3933b-1713-4297-81c5-d86d3de32a46"
      },
      "outputs": [
        {
          "output_type": "execute_result",
          "data": {
            "text/plain": [
              "[1,\n",
              " 4,\n",
              " 4,\n",
              " 2,\n",
              " 6,\n",
              " 8,\n",
              " 4,\n",
              " 1,\n",
              " 9,\n",
              " 1,\n",
              " 1,\n",
              " 8,\n",
              " 2,\n",
              " 1,\n",
              " 4,\n",
              " 11,\n",
              " 5,\n",
              " 2,\n",
              " 1,\n",
              " 7,\n",
              " 6,\n",
              " 1,\n",
              " 3,\n",
              " 4,\n",
              " 5,\n",
              " 2,\n",
              " 10,\n",
              " 2,\n",
              " 4,\n",
              " 1,\n",
              " 5,\n",
              " 1,\n",
              " 4,\n",
              " 1,\n",
              " 3,\n",
              " 5,\n",
              " 1,\n",
              " 1,\n",
              " 3,\n",
              " 3,\n",
              " 3,\n",
              " 1,\n",
              " 2,\n",
              " 3,\n",
              " 4,\n",
              " 7,\n",
              " 3,\n",
              " 3,\n",
              " 8,\n",
              " 3,\n",
              " 8,\n",
              " 1,\n",
              " 4,\n",
              " 1,\n",
              " 5,\n",
              " 12,\n",
              " 1,\n",
              " 9,\n",
              " 11,\n",
              " 4,\n",
              " 3,\n",
              " 3,\n",
              " 3,\n",
              " 5,\n",
              " 2,\n",
              " 3,\n",
              " 3,\n",
              " 5,\n",
              " 7,\n",
              " 2,\n",
              " 3,\n",
              " 5,\n",
              " 1,\n",
              " 2,\n",
              " 5,\n",
              " 2,\n",
              " 4,\n",
              " 3,\n",
              " 3,\n",
              " 8,\n",
              " 1,\n",
              " 2,\n",
              " 7,\n",
              " 6,\n",
              " 8,\n",
              " 3,\n",
              " 2,\n",
              " 3,\n",
              " 9,\n",
              " 1,\n",
              " 1,\n",
              " 5,\n",
              " 3,\n",
              " 4,\n",
              " 2,\n",
              " 4,\n",
              " 2,\n",
              " 6,\n",
              " 6,\n",
              " 1,\n",
              " 3,\n",
              " 2,\n",
              " 5,\n",
              " 4,\n",
              " 2,\n",
              " 4,\n",
              " 4,\n",
              " 1,\n",
              " 5,\n",
              " 1,\n",
              " 4,\n",
              " 2,\n",
              " 2,\n",
              " 2,\n",
              " 6,\n",
              " 2,\n",
              " 3,\n",
              " 6,\n",
              " 7,\n",
              " 3,\n",
              " 1,\n",
              " 7,\n",
              " 9,\n",
              " 1,\n",
              " 3,\n",
              " 6,\n",
              " 1,\n",
              " 1,\n",
              " 5,\n",
              " 6,\n",
              " 5,\n",
              " 6,\n",
              " 3,\n",
              " 13,\n",
              " 2,\n",
              " 3,\n",
              " 4,\n",
              " 1,\n",
              " 3,\n",
              " 7,\n",
              " 4,\n",
              " 5,\n",
              " 2,\n",
              " 3,\n",
              " 4,\n",
              " 2,\n",
              " 2,\n",
              " 8,\n",
              " 1,\n",
              " 5,\n",
              " 1,\n",
              " 3,\n",
              " 2,\n",
              " 1,\n",
              " 3,\n",
              " 3,\n",
              " 1,\n",
              " 4,\n",
              " 1,\n",
              " 4,\n",
              " 6,\n",
              " 2,\n",
              " 5,\n",
              " 4,\n",
              " 9,\n",
              " 2,\n",
              " 7,\n",
              " 1,\n",
              " 3,\n",
              " 2,\n",
              " 3,\n",
              " 1,\n",
              " 5,\n",
              " 2,\n",
              " 6,\n",
              " 2,\n",
              " 7,\n",
              " 2,\n",
              " 2,\n",
              " 7,\n",
              " 1,\n",
              " 1,\n",
              " 10,\n",
              " 1,\n",
              " 5,\n",
              " 1,\n",
              " 3,\n",
              " 2,\n",
              " 2,\n",
              " 4,\n",
              " 11,\n",
              " 4,\n",
              " 3,\n",
              " 3,\n",
              " 1,\n",
              " 3,\n",
              " 3,\n",
              " 1,\n",
              " 6,\n",
              " 1,\n",
              " 1,\n",
              " 1,\n",
              " 1,\n",
              " 1,\n",
              " 4,\n",
              " 1,\n",
              " 3,\n",
              " 1,\n",
              " 2,\n",
              " 4,\n",
              " 1,\n",
              " 2,\n",
              " 6,\n",
              " 2,\n",
              " 2,\n",
              " 10,\n",
              " 1,\n",
              " 1,\n",
              " 10,\n",
              " 5,\n",
              " 1,\n",
              " 5,\n",
              " 1,\n",
              " 5,\n",
              " 1,\n",
              " 5,\n",
              " 1,\n",
              " 5,\n",
              " 1,\n",
              " 5,\n",
              " 1,\n",
              " 5,\n",
              " 1,\n",
              " 5,\n",
              " 1,\n",
              " 6,\n",
              " 1,\n",
              " 3,\n",
              " 1,\n",
              " 5,\n",
              " 1,\n",
              " 4,\n",
              " 1,\n",
              " 7,\n",
              " 1,\n",
              " 5,\n",
              " 1,\n",
              " 9,\n",
              " 1,\n",
              " 5,\n",
              " 1,\n",
              " 7,\n",
              " 1,\n",
              " 7,\n",
              " 1,\n",
              " 6,\n",
              " 1,\n",
              " 7,\n",
              " 1,\n",
              " 7,\n",
              " 1,\n",
              " 5,\n",
              " 1,\n",
              " 4,\n",
              " 1,\n",
              " 4,\n",
              " 1,\n",
              " 5,\n",
              " 1,\n",
              " 5,\n",
              " 1,\n",
              " 4,\n",
              " 1,\n",
              " 4,\n",
              " 1,\n",
              " 11,\n",
              " 1,\n",
              " 8,\n",
              " 1,\n",
              " 8,\n",
              " 2,\n",
              " 1,\n",
              " 3,\n",
              " 1,\n",
              " 3,\n",
              " 1,\n",
              " 9,\n",
              " 2,\n",
              " 2,\n",
              " 4,\n",
              " 2,\n",
              " 4,\n",
              " 4,\n",
              " 4,\n",
              " 4,\n",
              " 11,\n",
              " 8,\n",
              " 3,\n",
              " 4,\n",
              " 1,\n",
              " 4,\n",
              " 2,\n",
              " 1,\n",
              " 4,\n",
              " 5,\n",
              " 2,\n",
              " 1,\n",
              " 3,\n",
              " 1,\n",
              " 3,\n",
              " 7,\n",
              " 2,\n",
              " 4,\n",
              " 4,\n",
              " 7,\n",
              " 3,\n",
              " 4,\n",
              " 8,\n",
              " 3,\n",
              " 6,\n",
              " 1,\n",
              " 6,\n",
              " 2,\n",
              " 3,\n",
              " 5,\n",
              " 1,\n",
              " 7,\n",
              " 2,\n",
              " 8,\n",
              " 6,\n",
              " 9,\n",
              " 2,\n",
              " 6,\n",
              " 2,\n",
              " 5,\n",
              " 7,\n",
              " 4,\n",
              " 2,\n",
              " 3,\n",
              " 4,\n",
              " 10,\n",
              " 1,\n",
              " 6,\n",
              " 2,\n",
              " 7,\n",
              " 1,\n",
              " 9,\n",
              " 3,\n",
              " 4,\n",
              " 3,\n",
              " 1,\n",
              " 2,\n",
              " 5,\n",
              " 4,\n",
              " 2,\n",
              " 5,\n",
              " 1,\n",
              " 4,\n",
              " 3,\n",
              " 8,\n",
              " 1,\n",
              " 8,\n",
              " 5,\n",
              " 10,\n",
              " 1,\n",
              " 7,\n",
              " 9,\n",
              " 1,\n",
              " 2,\n",
              " 5,\n",
              " 8,\n",
              " 1,\n",
              " 3,\n",
              " 9,\n",
              " 6,\n",
              " 8,\n",
              " 1,\n",
              " 3,\n",
              " 4,\n",
              " 2,\n",
              " 1,\n",
              " 2,\n",
              " 8,\n",
              " 3,\n",
              " 7,\n",
              " 7,\n",
              " 9,\n",
              " 1,\n",
              " 2,\n",
              " 4,\n",
              " 2,\n",
              " 3,\n",
              " 5,\n",
              " 4,\n",
              " 9,\n",
              " 1,\n",
              " 5,\n",
              " 8,\n",
              " 3,\n",
              " 6,\n",
              " 8,\n",
              " 2,\n",
              " 12,\n",
              " 1,\n",
              " 2,\n",
              " 9,\n",
              " 1,\n",
              " 8,\n",
              " 4,\n",
              " 1,\n",
              " 1,\n",
              " 3,\n",
              " 4,\n",
              " 2,\n",
              " 4,\n",
              " 3,\n",
              " 4,\n",
              " 13,\n",
              " 4,\n",
              " 1,\n",
              " 7,\n",
              " 1,\n",
              " 7,\n",
              " 1,\n",
              " 3,\n",
              " 4,\n",
              " 2,\n",
              " 9,\n",
              " 1,\n",
              " 2,\n",
              " 4,\n",
              " 7,\n",
              " 3,\n",
              " 11,\n",
              " 1,\n",
              " 9,\n",
              " 3,\n",
              " 3,\n",
              " 1,\n",
              " 2,\n",
              " 4,\n",
              " 4,\n",
              " 4,\n",
              " 1,\n",
              " 4,\n",
              " 5,\n",
              " 2,\n",
              " 1,\n",
              " 3,\n",
              " 1,\n",
              " 3,\n",
              " 1,\n",
              " 5,\n",
              " 11,\n",
              " 1,\n",
              " 2,\n",
              " 1,\n",
              " 4,\n",
              " 9,\n",
              " 2,\n",
              " 4,\n",
              " 8,\n",
              " 1,\n",
              " 6,\n",
              " 5,\n",
              " 5,\n",
              " 2,\n",
              " 4,\n",
              " 2,\n",
              " 4,\n",
              " 5,\n",
              " 4,\n",
              " 4,\n",
              " 4,\n",
              " 1,\n",
              " 3,\n",
              " 3,\n",
              " 4,\n",
              " 4,\n",
              " 4,\n",
              " 6,\n",
              " 5,\n",
              " 2,\n",
              " 3,\n",
              " 4,\n",
              " 1,\n",
              " 6,\n",
              " 1,\n",
              " 3,\n",
              " 4,\n",
              " 4,\n",
              " 3,\n",
              " 9,\n",
              " 5,\n",
              " 2,\n",
              " 3,\n",
              " 1,\n",
              " 3,\n",
              " 4,\n",
              " 4,\n",
              " 1,\n",
              " 8,\n",
              " 1,\n",
              " 3,\n",
              " 1,\n",
              " 3,\n",
              " 4,\n",
              " 9,\n",
              " 4,\n",
              " 5,\n",
              " 1,\n",
              " 3,\n",
              " 3,\n",
              " 2,\n",
              " 4,\n",
              " 7,\n",
              " 1,\n",
              " 4,\n",
              " 4,\n",
              " 4,\n",
              " 3,\n",
              " 5,\n",
              " 7,\n",
              " 1,\n",
              " 3,\n",
              " 2,\n",
              " 3,\n",
              " 10,\n",
              " 10,\n",
              " 7,\n",
              " 2,\n",
              " 4,\n",
              " 2,\n",
              " 2,\n",
              " 1,\n",
              " 3,\n",
              " 1,\n",
              " 4,\n",
              " 1,\n",
              " 3,\n",
              " 2,\n",
              " 3,\n",
              " 4,\n",
              " 3,\n",
              " 4,\n",
              " 5,\n",
              " 2,\n",
              " 4,\n",
              " 2,\n",
              " 6,\n",
              " 3,\n",
              " 5,\n",
              " 1,\n",
              " 2,\n",
              " 2,\n",
              " 4,\n",
              " 3,\n",
              " 4,\n",
              " 5,\n",
              " 2,\n",
              " 3,\n",
              " 4,\n",
              " 2,\n",
              " 9,\n",
              " 1,\n",
              " 5,\n",
              " 4,\n",
              " 1,\n",
              " 5,\n",
              " 5,\n",
              " 3,\n",
              " 7,\n",
              " 5,\n",
              " 3,\n",
              " 3,\n",
              " 9,\n",
              " 3,\n",
              " 2,\n",
              " 1,\n",
              " 3,\n",
              " 4,\n",
              " 4,\n",
              " 4,\n",
              " 5,\n",
              " 3,\n",
              " 3,\n",
              " 5,\n",
              " 2,\n",
              " 3,\n",
              " 5,\n",
              " 1,\n",
              " 4,\n",
              " 4,\n",
              " 4,\n",
              " 6,\n",
              " 1,\n",
              " 3,\n",
              " 4,\n",
              " 7,\n",
              " 3,\n",
              " 4,\n",
              " 4,\n",
              " 6,\n",
              " 3,\n",
              " 8,\n",
              " 3,\n",
              " 3,\n",
              " 5,\n",
              " 1,\n",
              " 7,\n",
              " 7,\n",
              " 1,\n",
              " 3,\n",
              " 6,\n",
              " 8,\n",
              " 2,\n",
              " 4,\n",
              " 1,\n",
              " 8,\n",
              " 7,\n",
              " 1,\n",
              " 7,\n",
              " 1,\n",
              " 3,\n",
              " 7,\n",
              " 1,\n",
              " 7,\n",
              " 4,\n",
              " 6,\n",
              " 1,\n",
              " 4,\n",
              " 2,\n",
              " 6,\n",
              " 3,\n",
              " 10,\n",
              " 6,\n",
              " 8,\n",
              " 2,\n",
              " 5,\n",
              " 1,\n",
              " 2,\n",
              " 5,\n",
              " 6,\n",
              " 14,\n",
              " 7,\n",
              " 1,\n",
              " 8,\n",
              " 1,\n",
              " 1,\n",
              " 3,\n",
              " 3,\n",
              " 7,\n",
              " 5,\n",
              " 6,\n",
              " 2,\n",
              " 2,\n",
              " 7,\n",
              " 1,\n",
              " 1,\n",
              " 9,\n",
              " 6,\n",
              " 1,\n",
              " 4,\n",
              " 2,\n",
              " 5,\n",
              " 5,\n",
              " 3,\n",
              " 1,\n",
              " 3,\n",
              " 5,\n",
              " 5,\n",
              " 3,\n",
              " 4,\n",
              " 2,\n",
              " 2,\n",
              " 5,\n",
              " 2,\n",
              " 2,\n",
              " 3,\n",
              " 1,\n",
              " 1,\n",
              " 3,\n",
              " 3,\n",
              " 4,\n",
              " 3,\n",
              " 8,\n",
              " 1,\n",
              " 5,\n",
              " 4,\n",
              " 2,\n",
              " 7,\n",
              " 2,\n",
              " 5,\n",
              " 2,\n",
              " 2,\n",
              " 5,\n",
              " 1,\n",
              " 1,\n",
              " 5,\n",
              " 2,\n",
              " 3,\n",
              " 5,\n",
              " 1,\n",
              " 5,\n",
              " 2,\n",
              " 4,\n",
              " 9,\n",
              " 4,\n",
              " 4,\n",
              " 4,\n",
              " 4,\n",
              " 2,\n",
              " 4,\n",
              " 7,\n",
              " 2,\n",
              " 2,\n",
              " 6,\n",
              " 1,\n",
              " 1,\n",
              " 2,\n",
              " 4,\n",
              " 3,\n",
              " 1,\n",
              " 3,\n",
              " 4,\n",
              " 4,\n",
              " 3,\n",
              " 4,\n",
              " 1,\n",
              " 3,\n",
              " 5,\n",
              " 1,\n",
              " 3,\n",
              " 6,\n",
              " 5,\n",
              " 1,\n",
              " 5,\n",
              " 6,\n",
              " 9,\n",
              " 3,\n",
              " 8,\n",
              " 7,\n",
              " 1,\n",
              " 4,\n",
              " 9,\n",
              " 4,\n",
              " 7,\n",
              " 7,\n",
              " 1,\n",
              " 3,\n",
              " 2,\n",
              " 5,\n",
              " 4,\n",
              " 3,\n",
              " 6,\n",
              " 4,\n",
              " 2,\n",
              " 2,\n",
              " 3,\n",
              " 3,\n",
              " 2,\n",
              " 2,\n",
              " 6,\n",
              " 1,\n",
              " 3,\n",
              " 4,\n",
              " 5,\n",
              " 6,\n",
              " 7,\n",
              " 6,\n",
              " 6,\n",
              " 3,\n",
              " 5,\n",
              " 2,\n",
              " 4,\n",
              " 7,\n",
              " 1,\n",
              " 1,\n",
              " 5,\n",
              " 1,\n",
              " 2,\n",
              " 2,\n",
              " 5,\n",
              " 1,\n",
              " 4,\n",
              " 1,\n",
              " 2,\n",
              " 5,\n",
              " 1,\n",
              " 4,\n",
              " 2,\n",
              " 4,\n",
              " 3,\n",
              " 13,\n",
              " 4,\n",
              " 4,\n",
              " 5,\n",
              " 7,\n",
              " 2,\n",
              " 3,\n",
              " 1,\n",
              " 3,\n",
              " 9,\n",
              " 2,\n",
              " 3,\n",
              " 10,\n",
              " 4,\n",
              " 2,\n",
              " 3,\n",
              " 6,\n",
              " 2,\n",
              " 2,\n",
              " 7,\n",
              " 1,\n",
              " 1,\n",
              " 8,\n",
              " 1,\n",
              " 1,\n",
              " 6,\n",
              " 1,\n",
              " 1,\n",
              " 3,\n",
              " 6,\n",
              " 3,\n",
              " 8,\n",
              " 3,\n",
              " 4,\n",
              " 3,\n",
              " 3,\n",
              " 7,\n",
              " 6,\n",
              " 4,\n",
              " 3,\n",
              " 1,\n",
              " 5,\n",
              " 5,\n",
              " 3,\n",
              " 6,\n",
              " 3,\n",
              " 11,\n",
              " 6,\n",
              " 7,\n",
              " 1,\n",
              " 4,\n",
              " 2,\n",
              " 2,\n",
              " 4,\n",
              " 2,\n",
              " 6,\n",
              " 2,\n",
              " 4,\n",
              " 5,\n",
              " 2,\n",
              " 6,\n",
              " 2,\n",
              " 4,\n",
              " 2,\n",
              " 2,\n",
              " 7,\n",
              " 1,\n",
              " 1,\n",
              " 5,\n",
              " 1,\n",
              " 1,\n",
              " 8,\n",
              " 3,\n",
              " 2,\n",
              " 9,\n",
              " 3,\n",
              " 4,\n",
              " 2,\n",
              " 3,\n",
              " 3,\n",
              " 1,\n",
              " 4,\n",
              " 5,\n",
              " 7,\n",
              " 1,\n",
              " 5,\n",
              " 4,\n",
              " 6,\n",
              " 3,\n",
              " 5,\n",
              " 8,\n",
              " 2,\n",
              " 3,\n",
              " 3,\n",
              " 1,\n",
              " 8,\n",
              " 1,\n",
              " 5,\n",
              " 3,\n",
              " 6,\n",
              " 1,\n",
              " 3,\n",
              " 3,\n",
              " 2,\n",
              " 1,\n",
              " 4,\n",
              " 9,\n",
              " 4,\n",
              " 1,\n",
              " 3,\n",
              " 4,\n",
              " 4,\n",
              " 7,\n",
              " 2,\n",
              " 1,\n",
              " 4,\n",
              " 1,\n",
              " 7,\n",
              " 1,\n",
              " 7,\n",
              " 3,\n",
              " 5,\n",
              " 2,\n",
              " 3,\n",
              " 5,\n",
              " 1,\n",
              " 3,\n",
              " 7,\n",
              " 3,\n",
              " 3,\n",
              " 6,\n",
              " 3,\n",
              " 4,\n",
              " 1,\n",
              " 4,\n",
              " 2,\n",
              " 2,\n",
              " 5,\n",
              " 1,\n",
              " 1,\n",
              " 6,\n",
              " 1,\n",
              " 1,\n",
              " 3,\n",
              " 4,\n",
              " 7,\n",
              " 2,\n",
              " 1,\n",
              " 2,\n",
              " 7,\n",
              " 4,\n",
              " 7,\n",
              " 4,\n",
              " 4,\n",
              " 1,\n",
              " 4,\n",
              " 2,\n",
              " 8,\n",
              " 5,\n",
              " 1,\n",
              " 6,\n",
              " 1,\n",
              " 5,\n",
              " 3,\n",
              " 5,\n",
              " 2,\n",
              " 4,\n",
              " 5,\n",
              " 5,\n",
              " 3,\n",
              " 5,\n",
              " 5,\n",
              " 1,\n",
              " 2,\n",
              " 5,\n",
              " 2,\n",
              " 7,\n",
              " 4,\n",
              " 2,\n",
              " 3,\n",
              " 4,\n",
              " 1,\n",
              " 3,\n",
              " 3,\n",
              " 4,\n",
              " 6,\n",
              " 4,\n",
              " 7,\n",
              " 2,\n",
              " 3,\n",
              " 3,\n",
              " 7,\n",
              " 1,\n",
              " 2,\n",
              " 5,\n",
              " 4,\n",
              " 4,\n",
              " 5,\n",
              " 1,\n",
              " 5,\n",
              " 1,\n",
              " 4,\n",
              " 5,\n",
              " 5,\n",
              " 4,\n",
              " 1,\n",
              " 2,\n",
              " ...]"
            ]
          },
          "metadata": {},
          "execution_count": 72
        }
      ],
      "source": [
        "[len(w) for w in text1]"
      ]
    },
    {
      "cell_type": "code",
      "execution_count": 73,
      "metadata": {
        "id": "qMQ5YV17P1Wj",
        "colab": {
          "base_uri": "https://localhost:8080/"
        },
        "outputId": "ab40d4ba-0ad6-4faf-b92c-08a8220d84ae"
      },
      "outputs": [
        {
          "output_type": "stream",
          "name": "stdout",
          "text": [
            "<FreqDist with 19 samples and 260819 outcomes>\n"
          ]
        }
      ],
      "source": [
        "fdist = FreqDist(len(w) for w in text1)\n",
        "print(fdist)"
      ]
    },
    {
      "cell_type": "code",
      "execution_count": 74,
      "metadata": {
        "id": "jD7d4SCxP1Wj",
        "colab": {
          "base_uri": "https://localhost:8080/"
        },
        "outputId": "0a9ba809-e5ca-4995-9efa-cb5acca782e4"
      },
      "outputs": [
        {
          "output_type": "execute_result",
          "data": {
            "text/plain": [
              "FreqDist({3: 50223, 1: 47933, 4: 42345, 2: 38513, 5: 26597, 6: 17111, 7: 14399, 8: 9966, 9: 6428, 10: 3528, ...})"
            ]
          },
          "metadata": {},
          "execution_count": 74
        }
      ],
      "source": [
        "fdist"
      ]
    },
    {
      "cell_type": "markdown",
      "metadata": {
        "id": "youfx7V0P1Wj"
      },
      "source": [
        "We start by deriving a list of the lengths of words in text1, and the FreqDist then counts the number of times each of these occurs. The result is a distribution containing a quarter of a million items, each of which is a number corresponding to a word token in the text. But there are at most only 20 distinct items being counted, the numbers 1 through 20, because there are only 20 different word lengths. I.e., there are words consisting of just one character, two characters, ..., twenty characters, but none with twenty one or more characters. One might wonder how frequent the different lengths of word are (e.g., how many words of length four appear in the text, are there more words of length five than length four, etc). We can do this as follows:"
      ]
    },
    {
      "cell_type": "code",
      "execution_count": 75,
      "metadata": {
        "id": "PLWNZKYAP1Wk",
        "colab": {
          "base_uri": "https://localhost:8080/"
        },
        "outputId": "b4cc61ac-b537-4c88-9caa-ddb3fd8834d4"
      },
      "outputs": [
        {
          "output_type": "execute_result",
          "data": {
            "text/plain": [
              "[(3, 50223),\n",
              " (1, 47933),\n",
              " (4, 42345),\n",
              " (2, 38513),\n",
              " (5, 26597),\n",
              " (6, 17111),\n",
              " (7, 14399),\n",
              " (8, 9966),\n",
              " (9, 6428),\n",
              " (10, 3528),\n",
              " (11, 1873),\n",
              " (12, 1053),\n",
              " (13, 567),\n",
              " (14, 177),\n",
              " (15, 70),\n",
              " (16, 22),\n",
              " (17, 12),\n",
              " (18, 1),\n",
              " (20, 1)]"
            ]
          },
          "metadata": {},
          "execution_count": 75
        }
      ],
      "source": [
        "fdist.most_common()"
      ]
    },
    {
      "cell_type": "code",
      "execution_count": 76,
      "metadata": {
        "id": "iQ7tH-tKP1Wk",
        "colab": {
          "base_uri": "https://localhost:8080/"
        },
        "outputId": "a336b3de-6725-4386-e697-c819d87e8c03"
      },
      "outputs": [
        {
          "output_type": "execute_result",
          "data": {
            "text/plain": [
              "3"
            ]
          },
          "metadata": {},
          "execution_count": 76
        }
      ],
      "source": [
        "fdist.max()"
      ]
    },
    {
      "cell_type": "code",
      "execution_count": 77,
      "metadata": {
        "id": "n40HG8_CP1Wk",
        "colab": {
          "base_uri": "https://localhost:8080/"
        },
        "outputId": "a99495ee-54e6-48b5-afbb-17dbbd518c65"
      },
      "outputs": [
        {
          "output_type": "execute_result",
          "data": {
            "text/plain": [
              "50223"
            ]
          },
          "metadata": {},
          "execution_count": 77
        }
      ],
      "source": [
        "fdist[3]"
      ]
    },
    {
      "cell_type": "code",
      "execution_count": 78,
      "metadata": {
        "id": "YURHA8etP1Wk",
        "colab": {
          "base_uri": "https://localhost:8080/"
        },
        "outputId": "fc350bee-3609-4c57-b52e-1aa70ed7e375"
      },
      "outputs": [
        {
          "output_type": "execute_result",
          "data": {
            "text/plain": [
              "0.19255882431878046"
            ]
          },
          "metadata": {},
          "execution_count": 78
        }
      ],
      "source": [
        "fdist.freq(3)"
      ]
    },
    {
      "cell_type": "code",
      "source": [
        "fdist.plot(50, cumulative=False)"
      ],
      "metadata": {
        "colab": {
          "base_uri": "https://localhost:8080/",
          "height": 300
        },
        "id": "Gq9-c3TWVCct",
        "outputId": "a4c3d4c2-152e-495d-f503-4ca8b99dfbc2"
      },
      "execution_count": 81,
      "outputs": [
        {
          "output_type": "display_data",
          "data": {
            "text/plain": [
              "<Figure size 432x288 with 1 Axes>"
            ],
            "image/png": "[encoded data removed]"
          },
          "metadata": {
            "needs_background": "light"
          }
        },
        {
          "output_type": "execute_result",
          "data": {
            "text/plain": [
              "<matplotlib.axes._subplots.AxesSubplot at 0x7f23368e64c0>"
            ]
          },
          "metadata": {},
          "execution_count": 81
        }
      ]
    },
    {
      "cell_type": "markdown",
      "metadata": {
        "id": "wbNQ7wqjP1Wk"
      },
      "source": [
        "From this we see that the most frequent word length is 3, and that words of length 3 account for roughly 50,000 (or 20%) of the words making up the book. Although we will not pursue it here, further analysis of word length might help us understand differences between authors, genres, or languages.\n",
        "\n"
      ]
    },
    {
      "cell_type": "code",
      "source": [],
      "metadata": {
        "id": "kHGrKGUIVxEp"
      },
      "execution_count": null,
      "outputs": []
    }
  ],
  "metadata": {
    "kernelspec": {
      "display_name": "Python 3",
      "language": "python",
      "name": "python3"
    },
    "language_info": {
      "codemirror_mode": {
        "name": "ipython",
        "version": 3
      },
      "file_extension": ".py",
      "mimetype": "text/x-python",
      "name": "python",
      "nbconvert_exporter": "python",
      "pygments_lexer": "ipython3",
      "version": "3.6.3"
    },
    "colab": {
      "provenance": [],
      "include_colab_link": true
    }
  },
  "nbformat": 4,
  "nbformat_minor": 0
}